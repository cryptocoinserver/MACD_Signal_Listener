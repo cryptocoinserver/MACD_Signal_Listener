{
 "cells": [
  {
   "cell_type": "markdown",
   "metadata": {
    "colab_type": "text",
    "id": "pQWfP-VMvX7c"
   },
   "source": [
    "# Introduction\n",
    "\n",
    "In this notebook, I study the generation of a ZIGZAG indicator based on BollingerBands indicator with Multi-Timeframe capabilities."
   ]
  },
  {
   "cell_type": "code",
   "execution_count": 10,
   "metadata": {},
   "outputs": [
    {
     "data": {
      "text/html": [
       "<script>requirejs.config({paths: { 'plotly': ['https://cdn.plot.ly/plotly-latest.min']},});if(!window.Plotly) {{require(['plotly'],function(plotly) {window.Plotly=plotly;});}}</script>"
      ],
      "text/vnd.plotly.v1+html": [
       "<script>requirejs.config({paths: { 'plotly': ['https://cdn.plot.ly/plotly-latest.min']},});if(!window.Plotly) {{require(['plotly'],function(plotly) {window.Plotly=plotly;});}}</script>"
      ]
     },
     "metadata": {},
     "output_type": "display_data"
    },
    {
     "name": "stdout",
     "output_type": "stream",
     "text": [
      "Packages loaded!!\n"
     ]
    }
   ],
   "source": [
    "import sys\n",
    "\n",
    "####################################################################################\n",
    "# Data handling \n",
    "import pandas as pd\n",
    "from pandas import concat\n",
    "from pandas.plotting import scatter_matrix\n",
    "import numpy as np\n",
    "\n",
    "####################################################################################\n",
    "# Visualization\n",
    "import matplotlib.pyplot as plt\n",
    "from matplotlib import dates, ticker\n",
    "from matplotlib.dates import (MONDAY, DateFormatter, MonthLocator, WeekdayLocator, date2num)\n",
    "import matplotlib as mpl\n",
    "import plotly\n",
    "import plotly.plotly as py\n",
    "import plotly.graph_objs as go\n",
    "from plotly.graph_objs import *\n",
    "from plotly.tools import FigureFactory as FF\n",
    "import plotly.tools as tls\n",
    "plotly.offline.init_notebook_mode(connected=True)\n",
    "\n",
    "####################################################################################\n",
    "# TA-Lib: \n",
    "import talib\n",
    "\n",
    "####################################################################################\n",
    "# Other utilities\n",
    "import datetime\n",
    "import time\n",
    "import os\n",
    "import sys\n",
    "import math\n",
    "from enum import Enum\n",
    "import logging\n",
    "logging.basicConfig(level=logging.DEBUG, stream=sys.stdout)\n",
    "\n",
    "print('Packages loaded!!')"
   ]
  },
  {
   "cell_type": "code",
   "execution_count": 11,
   "metadata": {},
   "outputs": [
    {
     "name": "stdout",
     "output_type": "stream",
     "text": [
      "Done!\n"
     ]
    }
   ],
   "source": [
    "# Append path for MACD_Signal_Listener class (parent folder)\n",
    "sys.path.append('..')\n",
    "\n",
    "# import main class and event class\n",
    "from ZIGZAG_Signal_Listener import ZIGZAG_Signal_Listener\n",
    "\n",
    "print('Done!')"
   ]
  },
  {
   "cell_type": "code",
   "execution_count": 6,
   "metadata": {},
   "outputs": [
    {
     "name": "stdout",
     "output_type": "stream",
     "text": [
      "INFO:ZIGZAG_Signal_Listener:Created!\n"
     ]
    },
    {
     "data": {
      "text/plain": [
       "<ZIGZAG_Signal_Listener.ZIGZAG_Signal_Listener at 0x509feb8>"
      ]
     },
     "execution_count": 6,
     "metadata": {},
     "output_type": "execute_result"
    }
   ],
   "source": [
    "# creates zigzag signal listener\n",
    "zz = ZIGZAG_Signal_Listener(level=logging.DEBUG)\n",
    "zz"
   ]
  },
  {
   "cell_type": "markdown",
   "metadata": {},
   "source": [
    "## Configurations\n",
    "\n",
    "### 1) One indicator per timeframe"
   ]
  },
  {
   "cell_type": "code",
   "execution_count": 17,
   "metadata": {},
   "outputs": [
    {
     "name": "stdout",
     "output_type": "stream",
     "text": [
      "m15_rows=109028, h1_rows=27264, h4_rows=6825\n"
     ]
    }
   ],
   "source": [
    "# loads df dataframe at M15, H1 and H4\n",
    "df_M15 = pd.read_csv('../csv_data/EURUSD_M15.csv', sep=';')\n",
    "df_M15['TIME'] = df_M15['DATE'] + '  ' + df_M15['TIME'] \n",
    "df_M15['TIME'] = df_M15['TIME'].map(lambda x: datetime.datetime.strptime(x, '%Y.%m.%d %H:%M:%S'))  \n",
    "df_M15['TIME'] = pd.to_datetime(df_M15['TIME'])\n",
    "df_M15 = df_M15[['TIME', 'OPEN','HIGH','LOW','CLOSE']]\n",
    "\n",
    "df_H1 = pd.read_csv('../csv_data/EURUSD_H1.csv', sep=';')\n",
    "df_H1['TIME'] = df_H1['DATE'] + '  ' + df_H1['TIME'] \n",
    "df_H1['TIME'] = df_H1['TIME'].map(lambda x: datetime.datetime.strptime(x, '%Y.%m.%d %H:%M:%S'))  \n",
    "df_H1['TIME'] = pd.to_datetime(df_H1['TIME'])\n",
    "df_H1 = df_H1[['TIME', 'OPEN','HIGH','LOW','CLOSE']]\n",
    "\n",
    "df_H4 = pd.read_csv('../csv_data/EURUSD_H4.csv', sep=';')\n",
    "df_H4['TIME'] = df_H4['DATE'] + '  ' + df_H4['TIME'] \n",
    "df_H4['TIME'] = df_H4['TIME'].map(lambda x: datetime.datetime.strptime(x, '%Y.%m.%d %H:%M:%S'))  \n",
    "df_H4['TIME'] = pd.to_datetime(df_H4['TIME'])\n",
    "df_H4 = df_H4[['TIME', 'OPEN','HIGH','LOW','CLOSE']]\n",
    "\n",
    "print('m15_rows={}, h1_rows={}, h4_rows={}'.format(df_M15.shape[0],df_H1.shape[0],df_H4.shape[0]))"
   ]
  },
  {
   "cell_type": "code",
   "execution_count": 18,
   "metadata": {
    "scrolled": true
   },
   "outputs": [
    {
     "ename": "KeyboardInterrupt",
     "evalue": "",
     "output_type": "error",
     "traceback": [
      "\u001b[1;31m---------------------------------------------------------------------------\u001b[0m",
      "\u001b[1;31mKeyboardInterrupt\u001b[0m                         Traceback (most recent call last)",
      "\u001b[1;32m<ipython-input-18-5dd152faef49>\u001b[0m in \u001b[0;36m<module>\u001b[1;34m\u001b[0m\n\u001b[0;32m     13\u001b[0m                                     \u001b[0mbb_sma\u001b[0m \u001b[1;33m=\u001b[0m \u001b[1;33m[\u001b[0m\u001b[1;36m100\u001b[0m\u001b[1;33m]\u001b[0m\u001b[1;33m,\u001b[0m\u001b[1;33m\u001b[0m\u001b[0m\n\u001b[0;32m     14\u001b[0m                                     \u001b[0mnan_value\u001b[0m \u001b[1;33m=\u001b[0m \u001b[1;36m0.0\u001b[0m\u001b[1;33m,\u001b[0m\u001b[1;33m\u001b[0m\u001b[0m\n\u001b[1;32m---> 15\u001b[1;33m                                     level=logging.WARN)\n\u001b[0m\u001b[0;32m     16\u001b[0m _df_M15_result, _events = zz.ZIGZAG(df_M15, \n\u001b[0;32m     17\u001b[0m                                     \u001b[0mminbars\u001b[0m\u001b[1;33m=\u001b[0m\u001b[1;36m12\u001b[0m\u001b[1;33m,\u001b[0m\u001b[1;33m\u001b[0m\u001b[0m\n",
      "\u001b[1;32m~\\workspace\\github_raulMrello\\MACD_Signal_Listener\\ZIGZAG_Signal_Listener.py\u001b[0m in \u001b[0;36mZIGZAG\u001b[1;34m(self, df, minbars, bb_period, bb_dev, bb_sma, nan_value, level)\u001b[0m\n\u001b[0;32m    279\u001b[0m       \u001b[0m_df\u001b[0m\u001b[1;33m[\u001b[0m\u001b[1;34m'P{}_idx'\u001b[0m\u001b[1;33m.\u001b[0m\u001b[0mformat\u001b[0m\u001b[1;33m(\u001b[0m\u001b[0mi\u001b[0m\u001b[1;33m)\u001b[0m\u001b[1;33m]\u001b[0m \u001b[1;33m=\u001b[0m \u001b[1;36m0\u001b[0m\u001b[1;33m\u001b[0m\u001b[0m\n\u001b[0;32m    280\u001b[0m \u001b[1;33m\u001b[0m\u001b[0m\n\u001b[1;32m--> 281\u001b[1;33m     \u001b[0m_df\u001b[0m\u001b[1;33m.\u001b[0m\u001b[0mapply\u001b[0m\u001b[1;33m(\u001b[0m\u001b[1;32mlambda\u001b[0m \u001b[0mx\u001b[0m\u001b[1;33m:\u001b[0m \u001b[0maction\u001b[0m\u001b[1;33m.\u001b[0m\u001b[0mpoints\u001b[0m\u001b[1;33m(\u001b[0m\u001b[0mx\u001b[0m\u001b[1;33m,\u001b[0m \u001b[0m_df\u001b[0m\u001b[1;33m,\u001b[0m \u001b[0mnan_value\u001b[0m\u001b[1;33m)\u001b[0m\u001b[1;33m,\u001b[0m \u001b[0maxis\u001b[0m\u001b[1;33m=\u001b[0m\u001b[1;36m1\u001b[0m\u001b[1;33m)\u001b[0m\u001b[1;33m\u001b[0m\u001b[0m\n\u001b[0m\u001b[0;32m    282\u001b[0m     \u001b[0mself\u001b[0m\u001b[1;33m.\u001b[0m\u001b[0m__df\u001b[0m \u001b[1;33m=\u001b[0m \u001b[0m_df\u001b[0m\u001b[1;33m\u001b[0m\u001b[0m\n\u001b[0;32m    283\u001b[0m     \u001b[0mself\u001b[0m\u001b[1;33m.\u001b[0m\u001b[0m__action\u001b[0m \u001b[1;33m=\u001b[0m \u001b[0maction\u001b[0m\u001b[1;33m\u001b[0m\u001b[0m\n",
      "\u001b[1;32m~\\Programas\\anaconda3\\envs\\keras\\lib\\site-packages\\pandas\\core\\frame.py\u001b[0m in \u001b[0;36mapply\u001b[1;34m(self, func, axis, broadcast, raw, reduce, result_type, args, **kwds)\u001b[0m\n\u001b[0;32m   6012\u001b[0m                          \u001b[0margs\u001b[0m\u001b[1;33m=\u001b[0m\u001b[0margs\u001b[0m\u001b[1;33m,\u001b[0m\u001b[1;33m\u001b[0m\u001b[0m\n\u001b[0;32m   6013\u001b[0m                          kwds=kwds)\n\u001b[1;32m-> 6014\u001b[1;33m         \u001b[1;32mreturn\u001b[0m \u001b[0mop\u001b[0m\u001b[1;33m.\u001b[0m\u001b[0mget_result\u001b[0m\u001b[1;33m(\u001b[0m\u001b[1;33m)\u001b[0m\u001b[1;33m\u001b[0m\u001b[0m\n\u001b[0m\u001b[0;32m   6015\u001b[0m \u001b[1;33m\u001b[0m\u001b[0m\n\u001b[0;32m   6016\u001b[0m     \u001b[1;32mdef\u001b[0m \u001b[0mapplymap\u001b[0m\u001b[1;33m(\u001b[0m\u001b[0mself\u001b[0m\u001b[1;33m,\u001b[0m \u001b[0mfunc\u001b[0m\u001b[1;33m)\u001b[0m\u001b[1;33m:\u001b[0m\u001b[1;33m\u001b[0m\u001b[0m\n",
      "\u001b[1;32m~\\Programas\\anaconda3\\envs\\keras\\lib\\site-packages\\pandas\\core\\apply.py\u001b[0m in \u001b[0;36mget_result\u001b[1;34m(self)\u001b[0m\n\u001b[0;32m    140\u001b[0m             \u001b[1;32mreturn\u001b[0m \u001b[0mself\u001b[0m\u001b[1;33m.\u001b[0m\u001b[0mapply_raw\u001b[0m\u001b[1;33m(\u001b[0m\u001b[1;33m)\u001b[0m\u001b[1;33m\u001b[0m\u001b[0m\n\u001b[0;32m    141\u001b[0m \u001b[1;33m\u001b[0m\u001b[0m\n\u001b[1;32m--> 142\u001b[1;33m         \u001b[1;32mreturn\u001b[0m \u001b[0mself\u001b[0m\u001b[1;33m.\u001b[0m\u001b[0mapply_standard\u001b[0m\u001b[1;33m(\u001b[0m\u001b[1;33m)\u001b[0m\u001b[1;33m\u001b[0m\u001b[0m\n\u001b[0m\u001b[0;32m    143\u001b[0m \u001b[1;33m\u001b[0m\u001b[0m\n\u001b[0;32m    144\u001b[0m     \u001b[1;32mdef\u001b[0m \u001b[0mapply_empty_result\u001b[0m\u001b[1;33m(\u001b[0m\u001b[0mself\u001b[0m\u001b[1;33m)\u001b[0m\u001b[1;33m:\u001b[0m\u001b[1;33m\u001b[0m\u001b[0m\n",
      "\u001b[1;32m~\\Programas\\anaconda3\\envs\\keras\\lib\\site-packages\\pandas\\core\\apply.py\u001b[0m in \u001b[0;36mapply_standard\u001b[1;34m(self)\u001b[0m\n\u001b[0;32m    240\u001b[0m                                           \u001b[0maxis\u001b[0m\u001b[1;33m=\u001b[0m\u001b[0mself\u001b[0m\u001b[1;33m.\u001b[0m\u001b[0maxis\u001b[0m\u001b[1;33m,\u001b[0m\u001b[1;33m\u001b[0m\u001b[0m\n\u001b[0;32m    241\u001b[0m                                           \u001b[0mdummy\u001b[0m\u001b[1;33m=\u001b[0m\u001b[0mdummy\u001b[0m\u001b[1;33m,\u001b[0m\u001b[1;33m\u001b[0m\u001b[0m\n\u001b[1;32m--> 242\u001b[1;33m                                           labels=labels)\n\u001b[0m\u001b[0;32m    243\u001b[0m                 \u001b[1;32mreturn\u001b[0m \u001b[0mself\u001b[0m\u001b[1;33m.\u001b[0m\u001b[0mobj\u001b[0m\u001b[1;33m.\u001b[0m\u001b[0m_constructor_sliced\u001b[0m\u001b[1;33m(\u001b[0m\u001b[0mresult\u001b[0m\u001b[1;33m,\u001b[0m \u001b[0mindex\u001b[0m\u001b[1;33m=\u001b[0m\u001b[0mlabels\u001b[0m\u001b[1;33m)\u001b[0m\u001b[1;33m\u001b[0m\u001b[0m\n\u001b[0;32m    244\u001b[0m             \u001b[1;32mexcept\u001b[0m \u001b[0mException\u001b[0m\u001b[1;33m:\u001b[0m\u001b[1;33m\u001b[0m\u001b[0m\n",
      "\u001b[1;32mpandas\\_libs\\reduction.pyx\u001b[0m in \u001b[0;36mpandas._libs.reduction.reduce\u001b[1;34m()\u001b[0m\n",
      "\u001b[1;32mpandas\\_libs\\reduction.pyx\u001b[0m in \u001b[0;36mpandas._libs.reduction.Reducer.get_result\u001b[1;34m()\u001b[0m\n",
      "\u001b[1;32m~\\workspace\\github_raulMrello\\MACD_Signal_Listener\\ZIGZAG_Signal_Listener.py\u001b[0m in \u001b[0;36m<lambda>\u001b[1;34m(x)\u001b[0m\n\u001b[0;32m    279\u001b[0m       \u001b[0m_df\u001b[0m\u001b[1;33m[\u001b[0m\u001b[1;34m'P{}_idx'\u001b[0m\u001b[1;33m.\u001b[0m\u001b[0mformat\u001b[0m\u001b[1;33m(\u001b[0m\u001b[0mi\u001b[0m\u001b[1;33m)\u001b[0m\u001b[1;33m]\u001b[0m \u001b[1;33m=\u001b[0m \u001b[1;36m0\u001b[0m\u001b[1;33m\u001b[0m\u001b[0m\n\u001b[0;32m    280\u001b[0m \u001b[1;33m\u001b[0m\u001b[0m\n\u001b[1;32m--> 281\u001b[1;33m     \u001b[0m_df\u001b[0m\u001b[1;33m.\u001b[0m\u001b[0mapply\u001b[0m\u001b[1;33m(\u001b[0m\u001b[1;32mlambda\u001b[0m \u001b[0mx\u001b[0m\u001b[1;33m:\u001b[0m \u001b[0maction\u001b[0m\u001b[1;33m.\u001b[0m\u001b[0mpoints\u001b[0m\u001b[1;33m(\u001b[0m\u001b[0mx\u001b[0m\u001b[1;33m,\u001b[0m \u001b[0m_df\u001b[0m\u001b[1;33m,\u001b[0m \u001b[0mnan_value\u001b[0m\u001b[1;33m)\u001b[0m\u001b[1;33m,\u001b[0m \u001b[0maxis\u001b[0m\u001b[1;33m=\u001b[0m\u001b[1;36m1\u001b[0m\u001b[1;33m)\u001b[0m\u001b[1;33m\u001b[0m\u001b[0m\n\u001b[0m\u001b[0;32m    282\u001b[0m     \u001b[0mself\u001b[0m\u001b[1;33m.\u001b[0m\u001b[0m__df\u001b[0m \u001b[1;33m=\u001b[0m \u001b[0m_df\u001b[0m\u001b[1;33m\u001b[0m\u001b[0m\n\u001b[0;32m    283\u001b[0m     \u001b[0mself\u001b[0m\u001b[1;33m.\u001b[0m\u001b[0m__action\u001b[0m \u001b[1;33m=\u001b[0m \u001b[0maction\u001b[0m\u001b[1;33m\u001b[0m\u001b[0m\n",
      "\u001b[1;32m~\\workspace\\github_raulMrello\\MACD_Signal_Listener\\ZIGZAG_Signal_Listener.py\u001b[0m in \u001b[0;36mpoints\u001b[1;34m(self, row, df, nan_value)\u001b[0m\n\u001b[0;32m    223\u001b[0m \u001b[1;33m\u001b[0m\u001b[0m\n\u001b[0;32m    224\u001b[0m         \u001b[1;31m# get last 5 zigzag points\u001b[0m\u001b[1;33m\u001b[0m\u001b[1;33m\u001b[0m\u001b[0m\n\u001b[1;32m--> 225\u001b[1;33m         \u001b[0mzzpoints\u001b[0m \u001b[1;33m=\u001b[0m \u001b[0mdf\u001b[0m\u001b[1;33m.\u001b[0m\u001b[0mZIGZAG\u001b[0m\u001b[1;33m[\u001b[0m\u001b[1;33m(\u001b[0m\u001b[0mdf\u001b[0m\u001b[1;33m.\u001b[0m\u001b[0mindex\u001b[0m \u001b[1;33m<\u001b[0m \u001b[0mrow\u001b[0m\u001b[1;33m.\u001b[0m\u001b[0mname\u001b[0m\u001b[1;33m)\u001b[0m \u001b[1;33m&\u001b[0m \u001b[1;33m(\u001b[0m\u001b[0mdf\u001b[0m\u001b[1;33m.\u001b[0m\u001b[0mZIGZAG\u001b[0m \u001b[1;33m!=\u001b[0m \u001b[0mnan_value\u001b[0m\u001b[1;33m)\u001b[0m \u001b[1;33m&\u001b[0m \u001b[1;33m(\u001b[0m\u001b[0mdf\u001b[0m\u001b[1;33m.\u001b[0m\u001b[0mACTION\u001b[0m\u001b[1;33m.\u001b[0m\u001b[0mstr\u001b[0m\u001b[1;33m.\u001b[0m\u001b[0mcontains\u001b[0m\u001b[1;33m(\u001b[0m\u001b[1;34m'in-progress'\u001b[0m\u001b[1;33m)\u001b[0m\u001b[1;33m==\u001b[0m\u001b[1;32mFalse\u001b[0m\u001b[1;33m)\u001b[0m\u001b[1;33m]\u001b[0m\u001b[1;33m\u001b[0m\u001b[0m\n\u001b[0m\u001b[0;32m    226\u001b[0m         \u001b[1;31m# at least requires 5 points, else discard\u001b[0m\u001b[1;33m\u001b[0m\u001b[1;33m\u001b[0m\u001b[0m\n\u001b[0;32m    227\u001b[0m         \u001b[1;32mif\u001b[0m \u001b[0mzzpoints\u001b[0m\u001b[1;33m.\u001b[0m\u001b[0mshape\u001b[0m\u001b[1;33m[\u001b[0m\u001b[1;36m0\u001b[0m\u001b[1;33m]\u001b[0m \u001b[1;33m<\u001b[0m \u001b[1;36m5\u001b[0m\u001b[1;33m:\u001b[0m\u001b[1;33m\u001b[0m\u001b[0m\n",
      "\u001b[1;32m~\\Programas\\anaconda3\\envs\\keras\\lib\\site-packages\\pandas\\core\\strings.py\u001b[0m in \u001b[0;36mcontains\u001b[1;34m(self, pat, case, flags, na, regex)\u001b[0m\n\u001b[0;32m   2415\u001b[0m     \u001b[1;32mdef\u001b[0m \u001b[0mcontains\u001b[0m\u001b[1;33m(\u001b[0m\u001b[0mself\u001b[0m\u001b[1;33m,\u001b[0m \u001b[0mpat\u001b[0m\u001b[1;33m,\u001b[0m \u001b[0mcase\u001b[0m\u001b[1;33m=\u001b[0m\u001b[1;32mTrue\u001b[0m\u001b[1;33m,\u001b[0m \u001b[0mflags\u001b[0m\u001b[1;33m=\u001b[0m\u001b[1;36m0\u001b[0m\u001b[1;33m,\u001b[0m \u001b[0mna\u001b[0m\u001b[1;33m=\u001b[0m\u001b[0mnp\u001b[0m\u001b[1;33m.\u001b[0m\u001b[0mnan\u001b[0m\u001b[1;33m,\u001b[0m \u001b[0mregex\u001b[0m\u001b[1;33m=\u001b[0m\u001b[1;32mTrue\u001b[0m\u001b[1;33m)\u001b[0m\u001b[1;33m:\u001b[0m\u001b[1;33m\u001b[0m\u001b[0m\n\u001b[0;32m   2416\u001b[0m         result = str_contains(self._data, pat, case=case, flags=flags, na=na,\n\u001b[1;32m-> 2417\u001b[1;33m                               regex=regex)\n\u001b[0m\u001b[0;32m   2418\u001b[0m         \u001b[1;32mreturn\u001b[0m \u001b[0mself\u001b[0m\u001b[1;33m.\u001b[0m\u001b[0m_wrap_result\u001b[0m\u001b[1;33m(\u001b[0m\u001b[0mresult\u001b[0m\u001b[1;33m)\u001b[0m\u001b[1;33m\u001b[0m\u001b[0m\n\u001b[0;32m   2419\u001b[0m \u001b[1;33m\u001b[0m\u001b[0m\n",
      "\u001b[1;32m~\\Programas\\anaconda3\\envs\\keras\\lib\\site-packages\\pandas\\core\\strings.py\u001b[0m in \u001b[0;36mstr_contains\u001b[1;34m(arr, pat, case, flags, na, regex)\u001b[0m\n\u001b[0;32m    401\u001b[0m             \u001b[0muppered\u001b[0m \u001b[1;33m=\u001b[0m \u001b[0m_na_map\u001b[0m\u001b[1;33m(\u001b[0m\u001b[1;32mlambda\u001b[0m \u001b[0mx\u001b[0m\u001b[1;33m:\u001b[0m \u001b[0mx\u001b[0m\u001b[1;33m.\u001b[0m\u001b[0mupper\u001b[0m\u001b[1;33m(\u001b[0m\u001b[1;33m)\u001b[0m\u001b[1;33m,\u001b[0m \u001b[0marr\u001b[0m\u001b[1;33m)\u001b[0m\u001b[1;33m\u001b[0m\u001b[0m\n\u001b[0;32m    402\u001b[0m             \u001b[1;32mreturn\u001b[0m \u001b[0m_na_map\u001b[0m\u001b[1;33m(\u001b[0m\u001b[0mf\u001b[0m\u001b[1;33m,\u001b[0m \u001b[0muppered\u001b[0m\u001b[1;33m,\u001b[0m \u001b[0mna\u001b[0m\u001b[1;33m,\u001b[0m \u001b[0mdtype\u001b[0m\u001b[1;33m=\u001b[0m\u001b[0mbool\u001b[0m\u001b[1;33m)\u001b[0m\u001b[1;33m\u001b[0m\u001b[0m\n\u001b[1;32m--> 403\u001b[1;33m     \u001b[1;32mreturn\u001b[0m \u001b[0m_na_map\u001b[0m\u001b[1;33m(\u001b[0m\u001b[0mf\u001b[0m\u001b[1;33m,\u001b[0m \u001b[0marr\u001b[0m\u001b[1;33m,\u001b[0m \u001b[0mna\u001b[0m\u001b[1;33m,\u001b[0m \u001b[0mdtype\u001b[0m\u001b[1;33m=\u001b[0m\u001b[0mbool\u001b[0m\u001b[1;33m)\u001b[0m\u001b[1;33m\u001b[0m\u001b[0m\n\u001b[0m\u001b[0;32m    404\u001b[0m \u001b[1;33m\u001b[0m\u001b[0m\n\u001b[0;32m    405\u001b[0m \u001b[1;33m\u001b[0m\u001b[0m\n",
      "\u001b[1;32m~\\Programas\\anaconda3\\envs\\keras\\lib\\site-packages\\pandas\\core\\strings.py\u001b[0m in \u001b[0;36m_na_map\u001b[1;34m(f, arr, na_result, dtype)\u001b[0m\n\u001b[0;32m    148\u001b[0m \u001b[1;32mdef\u001b[0m \u001b[0m_na_map\u001b[0m\u001b[1;33m(\u001b[0m\u001b[0mf\u001b[0m\u001b[1;33m,\u001b[0m \u001b[0marr\u001b[0m\u001b[1;33m,\u001b[0m \u001b[0mna_result\u001b[0m\u001b[1;33m=\u001b[0m\u001b[0mnp\u001b[0m\u001b[1;33m.\u001b[0m\u001b[0mnan\u001b[0m\u001b[1;33m,\u001b[0m \u001b[0mdtype\u001b[0m\u001b[1;33m=\u001b[0m\u001b[0mobject\u001b[0m\u001b[1;33m)\u001b[0m\u001b[1;33m:\u001b[0m\u001b[1;33m\u001b[0m\u001b[0m\n\u001b[0;32m    149\u001b[0m     \u001b[1;31m# should really _check_ for NA\u001b[0m\u001b[1;33m\u001b[0m\u001b[1;33m\u001b[0m\u001b[0m\n\u001b[1;32m--> 150\u001b[1;33m     \u001b[1;32mreturn\u001b[0m \u001b[0m_map\u001b[0m\u001b[1;33m(\u001b[0m\u001b[0mf\u001b[0m\u001b[1;33m,\u001b[0m \u001b[0marr\u001b[0m\u001b[1;33m,\u001b[0m \u001b[0mna_mask\u001b[0m\u001b[1;33m=\u001b[0m\u001b[1;32mTrue\u001b[0m\u001b[1;33m,\u001b[0m \u001b[0mna_value\u001b[0m\u001b[1;33m=\u001b[0m\u001b[0mna_result\u001b[0m\u001b[1;33m,\u001b[0m \u001b[0mdtype\u001b[0m\u001b[1;33m=\u001b[0m\u001b[0mdtype\u001b[0m\u001b[1;33m)\u001b[0m\u001b[1;33m\u001b[0m\u001b[0m\n\u001b[0m\u001b[0;32m    151\u001b[0m \u001b[1;33m\u001b[0m\u001b[0m\n\u001b[0;32m    152\u001b[0m \u001b[1;33m\u001b[0m\u001b[0m\n",
      "\u001b[1;32m~\\Programas\\anaconda3\\envs\\keras\\lib\\site-packages\\pandas\\core\\strings.py\u001b[0m in \u001b[0;36m_map\u001b[1;34m(f, arr, na_mask, na_value, dtype)\u001b[0m\n\u001b[0;32m    163\u001b[0m         \u001b[1;32mtry\u001b[0m\u001b[1;33m:\u001b[0m\u001b[1;33m\u001b[0m\u001b[0m\n\u001b[0;32m    164\u001b[0m             \u001b[0mconvert\u001b[0m \u001b[1;33m=\u001b[0m \u001b[1;32mnot\u001b[0m \u001b[0mall\u001b[0m\u001b[1;33m(\u001b[0m\u001b[0mmask\u001b[0m\u001b[1;33m)\u001b[0m\u001b[1;33m\u001b[0m\u001b[0m\n\u001b[1;32m--> 165\u001b[1;33m             \u001b[0mresult\u001b[0m \u001b[1;33m=\u001b[0m \u001b[0mlib\u001b[0m\u001b[1;33m.\u001b[0m\u001b[0mmap_infer_mask\u001b[0m\u001b[1;33m(\u001b[0m\u001b[0marr\u001b[0m\u001b[1;33m,\u001b[0m \u001b[0mf\u001b[0m\u001b[1;33m,\u001b[0m \u001b[0mmask\u001b[0m\u001b[1;33m.\u001b[0m\u001b[0mview\u001b[0m\u001b[1;33m(\u001b[0m\u001b[0mnp\u001b[0m\u001b[1;33m.\u001b[0m\u001b[0muint8\u001b[0m\u001b[1;33m)\u001b[0m\u001b[1;33m,\u001b[0m \u001b[0mconvert\u001b[0m\u001b[1;33m)\u001b[0m\u001b[1;33m\u001b[0m\u001b[0m\n\u001b[0m\u001b[0;32m    166\u001b[0m         \u001b[1;32mexcept\u001b[0m \u001b[1;33m(\u001b[0m\u001b[0mTypeError\u001b[0m\u001b[1;33m,\u001b[0m \u001b[0mAttributeError\u001b[0m\u001b[1;33m)\u001b[0m \u001b[1;32mas\u001b[0m \u001b[0me\u001b[0m\u001b[1;33m:\u001b[0m\u001b[1;33m\u001b[0m\u001b[0m\n\u001b[0;32m    167\u001b[0m             \u001b[1;31m# Reraise the exception if callable `f` got wrong number of args.\u001b[0m\u001b[1;33m\u001b[0m\u001b[1;33m\u001b[0m\u001b[0m\n",
      "\u001b[1;32mpandas/_libs/src\\inference.pyx\u001b[0m in \u001b[0;36mpandas._libs.lib.map_infer_mask\u001b[1;34m()\u001b[0m\n",
      "\u001b[1;32m~\\Programas\\anaconda3\\envs\\keras\\lib\\site-packages\\pandas\\core\\strings.py\u001b[0m in \u001b[0;36m<lambda>\u001b[1;34m(x)\u001b[0m\n\u001b[0;32m    392\u001b[0m                           stacklevel=3)\n\u001b[0;32m    393\u001b[0m \u001b[1;33m\u001b[0m\u001b[0m\n\u001b[1;32m--> 394\u001b[1;33m         \u001b[0mf\u001b[0m \u001b[1;33m=\u001b[0m \u001b[1;32mlambda\u001b[0m \u001b[0mx\u001b[0m\u001b[1;33m:\u001b[0m \u001b[0mbool\u001b[0m\u001b[1;33m(\u001b[0m\u001b[0mregex\u001b[0m\u001b[1;33m.\u001b[0m\u001b[0msearch\u001b[0m\u001b[1;33m(\u001b[0m\u001b[0mx\u001b[0m\u001b[1;33m)\u001b[0m\u001b[1;33m)\u001b[0m\u001b[1;33m\u001b[0m\u001b[0m\n\u001b[0m\u001b[0;32m    395\u001b[0m     \u001b[1;32melse\u001b[0m\u001b[1;33m:\u001b[0m\u001b[1;33m\u001b[0m\u001b[0m\n\u001b[0;32m    396\u001b[0m         \u001b[1;32mif\u001b[0m \u001b[0mcase\u001b[0m\u001b[1;33m:\u001b[0m\u001b[1;33m\u001b[0m\u001b[0m\n",
      "\u001b[1;31mKeyboardInterrupt\u001b[0m: "
     ]
    }
   ],
   "source": [
    "# builds indicators for each timeframe\n",
    "_df_H4_result, _events = zz.ZIGZAG( df_H4, \n",
    "                                    minbars=12, \n",
    "                                    bb_period=20, \n",
    "                                    bb_dev = 2.0,\n",
    "                                    bb_sma = [100],\n",
    "                                    nan_value = 0.0, \n",
    "                                    level=logging.WARN)\n",
    "_df_H1_result, _events = zz.ZIGZAG( df_H1, \n",
    "                                    minbars=12, \n",
    "                                    bb_period=20, \n",
    "                                    bb_dev = 2.0,\n",
    "                                    bb_sma = [100],\n",
    "                                    nan_value = 0.0, \n",
    "                                    level=logging.WARN)\n",
    "_df_M15_result, _events = zz.ZIGZAG(df_M15, \n",
    "                                    minbars=12, \n",
    "                                    bb_period=20, \n",
    "                                    bb_dev = 2.0,\n",
    "                                    bb_sma = [100],\n",
    "                                    nan_value = 0.0, \n",
    "                                    level=logging.WARN)\n",
    "\n",
    "print('M15 from={} to={}\\r\\nH1  from={} to={}\\r\\nH4  from={} to={}'.format(_df_M15_result.TIME.iloc[0], \n",
    "                                                                          _df_M15_result.TIME.iloc[-1], \n",
    "                                                                          _df_H1_result.TIME.iloc[0], \n",
    "                                                                          _df_H1_result.TIME.iloc[-1], \n",
    "                                                                          _df_H4_result.TIME.iloc[0], \n",
    "                                                                          _df_H4_result.TIME.iloc[-1]))\n",
    "                                                                          "
   ]
  },
  {
   "cell_type": "code",
   "execution_count": null,
   "metadata": {},
   "outputs": [],
   "source": [
    "_df_H4_result.tail(20)"
   ]
  },
  {
   "cell_type": "code",
   "execution_count": 17,
   "metadata": {
    "scrolled": true
   },
   "outputs": [
    {
     "name": "stdout",
     "output_type": "stream",
     "text": [
      "M15 from=2015-01-29 20:00:00 to=2019-05-23 00:00:00\r\n",
      "H1  from=2015-01-29 20:00:00 to=2019-05-23 00:00:00\r\n",
      "H4  from=2015-01-29 20:00:00 to=2019-05-23 00:00:00\n"
     ]
    }
   ],
   "source": [
    "# setup same starting date\n",
    "same_time = max(_df_M15_result.TIME.iloc[0], _df_H1_result.TIME.iloc[0], _df_H4_result.TIME.iloc[0])\n",
    "\n",
    "# filter samples previous same_time and reset index to start from 0\n",
    "_df_M15_result = _df_M15_result[_df_M15_result.TIME >= same_time].reset_index(drop=True)\n",
    "_df_H1_result = _df_H1_result[_df_H1_result.TIME >= same_time].reset_index(drop=True)\n",
    "_df_H4_result = _df_H4_result[_df_H4_result.TIME >= same_time].reset_index(drop=True)\n",
    "\n",
    "print('M15 from={} to={}\\r\\nH1  from={} to={}\\r\\nH4  from={} to={}'.format(_df_M15_result.TIME.iloc[0], \n",
    "                                                                          _df_M15_result.TIME.iloc[-1], \n",
    "                                                                          _df_H1_result.TIME.iloc[0], \n",
    "                                                                          _df_H1_result.TIME.iloc[-1], \n",
    "                                                                          _df_H4_result.TIME.iloc[0], \n",
    "                                                                          _df_H4_result.TIME.iloc[-1]))\n",
    "                                                                          "
   ]
  },
  {
   "cell_type": "code",
   "execution_count": 18,
   "metadata": {
    "scrolled": false
   },
   "outputs": [
    {
     "name": "stdout",
     "output_type": "stream",
     "text": [
      "DEBUG:urllib3.connectionpool:Starting new HTTPS connection (1): plot.ly:443\n",
      "DEBUG:urllib3.connectionpool:https://plot.ly:443 \"POST /clientresp HTTP/1.1\" 200 None\n"
     ]
    },
    {
     "data": {
      "text/html": [
       "<iframe id=\"igraph\" scrolling=\"no\" style=\"border:none;\" seamless=\"seamless\" src=\"https://plot.ly/~raulMrello/130.embed\" height=\"525px\" width=\"100%\"></iframe>"
      ],
      "text/plain": [
       "<plotly.tools.PlotlyDisplay object>"
      ]
     },
     "execution_count": 18,
     "metadata": {},
     "output_type": "execute_result"
    }
   ],
   "source": [
    "# Plot H4 zigzag indicator\n",
    "trace_ohlc = go.Ohlc(x=_df_H4_result.index.values, open=_df_H4_result.OPEN, high=_df_H4_result.HIGH, low=_df_H4_result.LOW, close=_df_H4_result.CLOSE, name='Candlestick')\n",
    "\n",
    "_dfz_h4 = _df_H4_result[_df_H4_result.ZIGZAG > 0].copy()\n",
    "trace_zigzag = go.Scatter(x=_dfz_h4.reset_index()['index'], y=_dfz_h4.ZIGZAG, name='h4', line=scatter.Line(color='black', width=1))\n",
    "\n",
    "py.iplot([trace_ohlc, trace_zigzag], filename='simple_ohlc')\n"
   ]
  },
  {
   "cell_type": "code",
   "execution_count": 19,
   "metadata": {
    "scrolled": false
   },
   "outputs": [
    {
     "name": "stdout",
     "output_type": "stream",
     "text": [
      "DEBUG:urllib3.connectionpool:Starting new HTTPS connection (1): plot.ly:443\n",
      "DEBUG:urllib3.connectionpool:https://plot.ly:443 \"POST /clientresp HTTP/1.1\" 200 None\n"
     ]
    },
    {
     "data": {
      "text/html": [
       "<iframe id=\"igraph\" scrolling=\"no\" style=\"border:none;\" seamless=\"seamless\" src=\"https://plot.ly/~raulMrello/130.embed\" height=\"525px\" width=\"100%\"></iframe>"
      ],
      "text/plain": [
       "<plotly.tools.PlotlyDisplay object>"
      ]
     },
     "execution_count": 19,
     "metadata": {},
     "output_type": "execute_result"
    }
   ],
   "source": [
    "# Plot H1 zigzag indicator\n",
    "trace_ohlc = go.Ohlc(x=_df_H1_result.index.values, open=_df_H1_result.OPEN, high=_df_H1_result.HIGH, low=_df_H1_result.LOW, close=_df_H1_result.CLOSE, name='Candlestick')\n",
    "\n",
    "_dfz_h1 = _df_H1_result[_df_H1_result.ZIGZAG > 0].copy()\n",
    "trace_zigzag = go.Scatter(x=_dfz_h1.reset_index()['index'], y=_dfz_h1.ZIGZAG, name='h1', line=scatter.Line(color='black', width=1))\n",
    "\n",
    "py.iplot([trace_ohlc, trace_zigzag], filename='simple_ohlc')\n",
    "\n"
   ]
  },
  {
   "cell_type": "code",
   "execution_count": 20,
   "metadata": {},
   "outputs": [
    {
     "name": "stdout",
     "output_type": "stream",
     "text": [
      "DEBUG:urllib3.connectionpool:Starting new HTTPS connection (1): plot.ly:443\n",
      "DEBUG:urllib3.connectionpool:https://plot.ly:443 \"POST /clientresp HTTP/1.1\" 200 None\n"
     ]
    },
    {
     "data": {
      "text/html": [
       "<iframe id=\"igraph\" scrolling=\"no\" style=\"border:none;\" seamless=\"seamless\" src=\"https://plot.ly/~raulMrello/130.embed\" height=\"525px\" width=\"100%\"></iframe>"
      ],
      "text/plain": [
       "<plotly.tools.PlotlyDisplay object>"
      ]
     },
     "execution_count": 20,
     "metadata": {},
     "output_type": "execute_result"
    }
   ],
   "source": [
    "# Plot M15 zigzag indicator limited to 20k\n",
    "_df_M15_limit = _df_M15_result[0:20000].copy()\n",
    "trace_ohlc = go.Ohlc(x=_df_M15_limit.index.values, open=_df_M15_limit.OPEN, high=_df_M15_limit.HIGH, low=_df_M15_limit.LOW, close=_df_M15_limit.CLOSE, name='Candlestick')\n",
    "\n",
    "_dfz_M15 = _df_M15_limit[_df_M15_limit.ZIGZAG > 0].copy()\n",
    "trace_zigzag_M15 = go.Scatter(x=_dfz_M15.reset_index()['index'], y=_dfz_M15.ZIGZAG, name='h1', line=scatter.Line(color='black', width=1))\n",
    "\n",
    "py.iplot([trace_ohlc, trace_zigzag_M15], filename='simple_ohlc')\n",
    "\n"
   ]
  },
  {
   "cell_type": "code",
   "execution_count": 21,
   "metadata": {
    "scrolled": false
   },
   "outputs": [
    {
     "name": "stdout",
     "output_type": "stream",
     "text": [
      "DEBUG:urllib3.connectionpool:Starting new HTTPS connection (1): plot.ly:443\n",
      "DEBUG:urllib3.connectionpool:https://plot.ly:443 \"POST /clientresp HTTP/1.1\" 200 None\n"
     ]
    },
    {
     "data": {
      "text/html": [
       "<iframe id=\"igraph\" scrolling=\"no\" style=\"border:none;\" seamless=\"seamless\" src=\"https://plot.ly/~raulMrello/130.embed\" height=\"525px\" width=\"100%\"></iframe>"
      ],
      "text/plain": [
       "<plotly.tools.PlotlyDisplay object>"
      ]
     },
     "execution_count": 21,
     "metadata": {},
     "output_type": "execute_result"
    }
   ],
   "source": [
    "# plot zigzag at H4 and H1\n",
    "trace_zigzag_H4 = go.Scatter(x=_dfz_h4.reset_index()['index']*4, y=_dfz_h4.ZIGZAG, name='h4', line=scatter.Line(color='black', width=1))\n",
    "trace_zigzag_H1 = go.Scatter(x=_dfz_h1.reset_index()['index'], y=_dfz_h1.ZIGZAG, name='h1', line=scatter.Line(color='red', width=1))\n",
    "\n",
    "py.iplot([trace_zigzag_H4, trace_zigzag_H1], filename='simple_ohlc')\n",
    "\n"
   ]
  },
  {
   "cell_type": "code",
   "execution_count": 26,
   "metadata": {},
   "outputs": [
    {
     "name": "stdout",
     "output_type": "stream",
     "text": [
      "DEBUG:urllib3.connectionpool:Starting new HTTPS connection (1): plot.ly:443\n",
      "DEBUG:urllib3.connectionpool:https://plot.ly:443 \"POST /clientresp HTTP/1.1\" 200 None\n"
     ]
    },
    {
     "data": {
      "text/html": [
       "<iframe id=\"igraph\" scrolling=\"no\" style=\"border:none;\" seamless=\"seamless\" src=\"https://plot.ly/~raulMrello/130.embed\" height=\"525px\" width=\"100%\"></iframe>"
      ],
      "text/plain": [
       "<plotly.tools.PlotlyDisplay object>"
      ]
     },
     "execution_count": 26,
     "metadata": {},
     "output_type": "execute_result"
    }
   ],
   "source": [
    "# plot zigzag at H1 and M15 limited to 20k\n",
    "\n",
    "_df_M15_limit = _df_M15_result[0:20000].copy()\n",
    "_dfz_M15 = _df_M15_limit[_df_M15_limit.ZIGZAG > 0].copy()\n",
    "trace_zigzag_M15 = go.Scatter(x=_dfz_M15.reset_index()['index'], y=_dfz_M15.ZIGZAG, name='m15', line=scatter.Line(color='red', width=1))\n",
    "\n",
    "_df_H1_limit = _df_H1_result[0:5000].copy()\n",
    "_dfz_H1 = _df_H1_limit[_df_H1_limit.ZIGZAG > 0].copy()\n",
    "trace_zigzag_H1 = go.Scatter(x=_dfz_H1.reset_index()['index']*4, y=_dfz_H1.ZIGZAG, name='h1', line=scatter.Line(color='black', width=1))\n",
    "\n",
    "py.iplot([trace_zigzag_H1, trace_zigzag_M15], filename='simple_ohlc')\n"
   ]
  },
  {
   "cell_type": "code",
   "execution_count": 27,
   "metadata": {
    "scrolled": false
   },
   "outputs": [
    {
     "name": "stdout",
     "output_type": "stream",
     "text": [
      "DEBUG:urllib3.connectionpool:Starting new HTTPS connection (1): plot.ly:443\n",
      "DEBUG:urllib3.connectionpool:https://plot.ly:443 \"POST /clientresp HTTP/1.1\" 200 None\n"
     ]
    },
    {
     "data": {
      "text/html": [
       "<iframe id=\"igraph\" scrolling=\"no\" style=\"border:none;\" seamless=\"seamless\" src=\"https://plot.ly/~raulMrello/130.embed\" height=\"525px\" width=\"100%\"></iframe>"
      ],
      "text/plain": [
       "<plotly.tools.PlotlyDisplay object>"
      ]
     },
     "execution_count": 27,
     "metadata": {},
     "output_type": "execute_result"
    }
   ],
   "source": [
    "# plot zigzag at H4 and M15 limited to 20k\n",
    "\n",
    "_df_M15_limit = _df_M15_result[0:20000].copy()\n",
    "_dfz_M15 = _df_M15_limit[_df_M15_limit.ZIGZAG > 0].copy()\n",
    "trace_zigzag_M15 = go.Scatter(x=_dfz_M15.reset_index()['index'], y=_dfz_M15.ZIGZAG, name='m15', line=scatter.Line(color='red', width=1))\n",
    "\n",
    "_df_H4_limit = _df_H4_result[0:1250].copy()\n",
    "_dfz_H4 = _df_H4_limit[_df_H4_limit.ZIGZAG > 0].copy()\n",
    "trace_zigzag_H4 = go.Scatter(x=_dfz_H4.reset_index()['index']*16, y=_dfz_H4.ZIGZAG, name='h4', line=scatter.Line(color='black', width=1))\n",
    "\n",
    "py.iplot([trace_zigzag_H4, trace_zigzag_M15], filename='simple_ohlc')\n"
   ]
  },
  {
   "cell_type": "markdown",
   "metadata": {},
   "source": [
    "### 2) Sinthetic indicators from smaller timeframes\n",
    "\n",
    "**Build H4 from H1**"
   ]
  },
  {
   "cell_type": "code",
   "execution_count": 28,
   "metadata": {},
   "outputs": [
    {
     "name": "stdout",
     "output_type": "stream",
     "text": [
      "H4S  from=2015-01-13 18:00:00 to=2019-05-23 00:00:00\r\n",
      "H4  from=2015-01-29 20:00:00 to=2019-05-23 00:00:00\n"
     ]
    }
   ],
   "source": [
    "# Build a sinthetic zigzag indicator at H1 for H4\n",
    "_df_H4S_result, _x, _y, _events = zz.ZIGZAG(df_H1, \n",
    "                                  minbars=48, \n",
    "                                  bb_period=80, \n",
    "                                  bb_dev = 2.0,\n",
    "                                  bb_sma = [100],\n",
    "                                  nan_value = 0.0, \n",
    "                                  level=logging.WARN)\n",
    "\n",
    "print('H4S  from={} to={}\\r\\nH4  from={} to={}'.format(_df_H4S_result.TIME.iloc[0], \n",
    "                                                       _df_H4S_result.TIME.iloc[-1], \n",
    "                                                       _df_H4_result.TIME.iloc[0], \n",
    "                                                       _df_H4_result.TIME.iloc[-1]))"
   ]
  },
  {
   "cell_type": "code",
   "execution_count": 29,
   "metadata": {},
   "outputs": [
    {
     "name": "stdout",
     "output_type": "stream",
     "text": [
      "H4S  from=2015-01-29 20:00:00 to=2019-05-23 00:00:00\r\n",
      "H4  from=2015-01-29 20:00:00 to=2019-05-23 00:00:00\n"
     ]
    }
   ],
   "source": [
    "# setup same starting date\n",
    "same_time = max(_df_H4S_result.TIME.iloc[0], _df_H4_result.TIME.iloc[0])\n",
    "\n",
    "# filter samples previous same_time and reset index to start from 0\n",
    "_df_H4S_result = _df_H4S_result[_df_H4S_result.TIME >= same_time].reset_index(drop=True)\n",
    "_df_H4_result = _df_H4_result[_df_H4_result.TIME >= same_time].reset_index(drop=True)\n",
    "\n",
    "print('H4S  from={} to={}\\r\\nH4  from={} to={}'.format(_df_H4S_result.TIME.iloc[0], \n",
    "                                                       _df_H4S_result.TIME.iloc[-1], \n",
    "                                                       _df_H4_result.TIME.iloc[0], \n",
    "                                                       _df_H4_result.TIME.iloc[-1]))"
   ]
  },
  {
   "cell_type": "code",
   "execution_count": 32,
   "metadata": {
    "scrolled": true
   },
   "outputs": [
    {
     "name": "stdout",
     "output_type": "stream",
     "text": [
      "DEBUG:urllib3.connectionpool:Starting new HTTPS connection (1): plot.ly:443\n",
      "DEBUG:urllib3.connectionpool:https://plot.ly:443 \"POST /clientresp HTTP/1.1\" 200 None\n"
     ]
    },
    {
     "data": {
      "text/html": [
       "<iframe id=\"igraph\" scrolling=\"no\" style=\"border:none;\" seamless=\"seamless\" src=\"https://plot.ly/~raulMrello/130.embed\" height=\"525px\" width=\"100%\"></iframe>"
      ],
      "text/plain": [
       "<plotly.tools.PlotlyDisplay object>"
      ]
     },
     "execution_count": 32,
     "metadata": {},
     "output_type": "execute_result"
    }
   ],
   "source": [
    "# Plot H4 and H4Sinthetic zigzag indicators\n",
    "\n",
    "trace_ohlc = go.Ohlc(x=_df_H1_result.index.values, open=_df_H1_result.OPEN, high=_df_H1_result.HIGH, low=_df_H1_result.LOW, close=_df_H1_result.CLOSE, name='Candlestick')\n",
    "\n",
    "_dfz_h4 = _df_H4_result[_df_H4_result.ZIGZAG > 0].copy()\n",
    "trace_zigzag_h4 = go.Scatter(x=_dfz_h4.reset_index()['index']*4, y=_dfz_h4.ZIGZAG, name='h4', line=scatter.Line(color='black', width=1))\n",
    "\n",
    "_dfz_h4s = _df_H4S_result[_df_H4S_result.ZIGZAG > 0].copy()\n",
    "trace_zigzag_h4s = go.Scatter(x=_dfz_h4s.reset_index()['index'], y=_dfz_h4s.ZIGZAG, name='h4_sinthetic', line=scatter.Line(color='red', width=1))\n",
    "\n",
    "py.iplot([trace_ohlc, trace_zigzag_h4, trace_zigzag_h4s], filename='simple_ohlc')\n"
   ]
  },
  {
   "cell_type": "markdown",
   "metadata": {},
   "source": [
    "**Build H4 from M15**"
   ]
  },
  {
   "cell_type": "code",
   "execution_count": 33,
   "metadata": {},
   "outputs": [
    {
     "name": "stdout",
     "output_type": "stream",
     "text": [
      "H4S  from=2015-01-08 17:15:00 to=2019-05-23 00:00:00\r\n",
      "H4  from=2015-01-29 20:00:00 to=2019-05-23 00:00:00\n"
     ]
    }
   ],
   "source": [
    "# Build a sinthetic zigzag indicator at M15 for H4\n",
    "_df_H4S_result, _x, _y, _events = zz.ZIGZAG(df_M15, \n",
    "                                  minbars=192, \n",
    "                                  bb_period=320, \n",
    "                                  bb_dev = 2.0,\n",
    "                                  bb_sma = [100],\n",
    "                                  nan_value = 0.0, \n",
    "                                  level=logging.WARN)\n",
    "\n",
    "print('H4S  from={} to={}\\r\\nH4  from={} to={}'.format(_df_H4S_result.TIME.iloc[0], \n",
    "                                                       _df_H4S_result.TIME.iloc[-1], \n",
    "                                                       _df_H4_result.TIME.iloc[0], \n",
    "                                                       _df_H4_result.TIME.iloc[-1]))"
   ]
  },
  {
   "cell_type": "code",
   "execution_count": 34,
   "metadata": {},
   "outputs": [
    {
     "name": "stdout",
     "output_type": "stream",
     "text": [
      "H4S  from=2015-01-29 20:00:00 to=2019-05-23 00:00:00\r\n",
      "H4  from=2015-01-29 20:00:00 to=2019-05-23 00:00:00\n"
     ]
    }
   ],
   "source": [
    "# setup same starting date\n",
    "same_time = max(_df_H4S_result.TIME.iloc[0], _df_H4_result.TIME.iloc[0])\n",
    "\n",
    "# filter samples previous same_time and reset index to start from 0\n",
    "_df_H4S_result = _df_H4S_result[_df_H4S_result.TIME >= same_time].reset_index(drop=True)\n",
    "_df_H4_result = _df_H4_result[_df_H4_result.TIME >= same_time].reset_index(drop=True)\n",
    "\n",
    "print('H4S  from={} to={}\\r\\nH4  from={} to={}'.format(_df_H4S_result.TIME.iloc[0], \n",
    "                                                       _df_H4S_result.TIME.iloc[-1], \n",
    "                                                       _df_H4_result.TIME.iloc[0], \n",
    "                                                       _df_H4_result.TIME.iloc[-1]))"
   ]
  },
  {
   "cell_type": "code",
   "execution_count": 35,
   "metadata": {
    "scrolled": true
   },
   "outputs": [
    {
     "name": "stdout",
     "output_type": "stream",
     "text": [
      "DEBUG:urllib3.connectionpool:Starting new HTTPS connection (1): plot.ly:443\n",
      "DEBUG:urllib3.connectionpool:https://plot.ly:443 \"POST /clientresp HTTP/1.1\" 200 None\n"
     ]
    },
    {
     "data": {
      "text/html": [
       "<iframe id=\"igraph\" scrolling=\"no\" style=\"border:none;\" seamless=\"seamless\" src=\"https://plot.ly/~raulMrello/130.embed\" height=\"525px\" width=\"100%\"></iframe>"
      ],
      "text/plain": [
       "<plotly.tools.PlotlyDisplay object>"
      ]
     },
     "execution_count": 35,
     "metadata": {},
     "output_type": "execute_result"
    }
   ],
   "source": [
    "# Plot H4 and H4Sinthetic zigzag indicators, as built from M15, limit to 20k samples\n",
    "_df_M15_limit = _df_M15_result[0:20000].copy()\n",
    "trace_ohlc = go.Ohlc(x=_df_M15_limit.index.values, open=_df_M15_limit.OPEN, high=_df_M15_limit.HIGH, low=_df_M15_limit.LOW, close=_df_M15_limit.CLOSE, name='Candlestick')\n",
    "\n",
    "_df_H4_limit = _df_H4_result[0:1250].copy()\n",
    "_dfz_h4 = _df_H4_limit[_df_H4_limit.ZIGZAG > 0].copy()\n",
    "trace_zigzag_h4 = go.Scatter(x=_dfz_h4.reset_index()['index']*16, y=_dfz_h4.ZIGZAG, name='h4', line=scatter.Line(color='black', width=1))\n",
    "\n",
    "_df_H4S_limit = _df_H4S_result[0:20000].copy()\n",
    "_dfz_h4s = _df_H4S_limit[_df_H4S_limit.ZIGZAG > 0].copy()\n",
    "trace_zigzag_h4s = go.Scatter(x=_dfz_h4s.reset_index()['index'], y=_dfz_h4s.ZIGZAG, name='h4_sinthetic', line=scatter.Line(color='red', width=1))\n",
    "\n",
    "py.iplot([trace_ohlc, trace_zigzag_h4, trace_zigzag_h4s], filename='simple_ohlc')\n"
   ]
  },
  {
   "cell_type": "markdown",
   "metadata": {},
   "source": [
    "# Conclussions\n",
    "\n",
    "This zigzag indicator, as shown above, is able to build upwards timeframe indicators from a smaller one, just modifying ```minbars``` and ```bb_period ``` parameters accordingly with the timeframe difference. Some examples:\n",
    "\n",
    "```\n",
    "- From M15 calculate M30 zigzag: minbars = 12*2=24,   bb_period = 20*2 = 40\n",
    "- From M15 calculate H2 zigzag:  minbars = 12*8=96,   bb_period = 20*8 = 160\n",
    "- From H1  calculate D1 zigzag:  minbars = 12*24=288, bb_period = 20*24 = 480\n",
    "```\n"
   ]
  }
 ],
 "metadata": {
  "accelerator": "TPU",
  "colab": {
   "collapsed_sections": [],
   "name": "FinTech_LSTM.ipynb",
   "provenance": [],
   "version": "0.3.2"
  },
  "kernelspec": {
   "display_name": "Python [conda env:keras]",
   "language": "python",
   "name": "conda-env-keras-py"
  },
  "language_info": {
   "codemirror_mode": {
    "name": "ipython",
    "version": 3
   },
   "file_extension": ".py",
   "mimetype": "text/x-python",
   "name": "python",
   "nbconvert_exporter": "python",
   "pygments_lexer": "ipython3",
   "version": "3.6.6"
  }
 },
 "nbformat": 4,
 "nbformat_minor": 1
}
