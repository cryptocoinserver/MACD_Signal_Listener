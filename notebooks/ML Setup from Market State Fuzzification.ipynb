{
 "cells": [
  {
   "cell_type": "markdown",
   "metadata": {
    "colab_type": "text",
    "id": "pQWfP-VMvX7c"
   },
   "source": [
    "# Introduction\n",
    "\n",
    "Along next sections, I'll define the setup of the problem.\n",
    "\n",
    "I've selected several price action & technical indicators variables to build according fuzzy variables that establishes a market state. Each market state event is fixed to a flip of the zigzag indicator, so the ML-algo should predict next 2 flips from several previous ones.\n",
    "\n",
    "But prediction will be done according with some market state condition. That condition will be defuzzied to build the position of the price and hence build the forecasted flips.\n",
    "\n",
    "The ML algo is built from several previous states of 3 different timeframes, being the lowest the one where operations are carried out.\n",
    "\n",
    "So, in order to build a dataframe for training let's proceed as follows:\n",
    "\n",
    "- From merged dataframe, check if at least exists N flips in smallest timeframe.\n",
    "- Use it as input for training.\n",
    "\n",
    "- Several previous states from the operating timeframe (lowest one)"
   ]
  },
  {
   "cell_type": "code",
   "execution_count": 1,
   "metadata": {},
   "outputs": [],
   "source": [
    "%load_ext autoreload\n",
    "%autoreload 2"
   ]
  },
  {
   "cell_type": "code",
   "execution_count": 2,
   "metadata": {},
   "outputs": [
    {
     "ename": "ModuleNotFoundError",
     "evalue": "No module named 'utils'",
     "output_type": "error",
     "traceback": [
      "\u001b[1;31m---------------------------------------------------------------------------\u001b[0m",
      "\u001b[1;31mModuleNotFoundError\u001b[0m                       Traceback (most recent call last)",
      "\u001b[1;32m<ipython-input-2-57b772173621>\u001b[0m in \u001b[0;36m<module>\u001b[1;34m\u001b[0m\n\u001b[0;32m      6\u001b[0m \u001b[1;32mfrom\u001b[0m \u001b[0mFuzzyMarketState\u001b[0m \u001b[1;32mimport\u001b[0m \u001b[0mFuzzyMarketState\u001b[0m\u001b[1;33m\u001b[0m\u001b[0m\n\u001b[0;32m      7\u001b[0m \u001b[1;32mfrom\u001b[0m \u001b[0mFuzzyLib\u001b[0m \u001b[1;32mimport\u001b[0m \u001b[0mFuzzifier\u001b[0m\u001b[1;33m,\u001b[0m \u001b[0mFuzzyVar\u001b[0m\u001b[1;33m\u001b[0m\u001b[0m\n\u001b[1;32m----> 8\u001b[1;33m \u001b[1;32mimport\u001b[0m \u001b[0mutils\u001b[0m\u001b[1;33m\u001b[0m\u001b[0m\n\u001b[0m\u001b[0;32m      9\u001b[0m \u001b[1;33m\u001b[0m\u001b[0m\n\u001b[0;32m     10\u001b[0m \u001b[1;32mimport\u001b[0m \u001b[0mplotly\u001b[0m\u001b[1;33m\u001b[0m\u001b[0m\n",
      "\u001b[1;31mModuleNotFoundError\u001b[0m: No module named 'utils'"
     ]
    }
   ],
   "source": [
    "# import requires packages\n",
    "# Append relative path to FuzzyMarketState.py\n",
    "import sys\n",
    "sys.path.append('..')\n",
    "\n",
    "from FuzzyMarketState import FuzzyMarketState\n",
    "from FuzzyLib import Fuzzifier, FuzzyVar\n",
    "import utils\n",
    "\n",
    "import plotly\n",
    "import plotly.plotly as py\n",
    "import plotly.graph_objs as go\n",
    "from plotly.graph_objs import *\n",
    "from plotly.tools import FigureFactory as FF\n",
    "import plotly.tools as tls\n",
    "plotly.offline.init_notebook_mode(connected=True)\n",
    "\n",
    "import logging\n",
    "logging.basicConfig(level=logging.DEBUG, stream=sys.stdout)\n",
    "\n",
    "import pandas as pd\n",
    "import random\n",
    "\n",
    "print('Packages loaded!!')"
   ]
  },
  {
   "cell_type": "code",
   "execution_count": null,
   "metadata": {},
   "outputs": [],
   "source": [
    "# Load fuzzified and merged dataframe\n",
    "m15h1h4 = pd.read_csv('../csv_data/EURUSD_M15H1H4.csv', sep=';')\n",
    "print('Rows: {}'.format(m15h1h4.shape[0]))"
   ]
  }
 ],
 "metadata": {
  "accelerator": "TPU",
  "colab": {
   "collapsed_sections": [],
   "name": "FinTech_LSTM.ipynb",
   "provenance": [],
   "version": "0.3.2"
  },
  "kernelspec": {
   "display_name": "Python [conda env:keras]",
   "language": "python",
   "name": "conda-env-keras-py"
  },
  "language_info": {
   "codemirror_mode": {
    "name": "ipython",
    "version": 3
   },
   "file_extension": ".py",
   "mimetype": "text/x-python",
   "name": "python",
   "nbconvert_exporter": "python",
   "pygments_lexer": "ipython3",
   "version": "3.6.6"
  }
 },
 "nbformat": 4,
 "nbformat_minor": 1
}
