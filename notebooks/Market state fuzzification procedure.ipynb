{
 "cells": [
  {
   "cell_type": "markdown",
   "metadata": {
    "colab_type": "text",
    "id": "pQWfP-VMvX7c"
   },
   "source": [
    "# Introduction\n",
    "\n",
    "In this notebook, I will fuzzify all market state parameters and build a FuzzyStateVector which determines the current state of the market."
   ]
  },
  {
   "cell_type": "code",
   "execution_count": 1,
   "metadata": {},
   "outputs": [],
   "source": [
    "%load_ext autoreload\n",
    "%autoreload 2"
   ]
  },
  {
   "cell_type": "code",
   "execution_count": 2,
   "metadata": {},
   "outputs": [
    {
     "data": {
      "text/html": [
       "<script>requirejs.config({paths: { 'plotly': ['https://cdn.plot.ly/plotly-latest.min']},});if(!window.Plotly) {{require(['plotly'],function(plotly) {window.Plotly=plotly;});}}</script>"
      ],
      "text/vnd.plotly.v1+html": [
       "<script>requirejs.config({paths: { 'plotly': ['https://cdn.plot.ly/plotly-latest.min']},});if(!window.Plotly) {{require(['plotly'],function(plotly) {window.Plotly=plotly;});}}</script>"
      ]
     },
     "metadata": {},
     "output_type": "display_data"
    },
    {
     "name": "stdout",
     "output_type": "stream",
     "text": [
      "Packages loaded!!\n",
      "DEBUG:matplotlib.pyplot:Loaded backend module://ipykernel.pylab.backend_inline version unknown.\n"
     ]
    }
   ],
   "source": [
    "# import requires packages\n",
    "# Append relative path to FuzzyMarketState.py\n",
    "import sys\n",
    "sys.path.append('..')\n",
    "\n",
    "from FuzzyMarketState import FuzzyMarketState\n",
    "\n",
    "import plotly\n",
    "import plotly.plotly as py\n",
    "import plotly.graph_objs as go\n",
    "from plotly.graph_objs import *\n",
    "from plotly.tools import FigureFactory as FF\n",
    "import plotly.tools as tls\n",
    "plotly.offline.init_notebook_mode(connected=True)\n",
    "\n",
    "import logging\n",
    "logging.basicConfig(level=logging.DEBUG, stream=sys.stdout)\n",
    "\n",
    "import random\n",
    "\n",
    "# Create object\n",
    "fms = FuzzyMarketState(logging.WARN)\n",
    "\n",
    "# load dataframe\n",
    "df = fms.loadCSV('../csv_data/EURUSD_H4.csv', sep=';')\n",
    "fms.loadDataframe(df)\n",
    "df_crisp = fms.buildIndicators()\n",
    "\n",
    "print('Packages loaded!!')"
   ]
  },
  {
   "cell_type": "markdown",
   "metadata": {},
   "source": [
    "### Zigzag fuzzification\n",
    "\n",
    "Zigzag indicator includes: \n",
    "\n",
    "- Zigzag flips\n",
    "- Bollinger indicators\n",
    "\n",
    "Based on these indicators, several fuzzy parameters can be sinthetically built, as:\n",
    "\n",
    "##### Duration of Zigzag flip:\n",
    "\n",
    "Evaluates last N zigzags durations and according with its min-max range, fuzzifies into these 5 categories:\n",
    "\n",
    "- VerySmall\n",
    "- SlightlySmall\n",
    "- Similar\n",
    "- SlightlyLarge\n",
    "- VeryLarge\n",
    "\n",
    "##### Range of Zigzag flip:\n",
    "\n",
    "Evaluates last N zigzags flip range according with its direction and fuzzifies into these 5 categories:\n",
    "\n",
    "- VerySmall\n",
    "- SlightlySmall\n",
    "- Similar\n",
    "- SlightlyLarge\n",
    "- VeryLarge\n",
    "\n",
    "##### Bollinger overbought-oversell state:\n",
    "\n",
    "Evaluates bollinger_%b indicator and fuzzifies into these 7 categories:\n",
    "\n",
    "- InOverSell\n",
    "- VeryPositive\n",
    "- SlightlyPositive\n",
    "- InTheMiddle\n",
    "- SlightlyNegative\n",
    "- VeryNegative\n",
    "- InOverBought\n",
    "\n",
    "##### Bollinger bands width:\n",
    "\n",
    "Evaluates bollinger_width against bollinger_width_sma and fuzzifies into these 5 categories:\n",
    "\n",
    "- VerySmall\n",
    "- SlightlySmall\n",
    "- Similar\n",
    "- SlightlyLarge\n",
    "- VeryLarge"
   ]
  },
  {
   "cell_type": "code",
   "execution_count": 17,
   "metadata": {},
   "outputs": [
    {
     "name": "stdout",
     "output_type": "stream",
     "text": [
      "DEBUG:FuzzyMarketState:Logging level changed to 10\n",
      "DEBUG:FuzzyMarketState:Fuzzifying Zigzag indicators...\n",
      "DEBUG:FuzzyMarketState:processing 307 rows\n",
      "DEBUG:FuzzyMarketState:Building fuzzy set points based on BBANDS\n",
      "DEBUG:FuzzyMarketState:fuzzifying row[0]=> crisp=nan\n",
      "DEBUG:FuzzyMarketState:fuzzifying row[1]=> crisp=18.0\n",
      "DEBUG:FuzzyMarketState:fuzzifying row[2]=> crisp=13.0\n",
      "DEBUG:FuzzyMarketState:fuzzifying row[3]=> crisp=18.0\n",
      "DEBUG:FuzzyMarketState:fuzzifying row[4]=> crisp=21.0\n",
      "DEBUG:FuzzyMarketState:fuzzifying row[5]=> crisp=25.0\n",
      "DEBUG:FuzzyMarketState:fuzzifying row[6]=> crisp=29.0\n",
      "DEBUG:FuzzyMarketState:fuzzifying row[7]=> crisp=21.0\n",
      "DEBUG:FuzzyMarketState:fuzzifying row[8]=> crisp=12.0\n",
      "DEBUG:FuzzyMarketState:fuzzifying row[9]=> crisp=48.0\n",
      "DEBUG:FuzzyMarketState:fuzzifying row[10]=> crisp=14.0\n",
      "DEBUG:FuzzyMarketState:fuzzifying row[11]=> crisp=10.0\n",
      "DEBUG:FuzzyMarketState:fuzzifying row[12]=> crisp=16.0\n",
      "DEBUG:FuzzyMarketState:fuzzifying row[13]=> crisp=25.0\n",
      "DEBUG:FuzzyMarketState:fuzzifying row[14]=> crisp=15.0\n",
      "DEBUG:FuzzyMarketState:fuzzifying row[15]=> crisp=10.0\n",
      "DEBUG:FuzzyMarketState:fuzzifying row[16]=> crisp=22.0\n",
      "DEBUG:FuzzyMarketState:fuzzifying row[17]=> crisp=32.0\n",
      "DEBUG:FuzzyMarketState:fuzzifying row[18]=> crisp=14.0\n",
      "DEBUG:FuzzyMarketState:fuzzifying row[19]=> crisp=12.0\n",
      "DEBUG:FuzzyMarketState:fuzzifying row[20]=> crisp=16.0\n",
      "DEBUG:FuzzyMarketState:fuzzifying row[21]=> crisp=18.0\n",
      "DEBUG:FuzzyMarketState:fuzzifying row[22]=> crisp=22.0\n",
      "DEBUG:FuzzyMarketState:fuzzifying row[23]=> crisp=25.0\n",
      "DEBUG:FuzzyMarketState:fuzzifying row[24]=> crisp=13.0\n",
      "DEBUG:FuzzyMarketState:fuzzifying row[25]=> crisp=9.0\n",
      "DEBUG:FuzzyMarketState:fuzzifying row[26]=> crisp=12.0\n",
      "DEBUG:FuzzyMarketState:fuzzifying row[27]=> crisp=15.0\n",
      "DEBUG:FuzzyMarketState:fuzzifying row[28]=> crisp=41.0\n",
      "DEBUG:FuzzyMarketState:fuzzifying row[29]=> crisp=25.0\n",
      "DEBUG:FuzzyMarketState:fuzzifying row[30]=> crisp=18.0\n",
      "DEBUG:FuzzyMarketState:fuzzifying row[31]=> crisp=12.0\n",
      "DEBUG:FuzzyMarketState:fuzzifying row[32]=> crisp=13.0\n",
      "DEBUG:FuzzyMarketState:fuzzifying row[33]=> crisp=33.0\n",
      "DEBUG:FuzzyMarketState:fuzzifying row[34]=> crisp=24.0\n",
      "DEBUG:FuzzyMarketState:fuzzifying row[35]=> crisp=20.0\n",
      "DEBUG:FuzzyMarketState:fuzzifying row[36]=> crisp=30.0\n",
      "DEBUG:FuzzyMarketState:fuzzifying row[37]=> crisp=15.0\n",
      "DEBUG:FuzzyMarketState:fuzzifying row[38]=> crisp=12.0\n",
      "DEBUG:FuzzyMarketState:fuzzifying row[39]=> crisp=33.0\n",
      "DEBUG:FuzzyMarketState:fuzzifying row[40]=> crisp=42.0\n",
      "DEBUG:FuzzyMarketState:fuzzifying row[41]=> crisp=24.0\n",
      "DEBUG:FuzzyMarketState:fuzzifying row[42]=> crisp=14.0\n",
      "DEBUG:FuzzyMarketState:fuzzifying row[43]=> crisp=13.0\n",
      "DEBUG:FuzzyMarketState:fuzzifying row[44]=> crisp=13.0\n",
      "DEBUG:FuzzyMarketState:fuzzifying row[45]=> crisp=32.0\n",
      "DEBUG:FuzzyMarketState:fuzzifying row[46]=> crisp=16.0\n",
      "DEBUG:FuzzyMarketState:fuzzifying row[47]=> crisp=12.0\n",
      "DEBUG:FuzzyMarketState:fuzzifying row[48]=> crisp=13.0\n",
      "DEBUG:FuzzyMarketState:fuzzifying row[49]=> crisp=13.0\n",
      "DEBUG:FuzzyMarketState:fuzzifying row[50]=> crisp=10.0\n",
      "DEBUG:FuzzyMarketState:fuzzifying row[51]=> crisp=11.0\n",
      "DEBUG:FuzzyMarketState:fuzzifying row[52]=> crisp=21.0\n",
      "DEBUG:FuzzyMarketState:fuzzifying row[53]=> crisp=24.0\n",
      "DEBUG:FuzzyMarketState:fuzzifying row[54]=> crisp=29.0\n",
      "DEBUG:FuzzyMarketState:fuzzifying row[55]=> crisp=11.0\n",
      "DEBUG:FuzzyMarketState:fuzzifying row[56]=> crisp=18.0\n",
      "DEBUG:FuzzyMarketState:fuzzifying row[57]=> crisp=20.0\n",
      "DEBUG:FuzzyMarketState:fuzzifying row[58]=> crisp=15.0\n",
      "DEBUG:FuzzyMarketState:fuzzifying row[59]=> crisp=21.0\n",
      "DEBUG:FuzzyMarketState:fuzzifying row[60]=> crisp=12.0\n",
      "DEBUG:FuzzyMarketState:fuzzifying row[61]=> crisp=12.0\n",
      "DEBUG:FuzzyMarketState:fuzzifying row[62]=> crisp=16.0\n",
      "DEBUG:FuzzyMarketState:fuzzifying row[63]=> crisp=18.0\n",
      "DEBUG:FuzzyMarketState:fuzzifying row[64]=> crisp=47.0\n",
      "DEBUG:FuzzyMarketState:fuzzifying row[65]=> crisp=20.0\n",
      "DEBUG:FuzzyMarketState:fuzzifying row[66]=> crisp=15.0\n",
      "DEBUG:FuzzyMarketState:fuzzifying row[67]=> crisp=12.0\n",
      "DEBUG:FuzzyMarketState:fuzzifying row[68]=> crisp=21.0\n",
      "DEBUG:FuzzyMarketState:fuzzifying row[69]=> crisp=30.0\n",
      "DEBUG:FuzzyMarketState:fuzzifying row[70]=> crisp=10.0\n",
      "DEBUG:FuzzyMarketState:fuzzifying row[71]=> crisp=38.0\n",
      "DEBUG:FuzzyMarketState:fuzzifying row[72]=> crisp=10.0\n",
      "DEBUG:FuzzyMarketState:fuzzifying row[73]=> crisp=10.0\n",
      "DEBUG:FuzzyMarketState:fuzzifying row[74]=> crisp=80.0\n",
      "DEBUG:FuzzyMarketState:fuzzifying row[75]=> crisp=32.0\n",
      "DEBUG:FuzzyMarketState:fuzzifying row[76]=> crisp=27.0\n",
      "DEBUG:FuzzyMarketState:fuzzifying row[77]=> crisp=9.0\n",
      "DEBUG:FuzzyMarketState:fuzzifying row[78]=> crisp=27.0\n",
      "DEBUG:FuzzyMarketState:fuzzifying row[79]=> crisp=36.0\n",
      "DEBUG:FuzzyMarketState:fuzzifying row[80]=> crisp=18.0\n",
      "DEBUG:FuzzyMarketState:fuzzifying row[81]=> crisp=21.0\n",
      "DEBUG:FuzzyMarketState:fuzzifying row[82]=> crisp=14.0\n",
      "DEBUG:FuzzyMarketState:fuzzifying row[83]=> crisp=28.0\n",
      "DEBUG:FuzzyMarketState:fuzzifying row[84]=> crisp=14.0\n",
      "DEBUG:FuzzyMarketState:fuzzifying row[85]=> crisp=36.0\n",
      "DEBUG:FuzzyMarketState:fuzzifying row[86]=> crisp=31.0\n",
      "DEBUG:FuzzyMarketState:fuzzifying row[87]=> crisp=13.0\n",
      "DEBUG:FuzzyMarketState:fuzzifying row[88]=> crisp=26.0\n",
      "DEBUG:FuzzyMarketState:fuzzifying row[89]=> crisp=12.0\n",
      "DEBUG:FuzzyMarketState:fuzzifying row[90]=> crisp=12.0\n",
      "DEBUG:FuzzyMarketState:fuzzifying row[91]=> crisp=10.0\n",
      "DEBUG:FuzzyMarketState:fuzzifying row[92]=> crisp=21.0\n",
      "DEBUG:FuzzyMarketState:fuzzifying row[93]=> crisp=35.0\n",
      "DEBUG:FuzzyMarketState:fuzzifying row[94]=> crisp=18.0\n",
      "DEBUG:FuzzyMarketState:fuzzifying row[95]=> crisp=24.0\n",
      "DEBUG:FuzzyMarketState:fuzzifying row[96]=> crisp=12.0\n",
      "DEBUG:FuzzyMarketState:fuzzifying row[97]=> crisp=12.0\n",
      "DEBUG:FuzzyMarketState:fuzzifying row[98]=> crisp=11.0\n",
      "DEBUG:FuzzyMarketState:fuzzifying row[99]=> crisp=31.0\n",
      "DEBUG:FuzzyMarketState:fuzzifying row[100]=> crisp=18.0\n",
      "DEBUG:FuzzyMarketState:fuzzifying row[101]=> crisp=24.0\n",
      "DEBUG:FuzzyMarketState:fuzzifying row[102]=> crisp=43.0\n",
      "DEBUG:FuzzyMarketState:fuzzifying row[103]=> crisp=35.0\n",
      "DEBUG:FuzzyMarketState:fuzzifying row[104]=> crisp=22.0\n",
      "DEBUG:FuzzyMarketState:fuzzifying row[105]=> crisp=38.0\n",
      "DEBUG:FuzzyMarketState:fuzzifying row[106]=> crisp=11.0\n",
      "DEBUG:FuzzyMarketState:fuzzifying row[107]=> crisp=21.0\n",
      "DEBUG:FuzzyMarketState:fuzzifying row[108]=> crisp=37.0\n",
      "DEBUG:FuzzyMarketState:fuzzifying row[109]=> crisp=33.0\n",
      "DEBUG:FuzzyMarketState:fuzzifying row[110]=> crisp=23.0\n",
      "DEBUG:FuzzyMarketState:fuzzifying row[111]=> crisp=12.0\n",
      "DEBUG:FuzzyMarketState:fuzzifying row[112]=> crisp=19.0\n",
      "DEBUG:FuzzyMarketState:fuzzifying row[113]=> crisp=18.0\n",
      "DEBUG:FuzzyMarketState:fuzzifying row[114]=> crisp=36.0\n",
      "DEBUG:FuzzyMarketState:fuzzifying row[115]=> crisp=11.0\n",
      "DEBUG:FuzzyMarketState:fuzzifying row[116]=> crisp=43.0\n",
      "DEBUG:FuzzyMarketState:fuzzifying row[117]=> crisp=21.0\n",
      "DEBUG:FuzzyMarketState:fuzzifying row[118]=> crisp=19.0\n",
      "DEBUG:FuzzyMarketState:fuzzifying row[119]=> crisp=14.0\n",
      "DEBUG:FuzzyMarketState:fuzzifying row[120]=> crisp=10.0\n",
      "DEBUG:FuzzyMarketState:fuzzifying row[121]=> crisp=25.0\n",
      "DEBUG:FuzzyMarketState:fuzzifying row[122]=> crisp=59.0\n",
      "DEBUG:FuzzyMarketState:fuzzifying row[123]=> crisp=10.0\n",
      "DEBUG:FuzzyMarketState:fuzzifying row[124]=> crisp=12.0\n",
      "DEBUG:FuzzyMarketState:fuzzifying row[125]=> crisp=10.0\n",
      "DEBUG:FuzzyMarketState:fuzzifying row[126]=> crisp=30.0\n",
      "DEBUG:FuzzyMarketState:fuzzifying row[127]=> crisp=18.0\n",
      "DEBUG:FuzzyMarketState:fuzzifying row[128]=> crisp=34.0\n",
      "DEBUG:FuzzyMarketState:fuzzifying row[129]=> crisp=12.0\n",
      "DEBUG:FuzzyMarketState:fuzzifying row[130]=> crisp=11.0\n",
      "DEBUG:FuzzyMarketState:fuzzifying row[131]=> crisp=14.0\n",
      "DEBUG:FuzzyMarketState:fuzzifying row[132]=> crisp=17.0\n",
      "DEBUG:FuzzyMarketState:fuzzifying row[133]=> crisp=12.0\n",
      "DEBUG:FuzzyMarketState:fuzzifying row[134]=> crisp=12.0\n",
      "DEBUG:FuzzyMarketState:fuzzifying row[135]=> crisp=38.0\n",
      "DEBUG:FuzzyMarketState:fuzzifying row[136]=> crisp=15.0\n",
      "DEBUG:FuzzyMarketState:fuzzifying row[137]=> crisp=33.0\n",
      "DEBUG:FuzzyMarketState:fuzzifying row[138]=> crisp=16.0\n",
      "DEBUG:FuzzyMarketState:fuzzifying row[139]=> crisp=26.0\n",
      "DEBUG:FuzzyMarketState:fuzzifying row[140]=> crisp=57.0\n",
      "DEBUG:FuzzyMarketState:fuzzifying row[141]=> crisp=10.0\n",
      "DEBUG:FuzzyMarketState:fuzzifying row[142]=> crisp=20.0\n",
      "DEBUG:FuzzyMarketState:fuzzifying row[143]=> crisp=15.0\n",
      "DEBUG:FuzzyMarketState:fuzzifying row[144]=> crisp=23.0\n"
     ]
    },
    {
     "name": "stdout",
     "output_type": "stream",
     "text": [
      "DEBUG:FuzzyMarketState:fuzzifying row[145]=> crisp=11.0\n",
      "DEBUG:FuzzyMarketState:fuzzifying row[146]=> crisp=11.0\n",
      "DEBUG:FuzzyMarketState:fuzzifying row[147]=> crisp=15.0\n",
      "DEBUG:FuzzyMarketState:fuzzifying row[148]=> crisp=11.0\n",
      "DEBUG:FuzzyMarketState:fuzzifying row[149]=> crisp=35.0\n",
      "DEBUG:FuzzyMarketState:fuzzifying row[150]=> crisp=12.0\n",
      "DEBUG:FuzzyMarketState:fuzzifying row[151]=> crisp=12.0\n",
      "DEBUG:FuzzyMarketState:fuzzifying row[152]=> crisp=50.0\n",
      "DEBUG:FuzzyMarketState:fuzzifying row[153]=> crisp=18.0\n",
      "DEBUG:FuzzyMarketState:fuzzifying row[154]=> crisp=12.0\n",
      "DEBUG:FuzzyMarketState:fuzzifying row[155]=> crisp=18.0\n",
      "DEBUG:FuzzyMarketState:fuzzifying row[156]=> crisp=10.0\n",
      "DEBUG:FuzzyMarketState:fuzzifying row[157]=> crisp=14.0\n",
      "DEBUG:FuzzyMarketState:fuzzifying row[158]=> crisp=14.0\n",
      "DEBUG:FuzzyMarketState:fuzzifying row[159]=> crisp=34.0\n",
      "DEBUG:FuzzyMarketState:fuzzifying row[160]=> crisp=17.0\n",
      "DEBUG:FuzzyMarketState:fuzzifying row[161]=> crisp=51.0\n",
      "DEBUG:FuzzyMarketState:fuzzifying row[162]=> crisp=30.0\n",
      "DEBUG:FuzzyMarketState:fuzzifying row[163]=> crisp=21.0\n",
      "DEBUG:FuzzyMarketState:fuzzifying row[164]=> crisp=39.0\n",
      "DEBUG:FuzzyMarketState:fuzzifying row[165]=> crisp=11.0\n",
      "DEBUG:FuzzyMarketState:fuzzifying row[166]=> crisp=21.0\n",
      "DEBUG:FuzzyMarketState:fuzzifying row[167]=> crisp=18.0\n",
      "DEBUG:FuzzyMarketState:fuzzifying row[168]=> crisp=8.0\n",
      "DEBUG:FuzzyMarketState:fuzzifying row[169]=> crisp=17.0\n",
      "DEBUG:FuzzyMarketState:fuzzifying row[170]=> crisp=24.0\n",
      "DEBUG:FuzzyMarketState:fuzzifying row[171]=> crisp=27.0\n",
      "DEBUG:FuzzyMarketState:fuzzifying row[172]=> crisp=18.0\n",
      "DEBUG:FuzzyMarketState:fuzzifying row[173]=> crisp=8.0\n",
      "DEBUG:FuzzyMarketState:fuzzifying row[174]=> crisp=11.0\n",
      "DEBUG:FuzzyMarketState:fuzzifying row[175]=> crisp=28.0\n",
      "DEBUG:FuzzyMarketState:fuzzifying row[176]=> crisp=13.0\n",
      "DEBUG:FuzzyMarketState:fuzzifying row[177]=> crisp=15.0\n",
      "DEBUG:FuzzyMarketState:fuzzifying row[178]=> crisp=29.0\n",
      "DEBUG:FuzzyMarketState:fuzzifying row[179]=> crisp=13.0\n",
      "DEBUG:FuzzyMarketState:fuzzifying row[180]=> crisp=22.0\n",
      "DEBUG:FuzzyMarketState:fuzzifying row[181]=> crisp=16.0\n",
      "DEBUG:FuzzyMarketState:fuzzifying row[182]=> crisp=13.0\n",
      "DEBUG:FuzzyMarketState:fuzzifying row[183]=> crisp=18.0\n",
      "DEBUG:FuzzyMarketState:fuzzifying row[184]=> crisp=13.0\n",
      "DEBUG:FuzzyMarketState:fuzzifying row[185]=> crisp=35.0\n",
      "DEBUG:FuzzyMarketState:fuzzifying row[186]=> crisp=25.0\n",
      "DEBUG:FuzzyMarketState:fuzzifying row[187]=> crisp=22.0\n",
      "DEBUG:FuzzyMarketState:fuzzifying row[188]=> crisp=37.0\n",
      "DEBUG:FuzzyMarketState:fuzzifying row[189]=> crisp=7.0\n",
      "DEBUG:FuzzyMarketState:fuzzifying row[190]=> crisp=30.0\n",
      "DEBUG:FuzzyMarketState:fuzzifying row[191]=> crisp=23.0\n",
      "DEBUG:FuzzyMarketState:fuzzifying row[192]=> crisp=25.0\n",
      "DEBUG:FuzzyMarketState:fuzzifying row[193]=> crisp=11.0\n",
      "DEBUG:FuzzyMarketState:fuzzifying row[194]=> crisp=12.0\n",
      "DEBUG:FuzzyMarketState:fuzzifying row[195]=> crisp=12.0\n",
      "DEBUG:FuzzyMarketState:fuzzifying row[196]=> crisp=12.0\n",
      "DEBUG:FuzzyMarketState:fuzzifying row[197]=> crisp=25.0\n",
      "DEBUG:FuzzyMarketState:fuzzifying row[198]=> crisp=12.0\n",
      "DEBUG:FuzzyMarketState:fuzzifying row[199]=> crisp=36.0\n",
      "DEBUG:FuzzyMarketState:fuzzifying row[200]=> crisp=24.0\n",
      "DEBUG:FuzzyMarketState:fuzzifying row[201]=> crisp=24.0\n",
      "DEBUG:FuzzyMarketState:fuzzifying row[202]=> crisp=18.0\n",
      "DEBUG:FuzzyMarketState:fuzzifying row[203]=> crisp=11.0\n",
      "DEBUG:FuzzyMarketState:fuzzifying row[204]=> crisp=25.0\n",
      "DEBUG:FuzzyMarketState:fuzzifying row[205]=> crisp=24.0\n",
      "DEBUG:FuzzyMarketState:fuzzifying row[206]=> crisp=14.0\n",
      "DEBUG:FuzzyMarketState:fuzzifying row[207]=> crisp=11.0\n",
      "DEBUG:FuzzyMarketState:fuzzifying row[208]=> crisp=12.0\n",
      "DEBUG:FuzzyMarketState:fuzzifying row[209]=> crisp=29.0\n",
      "DEBUG:FuzzyMarketState:fuzzifying row[210]=> crisp=8.0\n",
      "DEBUG:FuzzyMarketState:fuzzifying row[211]=> crisp=13.0\n",
      "DEBUG:FuzzyMarketState:fuzzifying row[212]=> crisp=14.0\n",
      "DEBUG:FuzzyMarketState:fuzzifying row[213]=> crisp=28.0\n",
      "DEBUG:FuzzyMarketState:fuzzifying row[214]=> crisp=20.0\n",
      "DEBUG:FuzzyMarketState:fuzzifying row[215]=> crisp=20.0\n",
      "DEBUG:FuzzyMarketState:fuzzifying row[216]=> crisp=16.0\n",
      "DEBUG:FuzzyMarketState:fuzzifying row[217]=> crisp=15.0\n",
      "DEBUG:FuzzyMarketState:fuzzifying row[218]=> crisp=35.0\n",
      "DEBUG:FuzzyMarketState:fuzzifying row[219]=> crisp=22.0\n",
      "DEBUG:FuzzyMarketState:fuzzifying row[220]=> crisp=28.0\n",
      "DEBUG:FuzzyMarketState:fuzzifying row[221]=> crisp=15.0\n",
      "DEBUG:FuzzyMarketState:fuzzifying row[222]=> crisp=19.0\n",
      "DEBUG:FuzzyMarketState:fuzzifying row[223]=> crisp=29.0\n",
      "DEBUG:FuzzyMarketState:fuzzifying row[224]=> crisp=12.0\n",
      "DEBUG:FuzzyMarketState:fuzzifying row[225]=> crisp=11.0\n",
      "DEBUG:FuzzyMarketState:fuzzifying row[226]=> crisp=29.0\n",
      "DEBUG:FuzzyMarketState:fuzzifying row[227]=> crisp=22.0\n",
      "DEBUG:FuzzyMarketState:fuzzifying row[228]=> crisp=51.0\n",
      "DEBUG:FuzzyMarketState:fuzzifying row[229]=> crisp=19.0\n",
      "DEBUG:FuzzyMarketState:fuzzifying row[230]=> crisp=12.0\n",
      "DEBUG:FuzzyMarketState:fuzzifying row[231]=> crisp=11.0\n",
      "DEBUG:FuzzyMarketState:fuzzifying row[232]=> crisp=49.0\n",
      "DEBUG:FuzzyMarketState:fuzzifying row[233]=> crisp=9.0\n",
      "DEBUG:FuzzyMarketState:fuzzifying row[234]=> crisp=38.0\n",
      "DEBUG:FuzzyMarketState:fuzzifying row[235]=> crisp=20.0\n",
      "DEBUG:FuzzyMarketState:fuzzifying row[236]=> crisp=65.0\n",
      "DEBUG:FuzzyMarketState:fuzzifying row[237]=> crisp=11.0\n",
      "DEBUG:FuzzyMarketState:fuzzifying row[238]=> crisp=12.0\n",
      "DEBUG:FuzzyMarketState:fuzzifying row[239]=> crisp=19.0\n",
      "DEBUG:FuzzyMarketState:fuzzifying row[240]=> crisp=35.0\n",
      "DEBUG:FuzzyMarketState:fuzzifying row[241]=> crisp=11.0\n",
      "DEBUG:FuzzyMarketState:fuzzifying row[242]=> crisp=15.0\n",
      "DEBUG:FuzzyMarketState:fuzzifying row[243]=> crisp=15.0\n",
      "DEBUG:FuzzyMarketState:fuzzifying row[244]=> crisp=13.0\n",
      "DEBUG:FuzzyMarketState:fuzzifying row[245]=> crisp=9.0\n",
      "DEBUG:FuzzyMarketState:fuzzifying row[246]=> crisp=16.0\n",
      "DEBUG:FuzzyMarketState:fuzzifying row[247]=> crisp=18.0\n",
      "DEBUG:FuzzyMarketState:fuzzifying row[248]=> crisp=24.0\n",
      "DEBUG:FuzzyMarketState:fuzzifying row[249]=> crisp=34.0\n",
      "DEBUG:FuzzyMarketState:fuzzifying row[250]=> crisp=26.0\n",
      "DEBUG:FuzzyMarketState:fuzzifying row[251]=> crisp=12.0\n",
      "DEBUG:FuzzyMarketState:fuzzifying row[252]=> crisp=24.0\n",
      "DEBUG:FuzzyMarketState:fuzzifying row[253]=> crisp=10.0\n",
      "DEBUG:FuzzyMarketState:fuzzifying row[254]=> crisp=33.0\n",
      "DEBUG:FuzzyMarketState:fuzzifying row[255]=> crisp=54.0\n",
      "DEBUG:FuzzyMarketState:fuzzifying row[256]=> crisp=30.0\n",
      "DEBUG:FuzzyMarketState:fuzzifying row[257]=> crisp=11.0\n",
      "DEBUG:FuzzyMarketState:fuzzifying row[258]=> crisp=11.0\n",
      "DEBUG:FuzzyMarketState:fuzzifying row[259]=> crisp=24.0\n",
      "DEBUG:FuzzyMarketState:fuzzifying row[260]=> crisp=20.0\n",
      "DEBUG:FuzzyMarketState:fuzzifying row[261]=> crisp=18.0\n",
      "DEBUG:FuzzyMarketState:fuzzifying row[262]=> crisp=65.0\n",
      "DEBUG:FuzzyMarketState:fuzzifying row[263]=> crisp=17.0\n",
      "DEBUG:FuzzyMarketState:fuzzifying row[264]=> crisp=30.0\n",
      "DEBUG:FuzzyMarketState:fuzzifying row[265]=> crisp=14.0\n",
      "DEBUG:FuzzyMarketState:fuzzifying row[266]=> crisp=13.0\n",
      "DEBUG:FuzzyMarketState:fuzzifying row[267]=> crisp=12.0\n",
      "DEBUG:FuzzyMarketState:fuzzifying row[268]=> crisp=12.0\n",
      "DEBUG:FuzzyMarketState:fuzzifying row[269]=> crisp=10.0\n",
      "DEBUG:FuzzyMarketState:fuzzifying row[270]=> crisp=12.0\n",
      "DEBUG:FuzzyMarketState:fuzzifying row[271]=> crisp=11.0\n",
      "DEBUG:FuzzyMarketState:fuzzifying row[272]=> crisp=15.0\n",
      "DEBUG:FuzzyMarketState:fuzzifying row[273]=> crisp=33.0\n",
      "DEBUG:FuzzyMarketState:fuzzifying row[274]=> crisp=33.0\n",
      "DEBUG:FuzzyMarketState:fuzzifying row[275]=> crisp=14.0\n",
      "DEBUG:FuzzyMarketState:fuzzifying row[276]=> crisp=21.0\n",
      "DEBUG:FuzzyMarketState:fuzzifying row[277]=> crisp=15.0\n",
      "DEBUG:FuzzyMarketState:fuzzifying row[278]=> crisp=10.0\n",
      "DEBUG:FuzzyMarketState:fuzzifying row[279]=> crisp=12.0\n",
      "DEBUG:FuzzyMarketState:fuzzifying row[280]=> crisp=15.0\n",
      "DEBUG:FuzzyMarketState:fuzzifying row[281]=> crisp=15.0\n",
      "DEBUG:FuzzyMarketState:fuzzifying row[282]=> crisp=18.0\n",
      "DEBUG:FuzzyMarketState:fuzzifying row[283]=> crisp=10.0\n",
      "DEBUG:FuzzyMarketState:fuzzifying row[284]=> crisp=15.0\n",
      "DEBUG:FuzzyMarketState:fuzzifying row[285]=> crisp=31.0\n",
      "DEBUG:FuzzyMarketState:fuzzifying row[286]=> crisp=64.0\n",
      "DEBUG:FuzzyMarketState:fuzzifying row[287]=> crisp=15.0\n",
      "DEBUG:FuzzyMarketState:fuzzifying row[288]=> crisp=8.0\n",
      "DEBUG:FuzzyMarketState:fuzzifying row[289]=> crisp=12.0\n",
      "DEBUG:FuzzyMarketState:fuzzifying row[290]=> crisp=37.0\n",
      "DEBUG:FuzzyMarketState:fuzzifying row[291]=> crisp=8.0\n"
     ]
    },
    {
     "name": "stdout",
     "output_type": "stream",
     "text": [
      "DEBUG:FuzzyMarketState:fuzzifying row[292]=> crisp=14.0\n",
      "DEBUG:FuzzyMarketState:fuzzifying row[293]=> crisp=52.0\n",
      "DEBUG:FuzzyMarketState:fuzzifying row[294]=> crisp=32.0\n",
      "DEBUG:FuzzyMarketState:fuzzifying row[295]=> crisp=24.0\n",
      "DEBUG:FuzzyMarketState:fuzzifying row[296]=> crisp=11.0\n",
      "DEBUG:FuzzyMarketState:fuzzifying row[297]=> crisp=19.0\n",
      "DEBUG:FuzzyMarketState:fuzzifying row[298]=> crisp=11.0\n",
      "DEBUG:FuzzyMarketState:fuzzifying row[299]=> crisp=11.0\n",
      "DEBUG:FuzzyMarketState:fuzzifying row[300]=> crisp=31.0\n",
      "DEBUG:FuzzyMarketState:fuzzifying row[301]=> crisp=64.0\n",
      "DEBUG:FuzzyMarketState:fuzzifying row[302]=> crisp=37.0\n",
      "DEBUG:FuzzyMarketState:fuzzifying row[303]=> crisp=26.0\n",
      "DEBUG:FuzzyMarketState:fuzzifying row[304]=> crisp=10.0\n",
      "DEBUG:FuzzyMarketState:fuzzifying row[305]=> crisp=31.0\n",
      "DEBUG:FuzzyMarketState:fuzzifying row[306]=> crisp=40.0\n"
     ]
    }
   ],
   "source": [
    "fms.setLoggingLevel(logging.DEBUG)\n",
    "_df = fms.fuzzifyZigzag(timeperiod=50)"
   ]
  },
  {
   "cell_type": "markdown",
   "metadata": {},
   "source": [
    "## Zigzag and Bollinger indicators"
   ]
  },
  {
   "cell_type": "code",
   "execution_count": null,
   "metadata": {},
   "outputs": [],
   "source": [
    "df_zz = df_crisp[(df_crisp.ZIGZAG > 0.0) & (df_crisp.ACTION.str.contains('-in-progress')==False)]\n",
    "df_zz = df_zz[['ZIGZAG','ACTION']].copy()\n",
    "self.__logger.debug('processing {} rows'.format(df_zz.shape[0]))\n",
    "\n",
    "# Use index as a sample count difference between zigzags\n",
    "_df1 = df_zz.reset_index().copy()\n",
    "_df2 = df_zz.reset_index().shift(1).copy()\n",
    "_df3 = df_zz.reset_index().shift(2).copy()    \n",
    "\n",
    "# Create DURATION columns with the duration of each flip and with the previous of same direction\n",
    "self.__logger.debug('Building fuzzy set points based on BBANDS')\n",
    "\n",
    "_df_result = df_zz.reset_index(drop=True)\n",
    "_df_result['ZZ_IDX'] = _df1['index']\n",
    "_df_result['DURATION_1'] = _df1['index'] - _df2['index']\n",
    "_df_result['DURATION_2'] = _df1['index'] - _df3['index']  \n",
    "_df_result['d1bbup1'], _df_result['d1bbma1'], _df_result['d1bblo1'] = talib.BBANDS(_df_result.DURATION_1, timeperiod=timeperiod, nbdevup=1.0, nbdevdn=1.0, matype=0)\n",
    "_df_result['d1bbup2'], _df_result['d1bbma2'], _df_result['d1bblo2'] = talib.BBANDS(_df_result.DURATION_1, timeperiod=timeperiod, nbdevup=2.0, nbdevdn=2.0, matype=0)    \n",
    "\n",
    "_df_result['d2bbup1'], _df_result['d2bbma1'], _df_result['d2bblo1'] = talib.BBANDS(_df_result.DURATION_2, timeperiod=timeperiod, nbdevup=1.0, nbdevdn=1.0, matype=0)\n",
    "_df_result['d2bbup2'], _df_result['d2bbma2'], _df_result['d2bblo2'] = talib.BBANDS(_df_result.DURATION_2, timeperiod=timeperiod, nbdevup=2.0, nbdevdn=2.0, matype=0)\n",
    "\n",
    "\n",
    "# Create RANGE columns with the range of each flip \n",
    "zrange = _df1.ZIGZAG - _df2.ZIGZAG\n",
    "zrange_pos = zrange[zrange > 0.0]\n",
    "zrange_neg = zrange[zrange < 0.0]"
   ]
  },
  {
   "cell_type": "code",
   "execution_count": 4,
   "metadata": {
    "scrolled": false
   },
   "outputs": [],
   "source": [
    "# build zigzag indicator\n",
    "df = fms.buildZigzag(df, minbars=12, bb_period=20, bb_dev=2.0, bb_sma=[100], nan_value=0.0)\n"
   ]
  },
  {
   "cell_type": "code",
   "execution_count": 5,
   "metadata": {
    "scrolled": true
   },
   "outputs": [
    {
     "name": "stdout",
     "output_type": "stream",
     "text": [
      "DEBUG:urllib3.connectionpool:Starting new HTTPS connection (1): plot.ly:443\n",
      "DEBUG:urllib3.connectionpool:https://plot.ly:443 \"POST /clientresp HTTP/1.1\" 200 None\n"
     ]
    },
    {
     "data": {
      "text/html": [
       "<iframe id=\"igraph\" scrolling=\"no\" style=\"border:none;\" seamless=\"seamless\" src=\"https://plot.ly/~raulMrello/130.embed\" height=\"525px\" width=\"100%\"></iframe>"
      ],
      "text/plain": [
       "<plotly.tools.PlotlyDisplay object>"
      ]
     },
     "execution_count": 5,
     "metadata": {},
     "output_type": "execute_result"
    }
   ],
   "source": [
    "# load dataframe with zigzag into fms and plot the zigzag trace\n",
    "fms.loadDataframe(df)\n",
    "zz_traces = fms.plotZigzag('black')\n",
    "py.iplot(zz_traces, filename='simple_ohlc')"
   ]
  },
  {
   "cell_type": "code",
   "execution_count": 6,
   "metadata": {
    "scrolled": true
   },
   "outputs": [
    {
     "name": "stdout",
     "output_type": "stream",
     "text": [
      "This is the format of your plot grid:\n",
      "[ (1,1) x1,y1 ]\n",
      "[ (2,1) x1,y2 ]\n",
      "[ (3,1) x1,y3 ]\n",
      "\n",
      "DEBUG:urllib3.connectionpool:Starting new HTTPS connection (1): plot.ly:443\n",
      "DEBUG:urllib3.connectionpool:https://plot.ly:443 \"POST /clientresp HTTP/1.1\" 200 None\n"
     ]
    },
    {
     "data": {
      "text/html": [
       "<iframe id=\"igraph\" scrolling=\"no\" style=\"border:none;\" seamless=\"seamless\" src=\"https://plot.ly/~raulMrello/130.embed\" height=\"600px\" width=\"100%\"></iframe>"
      ],
      "text/plain": [
       "<plotly.tools.PlotlyDisplay object>"
      ]
     },
     "execution_count": 6,
     "metadata": {},
     "output_type": "execute_result"
    }
   ],
   "source": [
    "# plots Bollinger indicators associated with zigzag\n",
    "fig = plotly.tools.make_subplots(rows=3, cols=1, subplot_titles=('Price & Bollinger', 'Bollinger derivatives'), shared_xaxes=True, vertical_spacing=0.1)\n",
    "bb_traces = fms.plotBollinger(['black', 'blue', 'red'])\n",
    "fig.append_trace(bb_traces[0], 1, 1)\n",
    "fig.append_trace(bb_traces[1], 1, 1)\n",
    "fig.append_trace(bb_traces[2], 1, 1)\n",
    "fig.append_trace(bb_traces[3], 1, 1)\n",
    "fig.append_trace(bb_traces[4], 2, 1)\n",
    "fig.append_trace(bb_traces[5], 3, 1)\n",
    "fig['layout'].update(height=600, title='Bollinger indicators')\n",
    "py.iplot(fig, filename='simple_ohlc')"
   ]
  },
  {
   "cell_type": "markdown",
   "metadata": {},
   "source": [
    "### Oscillators: MACD and RSI"
   ]
  },
  {
   "cell_type": "code",
   "execution_count": 6,
   "metadata": {},
   "outputs": [],
   "source": [
    "result = fms.buildOscillators(fms.getDataframe(), macd_applied='CLOSE', macd_fast=12, macd_slow=26, macd_sig=9, rsi_applied='CLOSE', rsi_period=14)"
   ]
  },
  {
   "cell_type": "code",
   "execution_count": 8,
   "metadata": {
    "scrolled": true
   },
   "outputs": [
    {
     "name": "stdout",
     "output_type": "stream",
     "text": [
      "This is the format of your plot grid:\n",
      "[ (1,1) x1,y1 ]\n",
      "[ (2,1) x1,y2 ]\n",
      "[ (3,1) x1,y3 ]\n",
      "\n",
      "DEBUG:urllib3.connectionpool:Starting new HTTPS connection (1): plot.ly:443\n",
      "DEBUG:urllib3.connectionpool:https://plot.ly:443 \"POST /clientresp HTTP/1.1\" 200 None\n"
     ]
    },
    {
     "data": {
      "text/html": [
       "<iframe id=\"igraph\" scrolling=\"no\" style=\"border:none;\" seamless=\"seamless\" src=\"https://plot.ly/~raulMrello/130.embed\" height=\"600px\" width=\"100%\"></iframe>"
      ],
      "text/plain": [
       "<plotly.tools.PlotlyDisplay object>"
      ]
     },
     "execution_count": 8,
     "metadata": {},
     "output_type": "execute_result"
    }
   ],
   "source": [
    "fig = plotly.tools.make_subplots(rows=3, cols=1, subplot_titles=('Price', 'MACD', 'RSI'), shared_xaxes=True, vertical_spacing=0.1)\n",
    "osc_traces = fms.plotOscillators(color=['blue','red','green'])\n",
    "fig.append_trace(osc_traces[0], 1, 1)\n",
    "fig.append_trace(osc_traces[1], 2, 1)\n",
    "fig.append_trace(osc_traces[2], 2, 1)\n",
    "fig.append_trace(osc_traces[4], 3, 1)\n",
    "fig['layout'].update(height=600, title='Oscillators')\n",
    "py.iplot(fig, filename='simple_ohlc')"
   ]
  },
  {
   "cell_type": "markdown",
   "metadata": {},
   "source": [
    "### Moving Averages Fast-Medium-Slow"
   ]
  },
  {
   "cell_type": "code",
   "execution_count": 7,
   "metadata": {},
   "outputs": [],
   "source": [
    "# build moving averages\n",
    "result = fms.build3MovingAverages(fms.getDataframe(), \n",
    "                                  ma_fast_applied='CLOSE', ma_fast_period=50, ma_fast_type='SMA', \n",
    "                                  ma_mid_applied='CLOSE', ma_mid_period=100, ma_mid_type='SMA', \n",
    "                                  ma_slow_applied='CLOSE', ma_slow_period=200, ma_slow_type='SMA',\n",
    "                                  trend_filters={'price-slow': 0.5, 'price-mid': 0.3, 'price-fast': 0.2})"
   ]
  },
  {
   "cell_type": "code",
   "execution_count": 10,
   "metadata": {},
   "outputs": [
    {
     "name": "stdout",
     "output_type": "stream",
     "text": [
      "DEBUG:urllib3.connectionpool:Starting new HTTPS connection (1): plot.ly:443\n",
      "DEBUG:urllib3.connectionpool:https://plot.ly:443 \"POST /clientresp HTTP/1.1\" 200 None\n"
     ]
    },
    {
     "data": {
      "text/html": [
       "<iframe id=\"igraph\" scrolling=\"no\" style=\"border:none;\" seamless=\"seamless\" src=\"https://plot.ly/~raulMrello/130.embed\" height=\"600px\" width=\"100%\"></iframe>"
      ],
      "text/plain": [
       "<plotly.tools.PlotlyDisplay object>"
      ]
     },
     "execution_count": 10,
     "metadata": {},
     "output_type": "execute_result"
    }
   ],
   "source": [
    "# plot moving averages\n",
    "ma_traces, ma_shapes = fms.plotMovingAverages(color=['blue', 'red', 'green'])\n",
    "fig = go.Figure(data=[ma_traces[0],ma_traces[1],ma_traces[2],ma_traces[3]])\n",
    "fig['layout'].update(height=600, title='Trends')\n",
    "fig['layout'].update(shapes=ma_shapes)\n",
    "#-------------\n",
    "def zoom(layout, xrange):\n",
    "    in_view = df.loc[fig.layout.xaxis.range[0]:fig.layout.xaxis.range[1]]\n",
    "    fig.layout.yaxis.range = [in_view.High.min() - 10, in_view.High.max() + 10]\n",
    "fig.layout.on_change(zoom, 'xaxis.range')\n",
    "py.iplot(fig, filename='simple_ohlc')"
   ]
  },
  {
   "cell_type": "markdown",
   "metadata": {},
   "source": [
    "### Fibonacci levels"
   ]
  },
  {
   "cell_type": "code",
   "execution_count": 8,
   "metadata": {},
   "outputs": [],
   "source": [
    "# build common fibo levels (both retracements and extensions)\n",
    "fms.buildCommonFiboLevels(fms.getDataframe(), nan_value=0.0)"
   ]
  },
  {
   "cell_type": "code",
   "execution_count": 13,
   "metadata": {},
   "outputs": [
    {
     "name": "stdout",
     "output_type": "stream",
     "text": [
      "DEBUG:urllib3.connectionpool:Starting new HTTPS connection (1): plot.ly:443\n",
      "DEBUG:urllib3.connectionpool:https://plot.ly:443 \"POST /clientresp HTTP/1.1\" 200 None\n"
     ]
    },
    {
     "data": {
      "text/html": [
       "<iframe id=\"igraph\" scrolling=\"no\" style=\"border:none;\" seamless=\"seamless\" src=\"https://plot.ly/~raulMrello/130.embed\" height=\"600px\" width=\"100%\"></iframe>"
      ],
      "text/plain": [
       "<plotly.tools.PlotlyDisplay object>"
      ]
     },
     "execution_count": 13,
     "metadata": {},
     "output_type": "execute_result"
    }
   ],
   "source": [
    "# plot fibo levels for a given sample\n",
    "length =  fms.getDataframe().shape[0]\n",
    "x = random.randint(int(length/2), length)\n",
    "fibo_traces, fibo_annotations, fibo_shapes = fms.plotFiboLevels(at=x, width=100, color='black')\n",
    "fig = go.Figure(data=[fibo_traces])\n",
    "fig['layout'].update(height=600, title='FiboLevels at {}'.format(x))\n",
    "fig['layout'].update(annotations=fibo_annotations)\n",
    "fig['layout'].update(shapes=fibo_shapes)\n",
    "def zoom(layout, xrange):\n",
    "    in_view = df.loc[fig.layout.xaxis.range[0]:fig.layout.xaxis.range[1]]\n",
    "    fig.layout.yaxis.range = [in_view.High.min() - 10, in_view.High.max() + 10]\n",
    "fig.layout.on_change(zoom, 'xaxis.range')\n",
    "py.iplot(fig, filename='simple_ohlc')"
   ]
  },
  {
   "cell_type": "markdown",
   "metadata": {},
   "source": [
    "### Supports & Resistances"
   ]
  },
  {
   "cell_type": "code",
   "execution_count": 9,
   "metadata": {},
   "outputs": [
    {
     "data": {
      "text/plain": [
       "(6039, 5966)"
      ]
     },
     "execution_count": 9,
     "metadata": {},
     "output_type": "execute_result"
    }
   ],
   "source": [
    "# build supports and resistances levels from last trend zigzags\n",
    "_supports = fms.buildSupports(fms.getDataframe())\n",
    "s = _supports\n",
    "s = s[s != 0.0]\n",
    "x1 = s.index.values[-1]\n",
    "x2 = s.index.values[-2]\n",
    "x1,x2\n"
   ]
  },
  {
   "cell_type": "code",
   "execution_count": 10,
   "metadata": {},
   "outputs": [
    {
     "name": "stdout",
     "output_type": "stream",
     "text": [
      "DEBUG:urllib3.connectionpool:Starting new HTTPS connection (1): plot.ly:443\n",
      "DEBUG:urllib3.connectionpool:https://plot.ly:443 \"POST /clientresp HTTP/1.1\" 200 None\n"
     ]
    },
    {
     "data": {
      "text/html": [
       "<iframe id=\"igraph\" scrolling=\"no\" style=\"border:none;\" seamless=\"seamless\" src=\"https://plot.ly/~raulMrello/130.embed\" height=\"600px\" width=\"100%\"></iframe>"
      ],
      "text/plain": [
       "<plotly.tools.PlotlyDisplay object>"
      ]
     },
     "execution_count": 10,
     "metadata": {},
     "output_type": "execute_result"
    }
   ],
   "source": [
    "# plot supports levels for samples x1 and x2\n",
    "trace_ohlc,s1_shape=fms.plotHorizontalLine(x1+1, x1, x1+100, s.iloc[-1], color='brown', width=2, dash='dashdot')\n",
    "_,s2_shape=fms.plotHorizontalLine(x2+1, x2, x2+100, s.iloc[-2], color='violet', width=2, dash='dashdot')\n",
    "fig = go.Figure(data=[trace_ohlc])\n",
    "fig['layout'].update(height=600, title='Supports at {},{}'.format(x1+1,x2+1))\n",
    "fig['layout'].update(shapes=[s1_shape, s2_shape])\n",
    "#-------------\n",
    "def zoom(layout, xrange):\n",
    "    in_view = df.loc[fig.layout.xaxis.range[0]:fig.layout.xaxis.range[1]]\n",
    "    fig.layout.yaxis.range = [in_view.High.min() - 10, in_view.High.max() + 10]\n",
    "fig.layout.on_change(zoom, 'xaxis.range')\n",
    "py.iplot(fig, filename='simple_ohlc')"
   ]
  },
  {
   "cell_type": "code",
   "execution_count": 11,
   "metadata": {},
   "outputs": [
    {
     "data": {
      "text/plain": [
       "(6615, 6536)"
      ]
     },
     "execution_count": 11,
     "metadata": {},
     "output_type": "execute_result"
    }
   ],
   "source": [
    "# build supports and resistances levels from last trend zigzags\n",
    "_resist = fms.buildResistances(fms.getDataframe(), nan_value=0.0)\n",
    "r = _resist\n",
    "r = r[r != 0.0]\n",
    "x1 = r.index.values[-1]\n",
    "x2 = r.index.values[-2]\n",
    "x1,x2"
   ]
  },
  {
   "cell_type": "code",
   "execution_count": 12,
   "metadata": {},
   "outputs": [
    {
     "name": "stdout",
     "output_type": "stream",
     "text": [
      "DEBUG:urllib3.connectionpool:Starting new HTTPS connection (1): plot.ly:443\n",
      "DEBUG:urllib3.connectionpool:https://plot.ly:443 \"POST /clientresp HTTP/1.1\" 200 None\n"
     ]
    },
    {
     "data": {
      "text/html": [
       "<iframe id=\"igraph\" scrolling=\"no\" style=\"border:none;\" seamless=\"seamless\" src=\"https://plot.ly/~raulMrello/130.embed\" height=\"600px\" width=\"100%\"></iframe>"
      ],
      "text/plain": [
       "<plotly.tools.PlotlyDisplay object>"
      ]
     },
     "execution_count": 12,
     "metadata": {},
     "output_type": "execute_result"
    }
   ],
   "source": [
    "# plot supports levels for samples x1 and x2\n",
    "trace_ohlc,r1_shape=fms.plotHorizontalLine(at=x1+1, x0=x1, x1=x1+100, value=r.iloc[-1], color='brown', width=2, dash='dashdot')\n",
    "_,r2_shape=fms.plotHorizontalLine(x2+1, x2, x2+100, r.iloc[-2], color='violet', width=2, dash='dashdot')\n",
    "fig = go.Figure(data=[trace_ohlc])\n",
    "fig['layout'].update(height=600, title='Resistances at {},{}'.format(x1+1,x2+1))\n",
    "fig['layout'].update(shapes=[r1_shape, r2_shape])\n",
    "#-------------\n",
    "def zoom(layout, xrange):\n",
    "    in_view = df.loc[fig.layout.xaxis.range[0]:fig.layout.xaxis.range[1]]\n",
    "    fig.layout.yaxis.range = [in_view.High.min() - 10, in_view.High.max() + 10]\n",
    "fig.layout.on_change(zoom, 'xaxis.range')\n",
    "py.iplot(fig, filename='simple_ohlc')"
   ]
  },
  {
   "cell_type": "markdown",
   "metadata": {},
   "source": [
    "### Channels"
   ]
  },
  {
   "cell_type": "code",
   "execution_count": 25,
   "metadata": {},
   "outputs": [
    {
     "data": {
      "text/plain": [
       "(6625, 6625, 'P3,P1', 'P4,P2')"
      ]
     },
     "execution_count": 25,
     "metadata": {},
     "output_type": "execute_result"
    }
   ],
   "source": [
    "# build channel lines\n",
    "_channel = fms.buildChannel(fms.getDataframe(), nan_value='')\n",
    "_upperline = _channel['channel_upper_limit']\n",
    "_bottomline = _channel['channel_lower_limit']\n",
    "_upperline = _upperline[_upperline != '']\n",
    "_bottomline = _bottomline[_bottomline != '']\n",
    "_ux = _upperline.index.values[-1]\n",
    "_bx = _bottomline.index.values[-1]\n",
    "_ulast = _upperline.iloc[-1]\n",
    "_blast = _bottomline.iloc[-1]\n",
    "_ux,_bx,_ulast,_blast\n"
   ]
  },
  {
   "cell_type": "code",
   "execution_count": 26,
   "metadata": {},
   "outputs": [
    {
     "name": "stdout",
     "output_type": "stream",
     "text": [
      "DEBUG:urllib3.connectionpool:Starting new HTTPS connection (1): plot.ly:443\n",
      "DEBUG:urllib3.connectionpool:https://plot.ly:443 \"POST /clientresp HTTP/1.1\" 200 None\n"
     ]
    },
    {
     "data": {
      "text/html": [
       "<iframe id=\"igraph\" scrolling=\"no\" style=\"border:none;\" seamless=\"seamless\" src=\"https://plot.ly/~raulMrello/130.embed\" height=\"600px\" width=\"100%\"></iframe>"
      ],
      "text/plain": [
       "<plotly.tools.PlotlyDisplay object>"
      ]
     },
     "execution_count": 26,
     "metadata": {},
     "output_type": "execute_result"
    }
   ],
   "source": [
    "# plot channel lines for sample _ux or _bx\n",
    "x = _ux+1\n",
    "trace_ohlc, ch_shapes = fms.plotChannel(x, extended=100, color='black', width=1, dash='dashdot')\n",
    "fig = go.Figure(data=[trace_ohlc])\n",
    "fig['layout'].update(height=600, title='Channel at {}'.format(x))\n",
    "fig['layout'].update(shapes=ch_shapes)\n",
    "#-------------\n",
    "def zoom(layout, xrange):\n",
    "    in_view = df.loc[fig.layout.xaxis.range[0]:fig.layout.xaxis.range[1]]\n",
    "    fig.layout.yaxis.range = [in_view.High.min() - 10, in_view.High.max() + 10]\n",
    "fig.layout.on_change(zoom, 'xaxis.range')\n",
    "py.iplot(fig, filename='simple_ohlc')"
   ]
  },
  {
   "cell_type": "markdown",
   "metadata": {},
   "source": [
    "### Trends"
   ]
  },
  {
   "cell_type": "code",
   "execution_count": 27,
   "metadata": {},
   "outputs": [],
   "source": [
    "# build trends with different filters\n",
    "filters = {'sma-trend':0.75, 'zigzag-trend':0.15, 'fibo-trend':0.1}\n",
    "_trends = fms.buildTrends(fms.getDataframe(), filters = filters, nan_value=0.0)"
   ]
  },
  {
   "cell_type": "code",
   "execution_count": null,
   "metadata": {},
   "outputs": [],
   "source": [
    "# plot trends\n",
    "trace_ohlc, trend_shapes = fms.plotTrends(nan_value=0.0)\n",
    "fig = go.Figure(data=[trace_ohlc])\n",
    "fig['layout'].update(height=600, title='Trends')\n",
    "fig['layout'].update(shapes=trend_shapes)\n",
    "#-------------\n",
    "def zoom(layout, xrange):\n",
    "    in_view = df.loc[fig.layout.xaxis.range[0]:fig.layout.xaxis.range[1]]\n",
    "    fig.layout.yaxis.range = [in_view.High.min() - 10, in_view.High.max() + 10]\n",
    "fig.layout.on_change(zoom, 'xaxis.range')\n",
    "py.iplot(fig, filename='simple_ohlc')"
   ]
  },
  {
   "cell_type": "markdown",
   "metadata": {},
   "source": [
    "### Divergences"
   ]
  },
  {
   "cell_type": "code",
   "execution_count": 17,
   "metadata": {},
   "outputs": [],
   "source": [
    "# build divergences\n",
    "_bullish_div, _bearish_div = fms.buildDivergences(fms.getDataframe(), nan_value=0.0)"
   ]
  },
  {
   "cell_type": "code",
   "execution_count": null,
   "metadata": {
    "scrolled": true
   },
   "outputs": [],
   "source": [
    "# plot divergences\n",
    "trace_ohlc, trace_macd_main, trace_rsi, div_shapes = fms.plotDivergences(color='blue', nan_value = 0.0)\n",
    "fig = plotly.tools.make_subplots(rows=3, cols=1, subplot_titles=('OHLC', 'MACD', 'RSI'), shared_xaxes=True, vertical_spacing=0.1)\n",
    "fig.append_trace(trace_ohlc, 1, 1)\n",
    "fig.append_trace(trace_macd_main, 2, 1)\n",
    "fig.append_trace(trace_rsi, 3, 1)\n",
    "fig['layout'].update(height=600, title='Divergences')\n",
    "fig['layout'].update(shapes=div_shapes)\n",
    "py.iplot(fig, filename='simple_ohlc')"
   ]
  },
  {
   "cell_type": "markdown",
   "metadata": {},
   "source": [
    "### Indicator based API"
   ]
  },
  {
   "cell_type": "code",
   "execution_count": 9,
   "metadata": {},
   "outputs": [],
   "source": [
    "# load dataframe\n",
    "df = fms.loadCSV('../csv_data/EURUSD_H4.csv', sep=';')\n",
    "fms.loadDataframe(df)\n",
    "_df = fms.buildIndicators()\n",
    "fms.plotIndicators()"
   ]
  },
  {
   "cell_type": "code",
   "execution_count": null,
   "metadata": {},
   "outputs": [],
   "source": [
    "fig = go.Figure(data=[fms.trace_ohlc, fms.trace_zigzag])\n",
    "fig['layout'].update(height=600, title='Bollinger indicators')\n",
    "fig['layout'].update(shapes=fms.trend_shapes)\n",
    "py.iplot(fig, filename='simple_ohlc')\n"
   ]
  },
  {
   "cell_type": "markdown",
   "metadata": {},
   "source": [
    "### New bar update"
   ]
  },
  {
   "cell_type": "code",
   "execution_count": 26,
   "metadata": {},
   "outputs": [
    {
     "data": {
      "text/html": [
       "<div>\n",
       "<style scoped>\n",
       "    .dataframe tbody tr th:only-of-type {\n",
       "        vertical-align: middle;\n",
       "    }\n",
       "\n",
       "    .dataframe tbody tr th {\n",
       "        vertical-align: top;\n",
       "    }\n",
       "\n",
       "    .dataframe thead th {\n",
       "        text-align: right;\n",
       "    }\n",
       "</style>\n",
       "<table border=\"1\" class=\"dataframe\">\n",
       "  <thead>\n",
       "    <tr style=\"text-align: right;\">\n",
       "      <th></th>\n",
       "      <th>TIME</th>\n",
       "      <th>OPEN</th>\n",
       "      <th>HIGH</th>\n",
       "      <th>LOW</th>\n",
       "      <th>CLOSE</th>\n",
       "      <th>TICKVOL</th>\n",
       "      <th>VOL</th>\n",
       "      <th>SPREAD</th>\n",
       "      <th>BOLLINGER_HI</th>\n",
       "      <th>BOLLINGER_MA</th>\n",
       "      <th>...</th>\n",
       "      <th>DIV_REG_BULL_RSI</th>\n",
       "      <th>DIV_REG_BULL_RSI_FROM</th>\n",
       "      <th>DIV_DOUB_HID_BEAR_RSI</th>\n",
       "      <th>DIV_DOUB_HID_BEAR_RSI_FROM</th>\n",
       "      <th>DIV_HID_BEAR_RSI</th>\n",
       "      <th>DIV_HID_BEAR_RSI_FROM</th>\n",
       "      <th>DIV_DOUB_HID_BULL_RSI</th>\n",
       "      <th>DIV_DOUB_HID_BULL_RSI_FROM</th>\n",
       "      <th>DIV_HID_BULL_RSI</th>\n",
       "      <th>DIV_HID_BULL_RSI_FROM</th>\n",
       "    </tr>\n",
       "  </thead>\n",
       "  <tbody>\n",
       "    <tr>\n",
       "      <th>6520</th>\n",
       "      <td>2019-05-22 04:00:00</td>\n",
       "      <td>1.11608</td>\n",
       "      <td>1.11656</td>\n",
       "      <td>1.11533</td>\n",
       "      <td>1.11553</td>\n",
       "      <td>3295</td>\n",
       "      <td>0</td>\n",
       "      <td>0</td>\n",
       "      <td>1.116355</td>\n",
       "      <td>1.115805</td>\n",
       "      <td>...</td>\n",
       "      <td>0</td>\n",
       "      <td>0</td>\n",
       "      <td>0</td>\n",
       "      <td>0</td>\n",
       "      <td>0</td>\n",
       "      <td>0</td>\n",
       "      <td>0</td>\n",
       "      <td>0</td>\n",
       "      <td>0</td>\n",
       "      <td>0</td>\n",
       "    </tr>\n",
       "    <tr>\n",
       "      <th>6521</th>\n",
       "      <td>2019-05-22 08:00:00</td>\n",
       "      <td>1.11553</td>\n",
       "      <td>1.11638</td>\n",
       "      <td>1.11486</td>\n",
       "      <td>1.11594</td>\n",
       "      <td>10759</td>\n",
       "      <td>0</td>\n",
       "      <td>0</td>\n",
       "      <td>1.116145</td>\n",
       "      <td>1.115735</td>\n",
       "      <td>...</td>\n",
       "      <td>0</td>\n",
       "      <td>0</td>\n",
       "      <td>0</td>\n",
       "      <td>0</td>\n",
       "      <td>0</td>\n",
       "      <td>0</td>\n",
       "      <td>0</td>\n",
       "      <td>0</td>\n",
       "      <td>0</td>\n",
       "      <td>0</td>\n",
       "    </tr>\n",
       "    <tr>\n",
       "      <th>6522</th>\n",
       "      <td>2019-05-22 12:00:00</td>\n",
       "      <td>1.11594</td>\n",
       "      <td>1.11804</td>\n",
       "      <td>1.11579</td>\n",
       "      <td>1.11669</td>\n",
       "      <td>11949</td>\n",
       "      <td>0</td>\n",
       "      <td>0</td>\n",
       "      <td>1.117065</td>\n",
       "      <td>1.116315</td>\n",
       "      <td>...</td>\n",
       "      <td>0</td>\n",
       "      <td>0</td>\n",
       "      <td>0</td>\n",
       "      <td>0</td>\n",
       "      <td>0</td>\n",
       "      <td>0</td>\n",
       "      <td>0</td>\n",
       "      <td>0</td>\n",
       "      <td>0</td>\n",
       "      <td>0</td>\n",
       "    </tr>\n",
       "    <tr>\n",
       "      <th>6523</th>\n",
       "      <td>2019-05-22 16:00:00</td>\n",
       "      <td>1.11669</td>\n",
       "      <td>1.11689</td>\n",
       "      <td>1.11509</td>\n",
       "      <td>1.11569</td>\n",
       "      <td>15134</td>\n",
       "      <td>0</td>\n",
       "      <td>0</td>\n",
       "      <td>1.117190</td>\n",
       "      <td>1.116190</td>\n",
       "      <td>...</td>\n",
       "      <td>0</td>\n",
       "      <td>0</td>\n",
       "      <td>0</td>\n",
       "      <td>0</td>\n",
       "      <td>0</td>\n",
       "      <td>0</td>\n",
       "      <td>0</td>\n",
       "      <td>0</td>\n",
       "      <td>0</td>\n",
       "      <td>0</td>\n",
       "    </tr>\n",
       "    <tr>\n",
       "      <th>6524</th>\n",
       "      <td>2019-05-22 20:00:00</td>\n",
       "      <td>1.11569</td>\n",
       "      <td>1.11636</td>\n",
       "      <td>1.11495</td>\n",
       "      <td>1.11495</td>\n",
       "      <td>5914</td>\n",
       "      <td>0</td>\n",
       "      <td>0</td>\n",
       "      <td>1.116060</td>\n",
       "      <td>1.115320</td>\n",
       "      <td>...</td>\n",
       "      <td>0</td>\n",
       "      <td>0</td>\n",
       "      <td>0</td>\n",
       "      <td>0</td>\n",
       "      <td>0</td>\n",
       "      <td>0</td>\n",
       "      <td>0</td>\n",
       "      <td>0</td>\n",
       "      <td>0</td>\n",
       "      <td>0</td>\n",
       "    </tr>\n",
       "  </tbody>\n",
       "</table>\n",
       "<p>5 rows × 98 columns</p>\n",
       "</div>"
      ],
      "text/plain": [
       "                    TIME     OPEN     HIGH      LOW    CLOSE  TICKVOL  VOL  \\\n",
       "6520 2019-05-22 04:00:00  1.11608  1.11656  1.11533  1.11553     3295    0   \n",
       "6521 2019-05-22 08:00:00  1.11553  1.11638  1.11486  1.11594    10759    0   \n",
       "6522 2019-05-22 12:00:00  1.11594  1.11804  1.11579  1.11669    11949    0   \n",
       "6523 2019-05-22 16:00:00  1.11669  1.11689  1.11509  1.11569    15134    0   \n",
       "6524 2019-05-22 20:00:00  1.11569  1.11636  1.11495  1.11495     5914    0   \n",
       "\n",
       "      SPREAD  BOLLINGER_HI  BOLLINGER_MA          ...            \\\n",
       "6520       0      1.116355      1.115805          ...             \n",
       "6521       0      1.116145      1.115735          ...             \n",
       "6522       0      1.117065      1.116315          ...             \n",
       "6523       0      1.117190      1.116190          ...             \n",
       "6524       0      1.116060      1.115320          ...             \n",
       "\n",
       "      DIV_REG_BULL_RSI  DIV_REG_BULL_RSI_FROM  DIV_DOUB_HID_BEAR_RSI  \\\n",
       "6520                 0                      0                      0   \n",
       "6521                 0                      0                      0   \n",
       "6522                 0                      0                      0   \n",
       "6523                 0                      0                      0   \n",
       "6524                 0                      0                      0   \n",
       "\n",
       "      DIV_DOUB_HID_BEAR_RSI_FROM  DIV_HID_BEAR_RSI DIV_HID_BEAR_RSI_FROM  \\\n",
       "6520                           0                 0                     0   \n",
       "6521                           0                 0                     0   \n",
       "6522                           0                 0                     0   \n",
       "6523                           0                 0                     0   \n",
       "6524                           0                 0                     0   \n",
       "\n",
       "      DIV_DOUB_HID_BULL_RSI  DIV_DOUB_HID_BULL_RSI_FROM  DIV_HID_BULL_RSI  \\\n",
       "6520                      0                           0                 0   \n",
       "6521                      0                           0                 0   \n",
       "6522                      0                           0                 0   \n",
       "6523                      0                           0                 0   \n",
       "6524                      0                           0                 0   \n",
       "\n",
       "      DIV_HID_BULL_RSI_FROM  \n",
       "6520                      0  \n",
       "6521                      0  \n",
       "6522                      0  \n",
       "6523                      0  \n",
       "6524                      0  \n",
       "\n",
       "[5 rows x 98 columns]"
      ]
     },
     "execution_count": 26,
     "metadata": {},
     "output_type": "execute_result"
    }
   ],
   "source": [
    "# load dataframe\n",
    "df = fms.loadCSV('../csv_data/EURUSD_H4.csv', sep=';')\n",
    "_df1 = df[:-1].copy()\n",
    "fms.loadDataframe(_df1)\n",
    "_df2 = fms.buildIndicators()\n",
    "_df2.tail()"
   ]
  },
  {
   "cell_type": "code",
   "execution_count": 27,
   "metadata": {},
   "outputs": [
    {
     "data": {
      "text/html": [
       "<div>\n",
       "<style scoped>\n",
       "    .dataframe tbody tr th:only-of-type {\n",
       "        vertical-align: middle;\n",
       "    }\n",
       "\n",
       "    .dataframe tbody tr th {\n",
       "        vertical-align: top;\n",
       "    }\n",
       "\n",
       "    .dataframe thead th {\n",
       "        text-align: right;\n",
       "    }\n",
       "</style>\n",
       "<table border=\"1\" class=\"dataframe\">\n",
       "  <thead>\n",
       "    <tr style=\"text-align: right;\">\n",
       "      <th></th>\n",
       "      <th>TIME</th>\n",
       "      <th>OPEN</th>\n",
       "      <th>HIGH</th>\n",
       "      <th>LOW</th>\n",
       "      <th>CLOSE</th>\n",
       "      <th>TICKVOL</th>\n",
       "      <th>VOL</th>\n",
       "      <th>SPREAD</th>\n",
       "      <th>BOLLINGER_HI</th>\n",
       "      <th>BOLLINGER_MA</th>\n",
       "      <th>...</th>\n",
       "      <th>DIV_REG_BULL_RSI</th>\n",
       "      <th>DIV_REG_BULL_RSI_FROM</th>\n",
       "      <th>DIV_DOUB_HID_BEAR_RSI</th>\n",
       "      <th>DIV_DOUB_HID_BEAR_RSI_FROM</th>\n",
       "      <th>DIV_HID_BEAR_RSI</th>\n",
       "      <th>DIV_HID_BEAR_RSI_FROM</th>\n",
       "      <th>DIV_DOUB_HID_BULL_RSI</th>\n",
       "      <th>DIV_DOUB_HID_BULL_RSI_FROM</th>\n",
       "      <th>DIV_HID_BULL_RSI</th>\n",
       "      <th>DIV_HID_BULL_RSI_FROM</th>\n",
       "    </tr>\n",
       "  </thead>\n",
       "  <tbody>\n",
       "    <tr>\n",
       "      <th>6521</th>\n",
       "      <td>2019-05-22 08:00:00</td>\n",
       "      <td>1.11553</td>\n",
       "      <td>1.11638</td>\n",
       "      <td>1.11486</td>\n",
       "      <td>1.11594</td>\n",
       "      <td>10759</td>\n",
       "      <td>0</td>\n",
       "      <td>0</td>\n",
       "      <td>1.116145</td>\n",
       "      <td>1.115735</td>\n",
       "      <td>...</td>\n",
       "      <td>0</td>\n",
       "      <td>0</td>\n",
       "      <td>0</td>\n",
       "      <td>0</td>\n",
       "      <td>0</td>\n",
       "      <td>0</td>\n",
       "      <td>0</td>\n",
       "      <td>0</td>\n",
       "      <td>0</td>\n",
       "      <td>0</td>\n",
       "    </tr>\n",
       "    <tr>\n",
       "      <th>6522</th>\n",
       "      <td>2019-05-22 12:00:00</td>\n",
       "      <td>1.11594</td>\n",
       "      <td>1.11804</td>\n",
       "      <td>1.11579</td>\n",
       "      <td>1.11669</td>\n",
       "      <td>11949</td>\n",
       "      <td>0</td>\n",
       "      <td>0</td>\n",
       "      <td>1.117065</td>\n",
       "      <td>1.116315</td>\n",
       "      <td>...</td>\n",
       "      <td>0</td>\n",
       "      <td>0</td>\n",
       "      <td>0</td>\n",
       "      <td>0</td>\n",
       "      <td>0</td>\n",
       "      <td>0</td>\n",
       "      <td>0</td>\n",
       "      <td>0</td>\n",
       "      <td>0</td>\n",
       "      <td>0</td>\n",
       "    </tr>\n",
       "    <tr>\n",
       "      <th>6523</th>\n",
       "      <td>2019-05-22 16:00:00</td>\n",
       "      <td>1.11669</td>\n",
       "      <td>1.11689</td>\n",
       "      <td>1.11509</td>\n",
       "      <td>1.11569</td>\n",
       "      <td>15134</td>\n",
       "      <td>0</td>\n",
       "      <td>0</td>\n",
       "      <td>1.117190</td>\n",
       "      <td>1.116190</td>\n",
       "      <td>...</td>\n",
       "      <td>0</td>\n",
       "      <td>0</td>\n",
       "      <td>0</td>\n",
       "      <td>0</td>\n",
       "      <td>0</td>\n",
       "      <td>0</td>\n",
       "      <td>0</td>\n",
       "      <td>0</td>\n",
       "      <td>0</td>\n",
       "      <td>0</td>\n",
       "    </tr>\n",
       "    <tr>\n",
       "      <th>6524</th>\n",
       "      <td>2019-05-22 20:00:00</td>\n",
       "      <td>1.11569</td>\n",
       "      <td>1.11636</td>\n",
       "      <td>1.11495</td>\n",
       "      <td>1.11495</td>\n",
       "      <td>5914</td>\n",
       "      <td>0</td>\n",
       "      <td>0</td>\n",
       "      <td>1.116060</td>\n",
       "      <td>1.115320</td>\n",
       "      <td>...</td>\n",
       "      <td>0</td>\n",
       "      <td>0</td>\n",
       "      <td>0</td>\n",
       "      <td>0</td>\n",
       "      <td>0</td>\n",
       "      <td>0</td>\n",
       "      <td>0</td>\n",
       "      <td>0</td>\n",
       "      <td>0</td>\n",
       "      <td>0</td>\n",
       "    </tr>\n",
       "    <tr>\n",
       "      <th>6525</th>\n",
       "      <td>2019-05-23 00:00:00</td>\n",
       "      <td>1.11495</td>\n",
       "      <td>1.11571</td>\n",
       "      <td>1.11495</td>\n",
       "      <td>1.11525</td>\n",
       "      <td>3558</td>\n",
       "      <td>0</td>\n",
       "      <td>0</td>\n",
       "      <td>1.115400</td>\n",
       "      <td>1.115100</td>\n",
       "      <td>...</td>\n",
       "      <td>0</td>\n",
       "      <td>0</td>\n",
       "      <td>0</td>\n",
       "      <td>0</td>\n",
       "      <td>0</td>\n",
       "      <td>0</td>\n",
       "      <td>0</td>\n",
       "      <td>0</td>\n",
       "      <td>0</td>\n",
       "      <td>0</td>\n",
       "    </tr>\n",
       "  </tbody>\n",
       "</table>\n",
       "<p>5 rows × 98 columns</p>\n",
       "</div>"
      ],
      "text/plain": [
       "                    TIME     OPEN     HIGH      LOW    CLOSE  TICKVOL  VOL  \\\n",
       "6521 2019-05-22 08:00:00  1.11553  1.11638  1.11486  1.11594    10759    0   \n",
       "6522 2019-05-22 12:00:00  1.11594  1.11804  1.11579  1.11669    11949    0   \n",
       "6523 2019-05-22 16:00:00  1.11669  1.11689  1.11509  1.11569    15134    0   \n",
       "6524 2019-05-22 20:00:00  1.11569  1.11636  1.11495  1.11495     5914    0   \n",
       "6525 2019-05-23 00:00:00  1.11495  1.11571  1.11495  1.11525     3558    0   \n",
       "\n",
       "      SPREAD  BOLLINGER_HI  BOLLINGER_MA          ...            \\\n",
       "6521       0      1.116145      1.115735          ...             \n",
       "6522       0      1.117065      1.116315          ...             \n",
       "6523       0      1.117190      1.116190          ...             \n",
       "6524       0      1.116060      1.115320          ...             \n",
       "6525       0      1.115400      1.115100          ...             \n",
       "\n",
       "      DIV_REG_BULL_RSI  DIV_REG_BULL_RSI_FROM  DIV_DOUB_HID_BEAR_RSI  \\\n",
       "6521                 0                      0                      0   \n",
       "6522                 0                      0                      0   \n",
       "6523                 0                      0                      0   \n",
       "6524                 0                      0                      0   \n",
       "6525                 0                      0                      0   \n",
       "\n",
       "      DIV_DOUB_HID_BEAR_RSI_FROM  DIV_HID_BEAR_RSI DIV_HID_BEAR_RSI_FROM  \\\n",
       "6521                           0                 0                     0   \n",
       "6522                           0                 0                     0   \n",
       "6523                           0                 0                     0   \n",
       "6524                           0                 0                     0   \n",
       "6525                           0                 0                     0   \n",
       "\n",
       "      DIV_DOUB_HID_BULL_RSI  DIV_DOUB_HID_BULL_RSI_FROM  DIV_HID_BULL_RSI  \\\n",
       "6521                      0                           0                 0   \n",
       "6522                      0                           0                 0   \n",
       "6523                      0                           0                 0   \n",
       "6524                      0                           0                 0   \n",
       "6525                      0                           0                 0   \n",
       "\n",
       "      DIV_HID_BULL_RSI_FROM  \n",
       "6521                      0  \n",
       "6522                      0  \n",
       "6523                      0  \n",
       "6524                      0  \n",
       "6525                      0  \n",
       "\n",
       "[5 rows x 98 columns]"
      ]
     },
     "execution_count": 27,
     "metadata": {},
     "output_type": "execute_result"
    }
   ],
   "source": [
    "row = df.iloc[-1].copy()\n",
    "_df3 = fms.updateIndicators(row)\n",
    "_df3.tail()"
   ]
  }
 ],
 "metadata": {
  "accelerator": "TPU",
  "colab": {
   "collapsed_sections": [],
   "name": "FinTech_LSTM.ipynb",
   "provenance": [],
   "version": "0.3.2"
  },
  "kernelspec": {
   "display_name": "Python [conda env:keras]",
   "language": "python",
   "name": "conda-env-keras-py"
  },
  "language_info": {
   "codemirror_mode": {
    "name": "ipython",
    "version": 3
   },
   "file_extension": ".py",
   "mimetype": "text/x-python",
   "name": "python",
   "nbconvert_exporter": "python",
   "pygments_lexer": "ipython3",
   "version": "3.6.6"
  }
 },
 "nbformat": 4,
 "nbformat_minor": 1
}
