{
 "cells": [
  {
   "cell_type": "markdown",
   "metadata": {
    "colab_type": "text",
    "id": "pQWfP-VMvX7c"
   },
   "source": [
    "# Introduction\n",
    "\n",
    "In this notebook, I will fuzzify all market state parameters and build a FuzzyStateVector which determines the current state of the market."
   ]
  },
  {
   "cell_type": "code",
   "execution_count": 19,
   "metadata": {},
   "outputs": [
    {
     "name": "stdout",
     "output_type": "stream",
     "text": [
      "The autoreload extension is already loaded. To reload it, use:\n",
      "  %reload_ext autoreload\n"
     ]
    }
   ],
   "source": [
    "%load_ext autoreload\n",
    "%autoreload 2"
   ]
  },
  {
   "cell_type": "code",
   "execution_count": 20,
   "metadata": {},
   "outputs": [
    {
     "data": {
      "text/html": [
       "<script>requirejs.config({paths: { 'plotly': ['https://cdn.plot.ly/plotly-latest.min']},});if(!window.Plotly) {{require(['plotly'],function(plotly) {window.Plotly=plotly;});}}</script>"
      ],
      "text/vnd.plotly.v1+html": [
       "<script>requirejs.config({paths: { 'plotly': ['https://cdn.plot.ly/plotly-latest.min']},});if(!window.Plotly) {{require(['plotly'],function(plotly) {window.Plotly=plotly;});}}</script>"
      ]
     },
     "metadata": {},
     "output_type": "display_data"
    },
    {
     "name": "stdout",
     "output_type": "stream",
     "text": [
      "Packages loaded!!\n"
     ]
    }
   ],
   "source": [
    "# import requires packages\n",
    "# Append relative path to FuzzyMarketState.py\n",
    "import sys\n",
    "sys.path.append('..')\n",
    "\n",
    "from FuzzyMarketState import FuzzyMarketState\n",
    "\n",
    "import plotly\n",
    "import plotly.plotly as py\n",
    "import plotly.graph_objs as go\n",
    "from plotly.graph_objs import *\n",
    "from plotly.tools import FigureFactory as FF\n",
    "import plotly.tools as tls\n",
    "plotly.offline.init_notebook_mode(connected=True)\n",
    "\n",
    "import logging\n",
    "logging.basicConfig(level=logging.DEBUG, stream=sys.stdout)\n",
    "\n",
    "import random\n",
    "\n",
    "# Create object\n",
    "fms = FuzzyMarketState(logging.WARN)\n",
    "\n",
    "# load dataframe\n",
    "df = fms.loadCSV('../csv_data/EURUSD_H4.csv', sep=';')\n",
    "fms.loadDataframe(df)\n",
    "df_crisp = fms.buildIndicators()\n",
    "\n",
    "print('Packages loaded!!')"
   ]
  },
  {
   "cell_type": "markdown",
   "metadata": {},
   "source": [
    "### Zigzag fuzzification\n",
    "\n",
    "Zigzag indicator includes: \n",
    "\n",
    "- Zigzag flips\n",
    "- Bollinger indicators\n",
    "\n",
    "Based on these indicators, several fuzzy parameters can be sinthetically built, as:\n"
   ]
  },
  {
   "cell_type": "code",
   "execution_count": 39,
   "metadata": {},
   "outputs": [],
   "source": [
    "fms.setLoggingLevel(logging.WARN)\n",
    "_df = fms.fuzzifyZigzag(timeperiod=50)"
   ]
  },
  {
   "cell_type": "markdown",
   "metadata": {},
   "source": [
    "##### Duration of Zigzag flip:\n",
    "\n",
    "Evaluates last N zigzags durations and according with its min-max range, fuzzifies into these 5 categories:\n",
    "\n",
    "- VerySmall\n",
    "- SlightlySmall\n",
    "- Similar\n",
    "- SlightlyLarge\n",
    "- VeryLarge\n"
   ]
  },
  {
   "cell_type": "code",
   "execution_count": 42,
   "metadata": {
    "scrolled": false
   },
   "outputs": [
    {
     "name": "stdout",
     "output_type": "stream",
     "text": [
      "DEBUG:urllib3.connectionpool:Starting new HTTPS connection (1): plot.ly:443\n",
      "DEBUG:urllib3.connectionpool:https://plot.ly:443 \"POST /clientresp HTTP/1.1\" 200 None\n"
     ]
    },
    {
     "data": {
      "text/html": [
       "<iframe id=\"igraph\" scrolling=\"no\" style=\"border:none;\" seamless=\"seamless\" src=\"https://plot.ly/~raulMrello/130.embed\" height=\"525px\" width=\"100%\"></iframe>"
      ],
      "text/plain": [
       "<plotly.tools.PlotlyDisplay object>"
      ]
     },
     "execution_count": 42,
     "metadata": {},
     "output_type": "execute_result"
    }
   ],
   "source": [
    "data = fms.plotFuzzyZigzagVariable(var='DURATION_1')\n",
    "py.iplot(data, filename='simple_ohlc')"
   ]
  },
  {
   "cell_type": "code",
   "execution_count": 43,
   "metadata": {},
   "outputs": [
    {
     "name": "stdout",
     "output_type": "stream",
     "text": [
      "DEBUG:urllib3.connectionpool:Starting new HTTPS connection (1): plot.ly:443\n",
      "DEBUG:urllib3.connectionpool:https://plot.ly:443 \"POST /clientresp HTTP/1.1\" 200 None\n"
     ]
    },
    {
     "data": {
      "text/html": [
       "<iframe id=\"igraph\" scrolling=\"no\" style=\"border:none;\" seamless=\"seamless\" src=\"https://plot.ly/~raulMrello/130.embed\" height=\"525px\" width=\"100%\"></iframe>"
      ],
      "text/plain": [
       "<plotly.tools.PlotlyDisplay object>"
      ]
     },
     "execution_count": 43,
     "metadata": {},
     "output_type": "execute_result"
    }
   ],
   "source": [
    "data = fms.plotFuzzyZigzagVariable(var='DURATION_2')\n",
    "py.iplot(data, filename='simple_ohlc')"
   ]
  },
  {
   "cell_type": "markdown",
   "metadata": {},
   "source": [
    "##### Range of Zigzag flip:\n",
    "\n",
    "Evaluates last N zigzags flip range according with its direction and fuzzifies into these 5 categories:\n",
    "\n",
    "- VerySmall\n",
    "- SlightlySmall\n",
    "- Similar\n",
    "- SlightlyLarge\n",
    "- VeryLarge\n",
    "\n"
   ]
  },
  {
   "cell_type": "code",
   "execution_count": 58,
   "metadata": {},
   "outputs": [
    {
     "name": "stdout",
     "output_type": "stream",
     "text": [
      "DEBUG:urllib3.connectionpool:Starting new HTTPS connection (1): plot.ly:443\n",
      "DEBUG:urllib3.connectionpool:https://plot.ly:443 \"POST /clientresp HTTP/1.1\" 200 None\n"
     ]
    },
    {
     "data": {
      "text/html": [
       "<iframe id=\"igraph\" scrolling=\"no\" style=\"border:none;\" seamless=\"seamless\" src=\"https://plot.ly/~raulMrello/130.embed\" height=\"525px\" width=\"100%\"></iframe>"
      ],
      "text/plain": [
       "<plotly.tools.PlotlyDisplay object>"
      ]
     },
     "execution_count": 58,
     "metadata": {},
     "output_type": "execute_result"
    }
   ],
   "source": [
    "data = fms.plotFuzzyZigzagVariable(var='RANGE')\n",
    "py.iplot([data[1], data[2], data[3], data[4], data[5]], filename='simple_ohlc')"
   ]
  },
  {
   "cell_type": "code",
   "execution_count": 30,
   "metadata": {},
   "outputs": [
    {
     "data": {
      "text/html": [
       "<div>\n",
       "<style scoped>\n",
       "    .dataframe tbody tr th:only-of-type {\n",
       "        vertical-align: middle;\n",
       "    }\n",
       "\n",
       "    .dataframe tbody tr th {\n",
       "        vertical-align: top;\n",
       "    }\n",
       "\n",
       "    .dataframe thead th {\n",
       "        text-align: right;\n",
       "    }\n",
       "</style>\n",
       "<table border=\"1\" class=\"dataframe\">\n",
       "  <thead>\n",
       "    <tr style=\"text-align: right;\">\n",
       "      <th></th>\n",
       "      <th>index</th>\n",
       "      <th>ZIGZAG</th>\n",
       "      <th>ACTION</th>\n",
       "      <th>ZZ_RANGE_ABS</th>\n",
       "      <th>ZZ_RANGE_POS</th>\n",
       "      <th>ZZ_RANGE_NEG</th>\n",
       "    </tr>\n",
       "  </thead>\n",
       "  <tbody>\n",
       "    <tr>\n",
       "      <th>302</th>\n",
       "      <td>6408</td>\n",
       "      <td>1.11177</td>\n",
       "      <td>low</td>\n",
       "      <td>-0.02060</td>\n",
       "      <td>0.00000</td>\n",
       "      <td>-0.02060</td>\n",
       "    </tr>\n",
       "    <tr>\n",
       "      <th>303</th>\n",
       "      <td>6434</td>\n",
       "      <td>1.12647</td>\n",
       "      <td>high</td>\n",
       "      <td>0.01470</td>\n",
       "      <td>0.01470</td>\n",
       "      <td>0.00000</td>\n",
       "    </tr>\n",
       "    <tr>\n",
       "      <th>304</th>\n",
       "      <td>6444</td>\n",
       "      <td>1.11350</td>\n",
       "      <td>low</td>\n",
       "      <td>-0.01297</td>\n",
       "      <td>0.00000</td>\n",
       "      <td>-0.01297</td>\n",
       "    </tr>\n",
       "    <tr>\n",
       "      <th>305</th>\n",
       "      <td>6475</td>\n",
       "      <td>1.12535</td>\n",
       "      <td>high</td>\n",
       "      <td>0.01185</td>\n",
       "      <td>0.01185</td>\n",
       "      <td>0.00000</td>\n",
       "    </tr>\n",
       "    <tr>\n",
       "      <th>306</th>\n",
       "      <td>6515</td>\n",
       "      <td>1.11419</td>\n",
       "      <td>low</td>\n",
       "      <td>-0.01116</td>\n",
       "      <td>0.00000</td>\n",
       "      <td>-0.01116</td>\n",
       "    </tr>\n",
       "  </tbody>\n",
       "</table>\n",
       "</div>"
      ],
      "text/plain": [
       "     index   ZIGZAG ACTION  ZZ_RANGE_ABS  ZZ_RANGE_POS  ZZ_RANGE_NEG\n",
       "302   6408  1.11177    low      -0.02060       0.00000      -0.02060\n",
       "303   6434  1.12647   high       0.01470       0.01470       0.00000\n",
       "304   6444  1.11350    low      -0.01297       0.00000      -0.01297\n",
       "305   6475  1.12535   high       0.01185       0.01185       0.00000\n",
       "306   6515  1.11419    low      -0.01116       0.00000      -0.01116"
      ]
     },
     "execution_count": 30,
     "metadata": {},
     "output_type": "execute_result"
    }
   ],
   "source": [
    "# Use index as a sample count difference between zigzags\n",
    "_df1 = df_zz.reset_index().copy()\n",
    "_df2 = df_zz.reset_index().shift(1).copy()\n",
    "_df1['ZZ_RANGE_ABS'] = _df1.ZIGZAG - _df2.ZIGZAG\n",
    "_df1['ZZ_RANGE_POS'] = _df1.apply(lambda x: x.ZZ_RANGE_ABS if x.ZZ_RANGE_ABS > 0.0 else 0.0, axis=1)\n",
    "_df1['ZZ_RANGE_NEG'] = _df1.apply(lambda x: x.ZZ_RANGE_ABS if x.ZZ_RANGE_ABS < 0.0 else 0.0, axis=1)\n",
    "_df1.tail()\n"
   ]
  },
  {
   "cell_type": "code",
   "execution_count": 31,
   "metadata": {},
   "outputs": [
    {
     "data": {
      "text/plain": [
       "<matplotlib.axes._subplots.AxesSubplot at 0x1a777400>"
      ]
     },
     "execution_count": 31,
     "metadata": {},
     "output_type": "execute_result"
    },
    {
     "name": "stdout",
     "output_type": "stream",
     "text": [
      "DEBUG:matplotlib.axes._base:update_title_pos\n",
      "DEBUG:matplotlib.axes._base:update_title_pos\n",
      "DEBUG:matplotlib.axes._base:update_title_pos\n",
      "DEBUG:matplotlib.axes._base:update_title_pos\n",
      "DEBUG:matplotlib.axes._base:update_title_pos\n"
     ]
    },
    {
     "data": {
      "image/png": "[encoded data removed]",
      "text/plain": [
       "<Figure size 432x288 with 1 Axes>"
      ]
     },
     "metadata": {
      "needs_background": "light"
     },
     "output_type": "display_data"
    }
   ],
   "source": [
    "_df1['ZZ_RANGE_ABS'].plot()"
   ]
  },
  {
   "cell_type": "code",
   "execution_count": 28,
   "metadata": {},
   "outputs": [
    {
     "data": {
      "text/plain": [
       "<matplotlib.axes._subplots.AxesSubplot at 0x1a66db00>"
      ]
     },
     "execution_count": 28,
     "metadata": {},
     "output_type": "execute_result"
    },
    {
     "name": "stdout",
     "output_type": "stream",
     "text": [
      "DEBUG:matplotlib.axes._base:update_title_pos\n",
      "DEBUG:matplotlib.axes._base:update_title_pos\n",
      "DEBUG:matplotlib.axes._base:update_title_pos\n",
      "DEBUG:matplotlib.axes._base:update_title_pos\n",
      "DEBUG:matplotlib.axes._base:update_title_pos\n"
     ]
    },
    {
     "data": {
      "image/png": "[encoded data removed]",
      "text/plain": [
       "<Figure size 432x288 with 1 Axes>"
      ]
     },
     "metadata": {
      "needs_background": "light"
     },
     "output_type": "display_data"
    }
   ],
   "source": [
    "neg_dif = dif[dif < 0]\n",
    "neg_dif.plot()"
   ]
  },
  {
   "cell_type": "markdown",
   "metadata": {},
   "source": [
    "##### Bollinger overbought-oversell state:\n",
    "\n",
    "Evaluates bollinger_%b indicator and fuzzifies into these 7 categories:\n",
    "\n",
    "- InOverSell\n",
    "- VeryPositive\n",
    "- SlightlyPositive\n",
    "- InTheMiddle\n",
    "- SlightlyNegative\n",
    "- VeryNegative\n",
    "- InOverBought\n",
    "\n",
    "##### Bollinger bands width:\n",
    "\n",
    "Evaluates bollinger_width against bollinger_width_sma and fuzzifies into these 5 categories:\n",
    "\n",
    "- VerySmall\n",
    "- SlightlySmall\n",
    "- Similar\n",
    "- SlightlyLarge\n",
    "- VeryLarge"
   ]
  },
  {
   "cell_type": "markdown",
   "metadata": {},
   "source": [
    "## Zigzag and Bollinger indicators"
   ]
  },
  {
   "cell_type": "code",
   "execution_count": null,
   "metadata": {},
   "outputs": [],
   "source": [
    "df_zz = df_crisp[(df_crisp.ZIGZAG > 0.0) & (df_crisp.ACTION.str.contains('-in-progress')==False)]\n",
    "df_zz = df_zz[['ZIGZAG','ACTION']].copy()\n",
    "self.__logger.debug('processing {} rows'.format(df_zz.shape[0]))\n",
    "\n",
    "# Use index as a sample count difference between zigzags\n",
    "_df1 = df_zz.reset_index().copy()\n",
    "_df2 = df_zz.reset_index().shift(1).copy()\n",
    "_df3 = df_zz.reset_index().shift(2).copy()    \n",
    "\n",
    "# Create DURATION columns with the duration of each flip and with the previous of same direction\n",
    "self.__logger.debug('Building fuzzy set points based on BBANDS')\n",
    "\n",
    "_df_result = df_zz.reset_index(drop=True)\n",
    "_df_result['ZZ_IDX'] = _df1['index']\n",
    "_df_result['DURATION_1'] = _df1['index'] - _df2['index']\n",
    "_df_result['DURATION_2'] = _df1['index'] - _df3['index']  \n",
    "_df_result['d1bbup1'], _df_result['d1bbma1'], _df_result['d1bblo1'] = talib.BBANDS(_df_result.DURATION_1, timeperiod=timeperiod, nbdevup=1.0, nbdevdn=1.0, matype=0)\n",
    "_df_result['d1bbup2'], _df_result['d1bbma2'], _df_result['d1bblo2'] = talib.BBANDS(_df_result.DURATION_1, timeperiod=timeperiod, nbdevup=2.0, nbdevdn=2.0, matype=0)    \n",
    "\n",
    "_df_result['d2bbup1'], _df_result['d2bbma1'], _df_result['d2bblo1'] = talib.BBANDS(_df_result.DURATION_2, timeperiod=timeperiod, nbdevup=1.0, nbdevdn=1.0, matype=0)\n",
    "_df_result['d2bbup2'], _df_result['d2bbma2'], _df_result['d2bblo2'] = talib.BBANDS(_df_result.DURATION_2, timeperiod=timeperiod, nbdevup=2.0, nbdevdn=2.0, matype=0)\n",
    "\n",
    "\n",
    "# Create RANGE columns with the range of each flip \n",
    "zrange = _df1.ZIGZAG - _df2.ZIGZAG\n",
    "zrange_pos = zrange[zrange > 0.0]\n",
    "zrange_neg = zrange[zrange < 0.0]"
   ]
  },
  {
   "cell_type": "code",
   "execution_count": 4,
   "metadata": {
    "scrolled": false
   },
   "outputs": [],
   "source": [
    "# build zigzag indicator\n",
    "df = fms.buildZigzag(df, minbars=12, bb_period=20, bb_dev=2.0, bb_sma=[100], nan_value=0.0)\n"
   ]
  },
  {
   "cell_type": "code",
   "execution_count": 5,
   "metadata": {
    "scrolled": true
   },
   "outputs": [
    {
     "name": "stdout",
     "output_type": "stream",
     "text": [
      "DEBUG:urllib3.connectionpool:Starting new HTTPS connection (1): plot.ly:443\n",
      "DEBUG:urllib3.connectionpool:https://plot.ly:443 \"POST /clientresp HTTP/1.1\" 200 None\n"
     ]
    },
    {
     "data": {
      "text/html": [
       "<iframe id=\"igraph\" scrolling=\"no\" style=\"border:none;\" seamless=\"seamless\" src=\"https://plot.ly/~raulMrello/130.embed\" height=\"525px\" width=\"100%\"></iframe>"
      ],
      "text/plain": [
       "<plotly.tools.PlotlyDisplay object>"
      ]
     },
     "execution_count": 5,
     "metadata": {},
     "output_type": "execute_result"
    }
   ],
   "source": [
    "# load dataframe with zigzag into fms and plot the zigzag trace\n",
    "fms.loadDataframe(df)\n",
    "zz_traces = fms.plotZigzag('black')\n",
    "py.iplot(zz_traces, filename='simple_ohlc')"
   ]
  },
  {
   "cell_type": "code",
   "execution_count": 6,
   "metadata": {
    "scrolled": true
   },
   "outputs": [
    {
     "name": "stdout",
     "output_type": "stream",
     "text": [
      "This is the format of your plot grid:\n",
      "[ (1,1) x1,y1 ]\n",
      "[ (2,1) x1,y2 ]\n",
      "[ (3,1) x1,y3 ]\n",
      "\n",
      "DEBUG:urllib3.connectionpool:Starting new HTTPS connection (1): plot.ly:443\n",
      "DEBUG:urllib3.connectionpool:https://plot.ly:443 \"POST /clientresp HTTP/1.1\" 200 None\n"
     ]
    },
    {
     "data": {
      "text/html": [
       "<iframe id=\"igraph\" scrolling=\"no\" style=\"border:none;\" seamless=\"seamless\" src=\"https://plot.ly/~raulMrello/130.embed\" height=\"600px\" width=\"100%\"></iframe>"
      ],
      "text/plain": [
       "<plotly.tools.PlotlyDisplay object>"
      ]
     },
     "execution_count": 6,
     "metadata": {},
     "output_type": "execute_result"
    }
   ],
   "source": [
    "# plots Bollinger indicators associated with zigzag\n",
    "fig = plotly.tools.make_subplots(rows=3, cols=1, subplot_titles=('Price & Bollinger', 'Bollinger derivatives'), shared_xaxes=True, vertical_spacing=0.1)\n",
    "bb_traces = fms.plotBollinger(['black', 'blue', 'red'])\n",
    "fig.append_trace(bb_traces[0], 1, 1)\n",
    "fig.append_trace(bb_traces[1], 1, 1)\n",
    "fig.append_trace(bb_traces[2], 1, 1)\n",
    "fig.append_trace(bb_traces[3], 1, 1)\n",
    "fig.append_trace(bb_traces[4], 2, 1)\n",
    "fig.append_trace(bb_traces[5], 3, 1)\n",
    "fig['layout'].update(height=600, title='Bollinger indicators')\n",
    "py.iplot(fig, filename='simple_ohlc')"
   ]
  },
  {
   "cell_type": "markdown",
   "metadata": {},
   "source": [
    "### Oscillators: MACD and RSI"
   ]
  },
  {
   "cell_type": "code",
   "execution_count": 6,
   "metadata": {},
   "outputs": [],
   "source": [
    "result = fms.buildOscillators(fms.getDataframe(), macd_applied='CLOSE', macd_fast=12, macd_slow=26, macd_sig=9, rsi_applied='CLOSE', rsi_period=14)"
   ]
  },
  {
   "cell_type": "code",
   "execution_count": 8,
   "metadata": {
    "scrolled": true
   },
   "outputs": [
    {
     "name": "stdout",
     "output_type": "stream",
     "text": [
      "This is the format of your plot grid:\n",
      "[ (1,1) x1,y1 ]\n",
      "[ (2,1) x1,y2 ]\n",
      "[ (3,1) x1,y3 ]\n",
      "\n",
      "DEBUG:urllib3.connectionpool:Starting new HTTPS connection (1): plot.ly:443\n",
      "DEBUG:urllib3.connectionpool:https://plot.ly:443 \"POST /clientresp HTTP/1.1\" 200 None\n"
     ]
    },
    {
     "data": {
      "text/html": [
       "<iframe id=\"igraph\" scrolling=\"no\" style=\"border:none;\" seamless=\"seamless\" src=\"https://plot.ly/~raulMrello/130.embed\" height=\"600px\" width=\"100%\"></iframe>"
      ],
      "text/plain": [
       "<plotly.tools.PlotlyDisplay object>"
      ]
     },
     "execution_count": 8,
     "metadata": {},
     "output_type": "execute_result"
    }
   ],
   "source": [
    "fig = plotly.tools.make_subplots(rows=3, cols=1, subplot_titles=('Price', 'MACD', 'RSI'), shared_xaxes=True, vertical_spacing=0.1)\n",
    "osc_traces = fms.plotOscillators(color=['blue','red','green'])\n",
    "fig.append_trace(osc_traces[0], 1, 1)\n",
    "fig.append_trace(osc_traces[1], 2, 1)\n",
    "fig.append_trace(osc_traces[2], 2, 1)\n",
    "fig.append_trace(osc_traces[4], 3, 1)\n",
    "fig['layout'].update(height=600, title='Oscillators')\n",
    "py.iplot(fig, filename='simple_ohlc')"
   ]
  },
  {
   "cell_type": "markdown",
   "metadata": {},
   "source": [
    "### Moving Averages Fast-Medium-Slow"
   ]
  },
  {
   "cell_type": "code",
   "execution_count": 7,
   "metadata": {},
   "outputs": [],
   "source": [
    "# build moving averages\n",
    "result = fms.build3MovingAverages(fms.getDataframe(), \n",
    "                                  ma_fast_applied='CLOSE', ma_fast_period=50, ma_fast_type='SMA', \n",
    "                                  ma_mid_applied='CLOSE', ma_mid_period=100, ma_mid_type='SMA', \n",
    "                                  ma_slow_applied='CLOSE', ma_slow_period=200, ma_slow_type='SMA',\n",
    "                                  trend_filters={'price-slow': 0.5, 'price-mid': 0.3, 'price-fast': 0.2})"
   ]
  },
  {
   "cell_type": "code",
   "execution_count": 10,
   "metadata": {},
   "outputs": [
    {
     "name": "stdout",
     "output_type": "stream",
     "text": [
      "DEBUG:urllib3.connectionpool:Starting new HTTPS connection (1): plot.ly:443\n",
      "DEBUG:urllib3.connectionpool:https://plot.ly:443 \"POST /clientresp HTTP/1.1\" 200 None\n"
     ]
    },
    {
     "data": {
      "text/html": [
       "<iframe id=\"igraph\" scrolling=\"no\" style=\"border:none;\" seamless=\"seamless\" src=\"https://plot.ly/~raulMrello/130.embed\" height=\"600px\" width=\"100%\"></iframe>"
      ],
      "text/plain": [
       "<plotly.tools.PlotlyDisplay object>"
      ]
     },
     "execution_count": 10,
     "metadata": {},
     "output_type": "execute_result"
    }
   ],
   "source": [
    "# plot moving averages\n",
    "ma_traces, ma_shapes = fms.plotMovingAverages(color=['blue', 'red', 'green'])\n",
    "fig = go.Figure(data=[ma_traces[0],ma_traces[1],ma_traces[2],ma_traces[3]])\n",
    "fig['layout'].update(height=600, title='Trends')\n",
    "fig['layout'].update(shapes=ma_shapes)\n",
    "#-------------\n",
    "def zoom(layout, xrange):\n",
    "    in_view = df.loc[fig.layout.xaxis.range[0]:fig.layout.xaxis.range[1]]\n",
    "    fig.layout.yaxis.range = [in_view.High.min() - 10, in_view.High.max() + 10]\n",
    "fig.layout.on_change(zoom, 'xaxis.range')\n",
    "py.iplot(fig, filename='simple_ohlc')"
   ]
  },
  {
   "cell_type": "markdown",
   "metadata": {},
   "source": [
    "### Fibonacci levels"
   ]
  },
  {
   "cell_type": "code",
   "execution_count": 8,
   "metadata": {},
   "outputs": [],
   "source": [
    "# build common fibo levels (both retracements and extensions)\n",
    "fms.buildCommonFiboLevels(fms.getDataframe(), nan_value=0.0)"
   ]
  },
  {
   "cell_type": "code",
   "execution_count": 13,
   "metadata": {},
   "outputs": [
    {
     "name": "stdout",
     "output_type": "stream",
     "text": [
      "DEBUG:urllib3.connectionpool:Starting new HTTPS connection (1): plot.ly:443\n",
      "DEBUG:urllib3.connectionpool:https://plot.ly:443 \"POST /clientresp HTTP/1.1\" 200 None\n"
     ]
    },
    {
     "data": {
      "text/html": [
       "<iframe id=\"igraph\" scrolling=\"no\" style=\"border:none;\" seamless=\"seamless\" src=\"https://plot.ly/~raulMrello/130.embed\" height=\"600px\" width=\"100%\"></iframe>"
      ],
      "text/plain": [
       "<plotly.tools.PlotlyDisplay object>"
      ]
     },
     "execution_count": 13,
     "metadata": {},
     "output_type": "execute_result"
    }
   ],
   "source": [
    "# plot fibo levels for a given sample\n",
    "length =  fms.getDataframe().shape[0]\n",
    "x = random.randint(int(length/2), length)\n",
    "fibo_traces, fibo_annotations, fibo_shapes = fms.plotFiboLevels(at=x, width=100, color='black')\n",
    "fig = go.Figure(data=[fibo_traces])\n",
    "fig['layout'].update(height=600, title='FiboLevels at {}'.format(x))\n",
    "fig['layout'].update(annotations=fibo_annotations)\n",
    "fig['layout'].update(shapes=fibo_shapes)\n",
    "def zoom(layout, xrange):\n",
    "    in_view = df.loc[fig.layout.xaxis.range[0]:fig.layout.xaxis.range[1]]\n",
    "    fig.layout.yaxis.range = [in_view.High.min() - 10, in_view.High.max() + 10]\n",
    "fig.layout.on_change(zoom, 'xaxis.range')\n",
    "py.iplot(fig, filename='simple_ohlc')"
   ]
  },
  {
   "cell_type": "markdown",
   "metadata": {},
   "source": [
    "### Supports & Resistances"
   ]
  },
  {
   "cell_type": "code",
   "execution_count": 9,
   "metadata": {},
   "outputs": [
    {
     "data": {
      "text/plain": [
       "(6039, 5966)"
      ]
     },
     "execution_count": 9,
     "metadata": {},
     "output_type": "execute_result"
    }
   ],
   "source": [
    "# build supports and resistances levels from last trend zigzags\n",
    "_supports = fms.buildSupports(fms.getDataframe())\n",
    "s = _supports\n",
    "s = s[s != 0.0]\n",
    "x1 = s.index.values[-1]\n",
    "x2 = s.index.values[-2]\n",
    "x1,x2\n"
   ]
  },
  {
   "cell_type": "code",
   "execution_count": 10,
   "metadata": {},
   "outputs": [
    {
     "name": "stdout",
     "output_type": "stream",
     "text": [
      "DEBUG:urllib3.connectionpool:Starting new HTTPS connection (1): plot.ly:443\n",
      "DEBUG:urllib3.connectionpool:https://plot.ly:443 \"POST /clientresp HTTP/1.1\" 200 None\n"
     ]
    },
    {
     "data": {
      "text/html": [
       "<iframe id=\"igraph\" scrolling=\"no\" style=\"border:none;\" seamless=\"seamless\" src=\"https://plot.ly/~raulMrello/130.embed\" height=\"600px\" width=\"100%\"></iframe>"
      ],
      "text/plain": [
       "<plotly.tools.PlotlyDisplay object>"
      ]
     },
     "execution_count": 10,
     "metadata": {},
     "output_type": "execute_result"
    }
   ],
   "source": [
    "# plot supports levels for samples x1 and x2\n",
    "trace_ohlc,s1_shape=fms.plotHorizontalLine(x1+1, x1, x1+100, s.iloc[-1], color='brown', width=2, dash='dashdot')\n",
    "_,s2_shape=fms.plotHorizontalLine(x2+1, x2, x2+100, s.iloc[-2], color='violet', width=2, dash='dashdot')\n",
    "fig = go.Figure(data=[trace_ohlc])\n",
    "fig['layout'].update(height=600, title='Supports at {},{}'.format(x1+1,x2+1))\n",
    "fig['layout'].update(shapes=[s1_shape, s2_shape])\n",
    "#-------------\n",
    "def zoom(layout, xrange):\n",
    "    in_view = df.loc[fig.layout.xaxis.range[0]:fig.layout.xaxis.range[1]]\n",
    "    fig.layout.yaxis.range = [in_view.High.min() - 10, in_view.High.max() + 10]\n",
    "fig.layout.on_change(zoom, 'xaxis.range')\n",
    "py.iplot(fig, filename='simple_ohlc')"
   ]
  },
  {
   "cell_type": "code",
   "execution_count": 11,
   "metadata": {},
   "outputs": [
    {
     "data": {
      "text/plain": [
       "(6615, 6536)"
      ]
     },
     "execution_count": 11,
     "metadata": {},
     "output_type": "execute_result"
    }
   ],
   "source": [
    "# build supports and resistances levels from last trend zigzags\n",
    "_resist = fms.buildResistances(fms.getDataframe(), nan_value=0.0)\n",
    "r = _resist\n",
    "r = r[r != 0.0]\n",
    "x1 = r.index.values[-1]\n",
    "x2 = r.index.values[-2]\n",
    "x1,x2"
   ]
  },
  {
   "cell_type": "code",
   "execution_count": 12,
   "metadata": {},
   "outputs": [
    {
     "name": "stdout",
     "output_type": "stream",
     "text": [
      "DEBUG:urllib3.connectionpool:Starting new HTTPS connection (1): plot.ly:443\n",
      "DEBUG:urllib3.connectionpool:https://plot.ly:443 \"POST /clientresp HTTP/1.1\" 200 None\n"
     ]
    },
    {
     "data": {
      "text/html": [
       "<iframe id=\"igraph\" scrolling=\"no\" style=\"border:none;\" seamless=\"seamless\" src=\"https://plot.ly/~raulMrello/130.embed\" height=\"600px\" width=\"100%\"></iframe>"
      ],
      "text/plain": [
       "<plotly.tools.PlotlyDisplay object>"
      ]
     },
     "execution_count": 12,
     "metadata": {},
     "output_type": "execute_result"
    }
   ],
   "source": [
    "# plot supports levels for samples x1 and x2\n",
    "trace_ohlc,r1_shape=fms.plotHorizontalLine(at=x1+1, x0=x1, x1=x1+100, value=r.iloc[-1], color='brown', width=2, dash='dashdot')\n",
    "_,r2_shape=fms.plotHorizontalLine(x2+1, x2, x2+100, r.iloc[-2], color='violet', width=2, dash='dashdot')\n",
    "fig = go.Figure(data=[trace_ohlc])\n",
    "fig['layout'].update(height=600, title='Resistances at {},{}'.format(x1+1,x2+1))\n",
    "fig['layout'].update(shapes=[r1_shape, r2_shape])\n",
    "#-------------\n",
    "def zoom(layout, xrange):\n",
    "    in_view = df.loc[fig.layout.xaxis.range[0]:fig.layout.xaxis.range[1]]\n",
    "    fig.layout.yaxis.range = [in_view.High.min() - 10, in_view.High.max() + 10]\n",
    "fig.layout.on_change(zoom, 'xaxis.range')\n",
    "py.iplot(fig, filename='simple_ohlc')"
   ]
  },
  {
   "cell_type": "markdown",
   "metadata": {},
   "source": [
    "### Channels"
   ]
  },
  {
   "cell_type": "code",
   "execution_count": 25,
   "metadata": {},
   "outputs": [
    {
     "data": {
      "text/plain": [
       "(6625, 6625, 'P3,P1', 'P4,P2')"
      ]
     },
     "execution_count": 25,
     "metadata": {},
     "output_type": "execute_result"
    }
   ],
   "source": [
    "# build channel lines\n",
    "_channel = fms.buildChannel(fms.getDataframe(), nan_value='')\n",
    "_upperline = _channel['channel_upper_limit']\n",
    "_bottomline = _channel['channel_lower_limit']\n",
    "_upperline = _upperline[_upperline != '']\n",
    "_bottomline = _bottomline[_bottomline != '']\n",
    "_ux = _upperline.index.values[-1]\n",
    "_bx = _bottomline.index.values[-1]\n",
    "_ulast = _upperline.iloc[-1]\n",
    "_blast = _bottomline.iloc[-1]\n",
    "_ux,_bx,_ulast,_blast\n"
   ]
  },
  {
   "cell_type": "code",
   "execution_count": 26,
   "metadata": {},
   "outputs": [
    {
     "name": "stdout",
     "output_type": "stream",
     "text": [
      "DEBUG:urllib3.connectionpool:Starting new HTTPS connection (1): plot.ly:443\n",
      "DEBUG:urllib3.connectionpool:https://plot.ly:443 \"POST /clientresp HTTP/1.1\" 200 None\n"
     ]
    },
    {
     "data": {
      "text/html": [
       "<iframe id=\"igraph\" scrolling=\"no\" style=\"border:none;\" seamless=\"seamless\" src=\"https://plot.ly/~raulMrello/130.embed\" height=\"600px\" width=\"100%\"></iframe>"
      ],
      "text/plain": [
       "<plotly.tools.PlotlyDisplay object>"
      ]
     },
     "execution_count": 26,
     "metadata": {},
     "output_type": "execute_result"
    }
   ],
   "source": [
    "# plot channel lines for sample _ux or _bx\n",
    "x = _ux+1\n",
    "trace_ohlc, ch_shapes = fms.plotChannel(x, extended=100, color='black', width=1, dash='dashdot')\n",
    "fig = go.Figure(data=[trace_ohlc])\n",
    "fig['layout'].update(height=600, title='Channel at {}'.format(x))\n",
    "fig['layout'].update(shapes=ch_shapes)\n",
    "#-------------\n",
    "def zoom(layout, xrange):\n",
    "    in_view = df.loc[fig.layout.xaxis.range[0]:fig.layout.xaxis.range[1]]\n",
    "    fig.layout.yaxis.range = [in_view.High.min() - 10, in_view.High.max() + 10]\n",
    "fig.layout.on_change(zoom, 'xaxis.range')\n",
    "py.iplot(fig, filename='simple_ohlc')"
   ]
  },
  {
   "cell_type": "markdown",
   "metadata": {},
   "source": [
    "### Trends"
   ]
  },
  {
   "cell_type": "code",
   "execution_count": 27,
   "metadata": {},
   "outputs": [],
   "source": [
    "# build trends with different filters\n",
    "filters = {'sma-trend':0.75, 'zigzag-trend':0.15, 'fibo-trend':0.1}\n",
    "_trends = fms.buildTrends(fms.getDataframe(), filters = filters, nan_value=0.0)"
   ]
  },
  {
   "cell_type": "code",
   "execution_count": null,
   "metadata": {},
   "outputs": [],
   "source": [
    "# plot trends\n",
    "trace_ohlc, trend_shapes = fms.plotTrends(nan_value=0.0)\n",
    "fig = go.Figure(data=[trace_ohlc])\n",
    "fig['layout'].update(height=600, title='Trends')\n",
    "fig['layout'].update(shapes=trend_shapes)\n",
    "#-------------\n",
    "def zoom(layout, xrange):\n",
    "    in_view = df.loc[fig.layout.xaxis.range[0]:fig.layout.xaxis.range[1]]\n",
    "    fig.layout.yaxis.range = [in_view.High.min() - 10, in_view.High.max() + 10]\n",
    "fig.layout.on_change(zoom, 'xaxis.range')\n",
    "py.iplot(fig, filename='simple_ohlc')"
   ]
  },
  {
   "cell_type": "markdown",
   "metadata": {},
   "source": [
    "### Divergences"
   ]
  },
  {
   "cell_type": "code",
   "execution_count": 17,
   "metadata": {},
   "outputs": [],
   "source": [
    "# build divergences\n",
    "_bullish_div, _bearish_div = fms.buildDivergences(fms.getDataframe(), nan_value=0.0)"
   ]
  },
  {
   "cell_type": "code",
   "execution_count": null,
   "metadata": {
    "scrolled": true
   },
   "outputs": [],
   "source": [
    "# plot divergences\n",
    "trace_ohlc, trace_macd_main, trace_rsi, div_shapes = fms.plotDivergences(color='blue', nan_value = 0.0)\n",
    "fig = plotly.tools.make_subplots(rows=3, cols=1, subplot_titles=('OHLC', 'MACD', 'RSI'), shared_xaxes=True, vertical_spacing=0.1)\n",
    "fig.append_trace(trace_ohlc, 1, 1)\n",
    "fig.append_trace(trace_macd_main, 2, 1)\n",
    "fig.append_trace(trace_rsi, 3, 1)\n",
    "fig['layout'].update(height=600, title='Divergences')\n",
    "fig['layout'].update(shapes=div_shapes)\n",
    "py.iplot(fig, filename='simple_ohlc')"
   ]
  },
  {
   "cell_type": "markdown",
   "metadata": {},
   "source": [
    "### Indicator based API"
   ]
  },
  {
   "cell_type": "code",
   "execution_count": 9,
   "metadata": {},
   "outputs": [],
   "source": [
    "# load dataframe\n",
    "df = fms.loadCSV('../csv_data/EURUSD_H4.csv', sep=';')\n",
    "fms.loadDataframe(df)\n",
    "_df = fms.buildIndicators()\n",
    "fms.plotIndicators()"
   ]
  },
  {
   "cell_type": "code",
   "execution_count": null,
   "metadata": {},
   "outputs": [],
   "source": [
    "fig = go.Figure(data=[fms.trace_ohlc, fms.trace_zigzag])\n",
    "fig['layout'].update(height=600, title='Bollinger indicators')\n",
    "fig['layout'].update(shapes=fms.trend_shapes)\n",
    "py.iplot(fig, filename='simple_ohlc')\n"
   ]
  },
  {
   "cell_type": "markdown",
   "metadata": {},
   "source": [
    "### New bar update"
   ]
  },
  {
   "cell_type": "code",
   "execution_count": 26,
   "metadata": {},
   "outputs": [
    {
     "data": {
      "text/html": [
       "<div>\n",
       "<style scoped>\n",
       "    .dataframe tbody tr th:only-of-type {\n",
       "        vertical-align: middle;\n",
       "    }\n",
       "\n",
       "    .dataframe tbody tr th {\n",
       "        vertical-align: top;\n",
       "    }\n",
       "\n",
       "    .dataframe thead th {\n",
       "        text-align: right;\n",
       "    }\n",
       "</style>\n",
       "<table border=\"1\" class=\"dataframe\">\n",
       "  <thead>\n",
       "    <tr style=\"text-align: right;\">\n",
       "      <th></th>\n",
       "      <th>TIME</th>\n",
       "      <th>OPEN</th>\n",
       "      <th>HIGH</th>\n",
       "      <th>LOW</th>\n",
       "      <th>CLOSE</th>\n",
       "      <th>TICKVOL</th>\n",
       "      <th>VOL</th>\n",
       "      <th>SPREAD</th>\n",
       "      <th>BOLLINGER_HI</th>\n",
       "      <th>BOLLINGER_MA</th>\n",
       "      <th>...</th>\n",
       "      <th>DIV_REG_BULL_RSI</th>\n",
       "      <th>DIV_REG_BULL_RSI_FROM</th>\n",
       "      <th>DIV_DOUB_HID_BEAR_RSI</th>\n",
       "      <th>DIV_DOUB_HID_BEAR_RSI_FROM</th>\n",
       "      <th>DIV_HID_BEAR_RSI</th>\n",
       "      <th>DIV_HID_BEAR_RSI_FROM</th>\n",
       "      <th>DIV_DOUB_HID_BULL_RSI</th>\n",
       "      <th>DIV_DOUB_HID_BULL_RSI_FROM</th>\n",
       "      <th>DIV_HID_BULL_RSI</th>\n",
       "      <th>DIV_HID_BULL_RSI_FROM</th>\n",
       "    </tr>\n",
       "  </thead>\n",
       "  <tbody>\n",
       "    <tr>\n",
       "      <th>6520</th>\n",
       "      <td>2019-05-22 04:00:00</td>\n",
       "      <td>1.11608</td>\n",
       "      <td>1.11656</td>\n",
       "      <td>1.11533</td>\n",
       "      <td>1.11553</td>\n",
       "      <td>3295</td>\n",
       "      <td>0</td>\n",
       "      <td>0</td>\n",
       "      <td>1.116355</td>\n",
       "      <td>1.115805</td>\n",
       "      <td>...</td>\n",
       "      <td>0</td>\n",
       "      <td>0</td>\n",
       "      <td>0</td>\n",
       "      <td>0</td>\n",
       "      <td>0</td>\n",
       "      <td>0</td>\n",
       "      <td>0</td>\n",
       "      <td>0</td>\n",
       "      <td>0</td>\n",
       "      <td>0</td>\n",
       "    </tr>\n",
       "    <tr>\n",
       "      <th>6521</th>\n",
       "      <td>2019-05-22 08:00:00</td>\n",
       "      <td>1.11553</td>\n",
       "      <td>1.11638</td>\n",
       "      <td>1.11486</td>\n",
       "      <td>1.11594</td>\n",
       "      <td>10759</td>\n",
       "      <td>0</td>\n",
       "      <td>0</td>\n",
       "      <td>1.116145</td>\n",
       "      <td>1.115735</td>\n",
       "      <td>...</td>\n",
       "      <td>0</td>\n",
       "      <td>0</td>\n",
       "      <td>0</td>\n",
       "      <td>0</td>\n",
       "      <td>0</td>\n",
       "      <td>0</td>\n",
       "      <td>0</td>\n",
       "      <td>0</td>\n",
       "      <td>0</td>\n",
       "      <td>0</td>\n",
       "    </tr>\n",
       "    <tr>\n",
       "      <th>6522</th>\n",
       "      <td>2019-05-22 12:00:00</td>\n",
       "      <td>1.11594</td>\n",
       "      <td>1.11804</td>\n",
       "      <td>1.11579</td>\n",
       "      <td>1.11669</td>\n",
       "      <td>11949</td>\n",
       "      <td>0</td>\n",
       "      <td>0</td>\n",
       "      <td>1.117065</td>\n",
       "      <td>1.116315</td>\n",
       "      <td>...</td>\n",
       "      <td>0</td>\n",
       "      <td>0</td>\n",
       "      <td>0</td>\n",
       "      <td>0</td>\n",
       "      <td>0</td>\n",
       "      <td>0</td>\n",
       "      <td>0</td>\n",
       "      <td>0</td>\n",
       "      <td>0</td>\n",
       "      <td>0</td>\n",
       "    </tr>\n",
       "    <tr>\n",
       "      <th>6523</th>\n",
       "      <td>2019-05-22 16:00:00</td>\n",
       "      <td>1.11669</td>\n",
       "      <td>1.11689</td>\n",
       "      <td>1.11509</td>\n",
       "      <td>1.11569</td>\n",
       "      <td>15134</td>\n",
       "      <td>0</td>\n",
       "      <td>0</td>\n",
       "      <td>1.117190</td>\n",
       "      <td>1.116190</td>\n",
       "      <td>...</td>\n",
       "      <td>0</td>\n",
       "      <td>0</td>\n",
       "      <td>0</td>\n",
       "      <td>0</td>\n",
       "      <td>0</td>\n",
       "      <td>0</td>\n",
       "      <td>0</td>\n",
       "      <td>0</td>\n",
       "      <td>0</td>\n",
       "      <td>0</td>\n",
       "    </tr>\n",
       "    <tr>\n",
       "      <th>6524</th>\n",
       "      <td>2019-05-22 20:00:00</td>\n",
       "      <td>1.11569</td>\n",
       "      <td>1.11636</td>\n",
       "      <td>1.11495</td>\n",
       "      <td>1.11495</td>\n",
       "      <td>5914</td>\n",
       "      <td>0</td>\n",
       "      <td>0</td>\n",
       "      <td>1.116060</td>\n",
       "      <td>1.115320</td>\n",
       "      <td>...</td>\n",
       "      <td>0</td>\n",
       "      <td>0</td>\n",
       "      <td>0</td>\n",
       "      <td>0</td>\n",
       "      <td>0</td>\n",
       "      <td>0</td>\n",
       "      <td>0</td>\n",
       "      <td>0</td>\n",
       "      <td>0</td>\n",
       "      <td>0</td>\n",
       "    </tr>\n",
       "  </tbody>\n",
       "</table>\n",
       "<p>5 rows × 98 columns</p>\n",
       "</div>"
      ],
      "text/plain": [
       "                    TIME     OPEN     HIGH      LOW    CLOSE  TICKVOL  VOL  \\\n",
       "6520 2019-05-22 04:00:00  1.11608  1.11656  1.11533  1.11553     3295    0   \n",
       "6521 2019-05-22 08:00:00  1.11553  1.11638  1.11486  1.11594    10759    0   \n",
       "6522 2019-05-22 12:00:00  1.11594  1.11804  1.11579  1.11669    11949    0   \n",
       "6523 2019-05-22 16:00:00  1.11669  1.11689  1.11509  1.11569    15134    0   \n",
       "6524 2019-05-22 20:00:00  1.11569  1.11636  1.11495  1.11495     5914    0   \n",
       "\n",
       "      SPREAD  BOLLINGER_HI  BOLLINGER_MA          ...            \\\n",
       "6520       0      1.116355      1.115805          ...             \n",
       "6521       0      1.116145      1.115735          ...             \n",
       "6522       0      1.117065      1.116315          ...             \n",
       "6523       0      1.117190      1.116190          ...             \n",
       "6524       0      1.116060      1.115320          ...             \n",
       "\n",
       "      DIV_REG_BULL_RSI  DIV_REG_BULL_RSI_FROM  DIV_DOUB_HID_BEAR_RSI  \\\n",
       "6520                 0                      0                      0   \n",
       "6521                 0                      0                      0   \n",
       "6522                 0                      0                      0   \n",
       "6523                 0                      0                      0   \n",
       "6524                 0                      0                      0   \n",
       "\n",
       "      DIV_DOUB_HID_BEAR_RSI_FROM  DIV_HID_BEAR_RSI DIV_HID_BEAR_RSI_FROM  \\\n",
       "6520                           0                 0                     0   \n",
       "6521                           0                 0                     0   \n",
       "6522                           0                 0                     0   \n",
       "6523                           0                 0                     0   \n",
       "6524                           0                 0                     0   \n",
       "\n",
       "      DIV_DOUB_HID_BULL_RSI  DIV_DOUB_HID_BULL_RSI_FROM  DIV_HID_BULL_RSI  \\\n",
       "6520                      0                           0                 0   \n",
       "6521                      0                           0                 0   \n",
       "6522                      0                           0                 0   \n",
       "6523                      0                           0                 0   \n",
       "6524                      0                           0                 0   \n",
       "\n",
       "      DIV_HID_BULL_RSI_FROM  \n",
       "6520                      0  \n",
       "6521                      0  \n",
       "6522                      0  \n",
       "6523                      0  \n",
       "6524                      0  \n",
       "\n",
       "[5 rows x 98 columns]"
      ]
     },
     "execution_count": 26,
     "metadata": {},
     "output_type": "execute_result"
    }
   ],
   "source": [
    "# load dataframe\n",
    "df = fms.loadCSV('../csv_data/EURUSD_H4.csv', sep=';')\n",
    "_df1 = df[:-1].copy()\n",
    "fms.loadDataframe(_df1)\n",
    "_df2 = fms.buildIndicators()\n",
    "_df2.tail()"
   ]
  },
  {
   "cell_type": "code",
   "execution_count": 27,
   "metadata": {},
   "outputs": [
    {
     "data": {
      "text/html": [
       "<div>\n",
       "<style scoped>\n",
       "    .dataframe tbody tr th:only-of-type {\n",
       "        vertical-align: middle;\n",
       "    }\n",
       "\n",
       "    .dataframe tbody tr th {\n",
       "        vertical-align: top;\n",
       "    }\n",
       "\n",
       "    .dataframe thead th {\n",
       "        text-align: right;\n",
       "    }\n",
       "</style>\n",
       "<table border=\"1\" class=\"dataframe\">\n",
       "  <thead>\n",
       "    <tr style=\"text-align: right;\">\n",
       "      <th></th>\n",
       "      <th>TIME</th>\n",
       "      <th>OPEN</th>\n",
       "      <th>HIGH</th>\n",
       "      <th>LOW</th>\n",
       "      <th>CLOSE</th>\n",
       "      <th>TICKVOL</th>\n",
       "      <th>VOL</th>\n",
       "      <th>SPREAD</th>\n",
       "      <th>BOLLINGER_HI</th>\n",
       "      <th>BOLLINGER_MA</th>\n",
       "      <th>...</th>\n",
       "      <th>DIV_REG_BULL_RSI</th>\n",
       "      <th>DIV_REG_BULL_RSI_FROM</th>\n",
       "      <th>DIV_DOUB_HID_BEAR_RSI</th>\n",
       "      <th>DIV_DOUB_HID_BEAR_RSI_FROM</th>\n",
       "      <th>DIV_HID_BEAR_RSI</th>\n",
       "      <th>DIV_HID_BEAR_RSI_FROM</th>\n",
       "      <th>DIV_DOUB_HID_BULL_RSI</th>\n",
       "      <th>DIV_DOUB_HID_BULL_RSI_FROM</th>\n",
       "      <th>DIV_HID_BULL_RSI</th>\n",
       "      <th>DIV_HID_BULL_RSI_FROM</th>\n",
       "    </tr>\n",
       "  </thead>\n",
       "  <tbody>\n",
       "    <tr>\n",
       "      <th>6521</th>\n",
       "      <td>2019-05-22 08:00:00</td>\n",
       "      <td>1.11553</td>\n",
       "      <td>1.11638</td>\n",
       "      <td>1.11486</td>\n",
       "      <td>1.11594</td>\n",
       "      <td>10759</td>\n",
       "      <td>0</td>\n",
       "      <td>0</td>\n",
       "      <td>1.116145</td>\n",
       "      <td>1.115735</td>\n",
       "      <td>...</td>\n",
       "      <td>0</td>\n",
       "      <td>0</td>\n",
       "      <td>0</td>\n",
       "      <td>0</td>\n",
       "      <td>0</td>\n",
       "      <td>0</td>\n",
       "      <td>0</td>\n",
       "      <td>0</td>\n",
       "      <td>0</td>\n",
       "      <td>0</td>\n",
       "    </tr>\n",
       "    <tr>\n",
       "      <th>6522</th>\n",
       "      <td>2019-05-22 12:00:00</td>\n",
       "      <td>1.11594</td>\n",
       "      <td>1.11804</td>\n",
       "      <td>1.11579</td>\n",
       "      <td>1.11669</td>\n",
       "      <td>11949</td>\n",
       "      <td>0</td>\n",
       "      <td>0</td>\n",
       "      <td>1.117065</td>\n",
       "      <td>1.116315</td>\n",
       "      <td>...</td>\n",
       "      <td>0</td>\n",
       "      <td>0</td>\n",
       "      <td>0</td>\n",
       "      <td>0</td>\n",
       "      <td>0</td>\n",
       "      <td>0</td>\n",
       "      <td>0</td>\n",
       "      <td>0</td>\n",
       "      <td>0</td>\n",
       "      <td>0</td>\n",
       "    </tr>\n",
       "    <tr>\n",
       "      <th>6523</th>\n",
       "      <td>2019-05-22 16:00:00</td>\n",
       "      <td>1.11669</td>\n",
       "      <td>1.11689</td>\n",
       "      <td>1.11509</td>\n",
       "      <td>1.11569</td>\n",
       "      <td>15134</td>\n",
       "      <td>0</td>\n",
       "      <td>0</td>\n",
       "      <td>1.117190</td>\n",
       "      <td>1.116190</td>\n",
       "      <td>...</td>\n",
       "      <td>0</td>\n",
       "      <td>0</td>\n",
       "      <td>0</td>\n",
       "      <td>0</td>\n",
       "      <td>0</td>\n",
       "      <td>0</td>\n",
       "      <td>0</td>\n",
       "      <td>0</td>\n",
       "      <td>0</td>\n",
       "      <td>0</td>\n",
       "    </tr>\n",
       "    <tr>\n",
       "      <th>6524</th>\n",
       "      <td>2019-05-22 20:00:00</td>\n",
       "      <td>1.11569</td>\n",
       "      <td>1.11636</td>\n",
       "      <td>1.11495</td>\n",
       "      <td>1.11495</td>\n",
       "      <td>5914</td>\n",
       "      <td>0</td>\n",
       "      <td>0</td>\n",
       "      <td>1.116060</td>\n",
       "      <td>1.115320</td>\n",
       "      <td>...</td>\n",
       "      <td>0</td>\n",
       "      <td>0</td>\n",
       "      <td>0</td>\n",
       "      <td>0</td>\n",
       "      <td>0</td>\n",
       "      <td>0</td>\n",
       "      <td>0</td>\n",
       "      <td>0</td>\n",
       "      <td>0</td>\n",
       "      <td>0</td>\n",
       "    </tr>\n",
       "    <tr>\n",
       "      <th>6525</th>\n",
       "      <td>2019-05-23 00:00:00</td>\n",
       "      <td>1.11495</td>\n",
       "      <td>1.11571</td>\n",
       "      <td>1.11495</td>\n",
       "      <td>1.11525</td>\n",
       "      <td>3558</td>\n",
       "      <td>0</td>\n",
       "      <td>0</td>\n",
       "      <td>1.115400</td>\n",
       "      <td>1.115100</td>\n",
       "      <td>...</td>\n",
       "      <td>0</td>\n",
       "      <td>0</td>\n",
       "      <td>0</td>\n",
       "      <td>0</td>\n",
       "      <td>0</td>\n",
       "      <td>0</td>\n",
       "      <td>0</td>\n",
       "      <td>0</td>\n",
       "      <td>0</td>\n",
       "      <td>0</td>\n",
       "    </tr>\n",
       "  </tbody>\n",
       "</table>\n",
       "<p>5 rows × 98 columns</p>\n",
       "</div>"
      ],
      "text/plain": [
       "                    TIME     OPEN     HIGH      LOW    CLOSE  TICKVOL  VOL  \\\n",
       "6521 2019-05-22 08:00:00  1.11553  1.11638  1.11486  1.11594    10759    0   \n",
       "6522 2019-05-22 12:00:00  1.11594  1.11804  1.11579  1.11669    11949    0   \n",
       "6523 2019-05-22 16:00:00  1.11669  1.11689  1.11509  1.11569    15134    0   \n",
       "6524 2019-05-22 20:00:00  1.11569  1.11636  1.11495  1.11495     5914    0   \n",
       "6525 2019-05-23 00:00:00  1.11495  1.11571  1.11495  1.11525     3558    0   \n",
       "\n",
       "      SPREAD  BOLLINGER_HI  BOLLINGER_MA          ...            \\\n",
       "6521       0      1.116145      1.115735          ...             \n",
       "6522       0      1.117065      1.116315          ...             \n",
       "6523       0      1.117190      1.116190          ...             \n",
       "6524       0      1.116060      1.115320          ...             \n",
       "6525       0      1.115400      1.115100          ...             \n",
       "\n",
       "      DIV_REG_BULL_RSI  DIV_REG_BULL_RSI_FROM  DIV_DOUB_HID_BEAR_RSI  \\\n",
       "6521                 0                      0                      0   \n",
       "6522                 0                      0                      0   \n",
       "6523                 0                      0                      0   \n",
       "6524                 0                      0                      0   \n",
       "6525                 0                      0                      0   \n",
       "\n",
       "      DIV_DOUB_HID_BEAR_RSI_FROM  DIV_HID_BEAR_RSI DIV_HID_BEAR_RSI_FROM  \\\n",
       "6521                           0                 0                     0   \n",
       "6522                           0                 0                     0   \n",
       "6523                           0                 0                     0   \n",
       "6524                           0                 0                     0   \n",
       "6525                           0                 0                     0   \n",
       "\n",
       "      DIV_DOUB_HID_BULL_RSI  DIV_DOUB_HID_BULL_RSI_FROM  DIV_HID_BULL_RSI  \\\n",
       "6521                      0                           0                 0   \n",
       "6522                      0                           0                 0   \n",
       "6523                      0                           0                 0   \n",
       "6524                      0                           0                 0   \n",
       "6525                      0                           0                 0   \n",
       "\n",
       "      DIV_HID_BULL_RSI_FROM  \n",
       "6521                      0  \n",
       "6522                      0  \n",
       "6523                      0  \n",
       "6524                      0  \n",
       "6525                      0  \n",
       "\n",
       "[5 rows x 98 columns]"
      ]
     },
     "execution_count": 27,
     "metadata": {},
     "output_type": "execute_result"
    }
   ],
   "source": [
    "row = df.iloc[-1].copy()\n",
    "_df3 = fms.updateIndicators(row)\n",
    "_df3.tail()"
   ]
  }
 ],
 "metadata": {
  "accelerator": "TPU",
  "colab": {
   "collapsed_sections": [],
   "name": "FinTech_LSTM.ipynb",
   "provenance": [],
   "version": "0.3.2"
  },
  "kernelspec": {
   "display_name": "Python [conda env:keras]",
   "language": "python",
   "name": "conda-env-keras-py"
  },
  "language_info": {
   "codemirror_mode": {
    "name": "ipython",
    "version": 3
   },
   "file_extension": ".py",
   "mimetype": "text/x-python",
   "name": "python",
   "nbconvert_exporter": "python",
   "pygments_lexer": "ipython3",
   "version": "3.6.6"
  }
 },
 "nbformat": 4,
 "nbformat_minor": 1
}
