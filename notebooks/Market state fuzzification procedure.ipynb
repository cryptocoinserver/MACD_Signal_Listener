{
 "cells": [
  {
   "cell_type": "markdown",
   "metadata": {
    "colab_type": "text",
    "id": "pQWfP-VMvX7c"
   },
   "source": [
    "# Introduction\n",
    "\n",
    "In this notebook, I will fuzzify all market state parameters and build a FuzzyStateVector which determines the current state of the market."
   ]
  },
  {
   "cell_type": "code",
   "execution_count": 1,
   "metadata": {},
   "outputs": [],
   "source": [
    "%load_ext autoreload\n",
    "%autoreload 2"
   ]
  },
  {
   "cell_type": "code",
   "execution_count": 120,
   "metadata": {},
   "outputs": [
    {
     "data": {
      "text/html": [
       "<script>requirejs.config({paths: { 'plotly': ['https://cdn.plot.ly/plotly-latest.min']},});if(!window.Plotly) {{require(['plotly'],function(plotly) {window.Plotly=plotly;});}}</script>"
      ],
      "text/vnd.plotly.v1+html": [
       "<script>requirejs.config({paths: { 'plotly': ['https://cdn.plot.ly/plotly-latest.min']},});if(!window.Plotly) {{require(['plotly'],function(plotly) {window.Plotly=plotly;});}}</script>"
      ]
     },
     "metadata": {},
     "output_type": "display_data"
    },
    {
     "name": "stdout",
     "output_type": "stream",
     "text": [
      "Packages loaded!!\n"
     ]
    }
   ],
   "source": [
    "# import requires packages\n",
    "# Append relative path to FuzzyMarketState.py\n",
    "import sys\n",
    "sys.path.append('..')\n",
    "\n",
    "from FuzzyMarketState import FuzzyMarketState\n",
    "from FuzzyLib import Fuzzifier, FuzzyVar\n",
    "\n",
    "import plotly\n",
    "import plotly.plotly as py\n",
    "import plotly.graph_objs as go\n",
    "from plotly.graph_objs import *\n",
    "from plotly.tools import FigureFactory as FF\n",
    "import plotly.tools as tls\n",
    "plotly.offline.init_notebook_mode(connected=True)\n",
    "\n",
    "import logging\n",
    "logging.basicConfig(level=logging.DEBUG, stream=sys.stdout)\n",
    "\n",
    "import random\n",
    "\n",
    "# Create object\n",
    "fms = FuzzyMarketState(logging.WARN)\n",
    "\n",
    "# load dataframe\n",
    "df = fms.loadCSV('../csv_data/EURUSD_H4.csv', sep=';')\n",
    "fms.loadDataframe(df)\n",
    "df_crisp = fms.buildIndicators()\n",
    "\n",
    "print('Packages loaded!!')"
   ]
  },
  {
   "cell_type": "markdown",
   "metadata": {},
   "source": [
    "### Zigzag fuzzification\n",
    "\n",
    "Zigzag indicator includes: \n",
    "\n",
    "- Zigzag flips\n",
    "- Bollinger indicators\n",
    "\n",
    "Based on these indicators, several fuzzy parameters can be sinthetically built, as:\n",
    "\n",
    "##### Duration of Zigzag flip:\n",
    "\n",
    "Evaluates last N zigzags durations and according with its min-max range, fuzzifies into these 5 categories:\n",
    "\n",
    "- VerySmall\n",
    "- Small\n",
    "- SlightlySmall\n",
    "- Similar\n",
    "- SlightlyLarge\n",
    "- Large\n",
    "- VeryLarge\n",
    "\n",
    "##### Range of Zigzag flip:\n",
    "\n",
    "Evaluates last N zigzags flip range according with its direction and fuzzifies into these 5 categories:\n",
    "\n",
    "- VerySmall\n",
    "- Small\n",
    "- SlightlySmall\n",
    "- Similar\n",
    "- SlightlyLarge\n",
    "- Large\n",
    "- VeryLarge\n"
   ]
  },
  {
   "cell_type": "code",
   "execution_count": 3,
   "metadata": {},
   "outputs": [
    {
     "name": "stdout",
     "output_type": "stream",
     "text": [
      "DEBUG:urllib3.connectionpool:Starting new HTTPS connection (1): plot.ly:443\n",
      "DEBUG:urllib3.connectionpool:https://plot.ly:443 \"POST /clientresp HTTP/1.1\" 200 None\n"
     ]
    },
    {
     "data": {
      "text/html": [
       "<iframe id=\"igraph\" scrolling=\"no\" style=\"border:none;\" seamless=\"seamless\" src=\"https://plot.ly/~raulMrello/130.embed\" height=\"525px\" width=\"100%\"></iframe>"
      ],
      "text/plain": [
       "<plotly.tools.PlotlyDisplay object>"
      ]
     },
     "execution_count": 3,
     "metadata": {},
     "output_type": "execute_result"
    }
   ],
   "source": [
    "# set logging level\n",
    "fms.setLoggingLevel(logging.WARN)\n",
    "# build fuzzy-zigzag-indicators based on SMA50\n",
    "_df = fms.fuzzifyZigzag(timeperiod=50)\n",
    "# plot fuzzy-zigzag variable ZZ_DURATION_1 (duration between consecutive flips)\n",
    "data = fms.plotFuzzyZigzagVariable(var='ZZ_DURATION_1')\n",
    "py.iplot(data, filename='simple_ohlc')"
   ]
  },
  {
   "cell_type": "code",
   "execution_count": 4,
   "metadata": {},
   "outputs": [
    {
     "name": "stdout",
     "output_type": "stream",
     "text": [
      "DEBUG:urllib3.connectionpool:Starting new HTTPS connection (1): plot.ly:443\n",
      "DEBUG:urllib3.connectionpool:https://plot.ly:443 \"POST /clientresp HTTP/1.1\" 200 None\n"
     ]
    },
    {
     "data": {
      "text/html": [
       "<iframe id=\"igraph\" scrolling=\"no\" style=\"border:none;\" seamless=\"seamless\" src=\"https://plot.ly/~raulMrello/130.embed\" height=\"525px\" width=\"100%\"></iframe>"
      ],
      "text/plain": [
       "<plotly.tools.PlotlyDisplay object>"
      ]
     },
     "execution_count": 4,
     "metadata": {},
     "output_type": "execute_result"
    }
   ],
   "source": [
    "# plot fuzzy-zigzag variable ZZ_DURATION_2 (duration between flips of the same direction)\n",
    "data = fms.plotFuzzyZigzagVariable(var='ZZ_DURATION_2')\n",
    "py.iplot(data, filename='simple_ohlc')"
   ]
  },
  {
   "cell_type": "code",
   "execution_count": 5,
   "metadata": {},
   "outputs": [
    {
     "name": "stdout",
     "output_type": "stream",
     "text": [
      "DEBUG:urllib3.connectionpool:Starting new HTTPS connection (1): plot.ly:443\n",
      "DEBUG:urllib3.connectionpool:https://plot.ly:443 \"POST /clientresp HTTP/1.1\" 200 None\n"
     ]
    },
    {
     "data": {
      "text/html": [
       "<iframe id=\"igraph\" scrolling=\"no\" style=\"border:none;\" seamless=\"seamless\" src=\"https://plot.ly/~raulMrello/130.embed\" height=\"525px\" width=\"100%\"></iframe>"
      ],
      "text/plain": [
       "<plotly.tools.PlotlyDisplay object>"
      ]
     },
     "execution_count": 5,
     "metadata": {},
     "output_type": "execute_result"
    }
   ],
   "source": [
    "# plot fuzzy-zigzag variable ZZ_RANGE (flip range against its SMA50)\n",
    "data = fms.plotFuzzyZigzagVariable(var='ZZ_RANGE')\n",
    "py.iplot(data, filename='simple_ohlc')"
   ]
  },
  {
   "cell_type": "markdown",
   "metadata": {},
   "source": [
    "##### Bollinger overbought-oversell state:\n",
    "\n",
    "Evaluates bollinger_%b indicator and fuzzifies into these 7 categories:\n",
    "\n",
    "- InOverSell\n",
    "- NearOverSell\n",
    "- FarFromOverSell\n",
    "- FarFromAnySignal\n",
    "- FarFromOverBought\n",
    "- NearToOverBought\n",
    "- InOverBought\n",
    "\n",
    "\n",
    "##### Bollinger bands width:\n",
    "\n",
    "Evaluates bollinger_width against bollinger_width_sma and fuzzifies into these 5 categories:\n",
    "\n",
    "- WidthVerySmall\n",
    "- WidthSmall\n",
    "- WidthSighthlySmall\n",
    "- WidthSimilar\n",
    "- WidthSlightlyLarge\n",
    "- WidthLarge\n",
    "- WidthVeryLarge"
   ]
  },
  {
   "cell_type": "code",
   "execution_count": 6,
   "metadata": {},
   "outputs": [
    {
     "name": "stdout",
     "output_type": "stream",
     "text": [
      "DEBUG:urllib3.connectionpool:Starting new HTTPS connection (1): plot.ly:443\n",
      "DEBUG:urllib3.connectionpool:https://plot.ly:443 \"POST /clientresp HTTP/1.1\" 200 None\n",
      "The draw time for this plot will be slow for clients without much RAM.\n"
     ]
    },
    {
     "name": "stderr",
     "output_type": "stream",
     "text": [
      "C:\\Users\\raulm\\Programas\\anaconda3\\envs\\keras\\lib\\site-packages\\plotly\\api\\v1\\clientresp.py:40: UserWarning:\n",
      "\n",
      "Estimated Draw Time Slow\n",
      "\n"
     ]
    },
    {
     "data": {
      "text/html": [
       "<iframe id=\"igraph\" scrolling=\"no\" style=\"border:none;\" seamless=\"seamless\" src=\"https://plot.ly/~raulMrello/130.embed\" height=\"525px\" width=\"100%\"></iframe>"
      ],
      "text/plain": [
       "<plotly.tools.PlotlyDisplay object>"
      ]
     },
     "execution_count": 6,
     "metadata": {},
     "output_type": "execute_result"
    }
   ],
   "source": [
    "# set logging level\n",
    "fms.setLoggingLevel(logging.WARN)\n",
    "# build fuzzy-bollinger indicators against its SMA50\n",
    "_df = fms.fuzzifyBollinger(timeperiod=50)\n",
    "# plot fuzzy-bollinger-%b\n",
    "data = fms.plotFuzzyVariable(var='BOLLINGER_b')\n",
    "py.iplot(data, filename='simple_ohlc')"
   ]
  },
  {
   "cell_type": "code",
   "execution_count": 8,
   "metadata": {
    "scrolled": true
   },
   "outputs": [
    {
     "name": "stdout",
     "output_type": "stream",
     "text": [
      "DEBUG:urllib3.connectionpool:Starting new HTTPS connection (1): plot.ly:443\n",
      "DEBUG:urllib3.connectionpool:https://plot.ly:443 \"POST /clientresp HTTP/1.1\" 200 None\n",
      "The draw time for this plot will be slow for clients without much RAM.\n"
     ]
    },
    {
     "data": {
      "text/html": [
       "<iframe id=\"igraph\" scrolling=\"no\" style=\"border:none;\" seamless=\"seamless\" src=\"https://plot.ly/~raulMrello/130.embed\" height=\"525px\" width=\"100%\"></iframe>"
      ],
      "text/plain": [
       "<plotly.tools.PlotlyDisplay object>"
      ]
     },
     "execution_count": 8,
     "metadata": {},
     "output_type": "execute_result"
    }
   ],
   "source": [
    "# plot fuzzy-bollinger-width\n",
    "data = fms.plotFuzzyVariable(var='BOLLINGER_WIDTH')\n",
    "py.iplot(data, filename='simple_ohlc')"
   ]
  },
  {
   "cell_type": "markdown",
   "metadata": {},
   "source": [
    "### Oscillators fuzzification\n",
    "\n",
    "Oscillators indicator includes: \n",
    "\n",
    "- MACD\n",
    "- RSI\n",
    "\n",
    "Based on these indicators, several fuzzy parameters can be sinthetically built, as:\n",
    "\n",
    "\n",
    "##### MACD approach to crossing\n",
    "\n",
    "This fuzzification process can be applied to any MACD cross event. Fuzzy sets can be divided into these categories:\n",
    "\n",
    "*MACD crossover with zero-level*\n",
    "- MacdFarBelowZero\n",
    "- MacdMidDistBelowZero\n",
    "- MacdNearBelowZero\n",
    "- MacdJustCrossedZero \n",
    "- MacdNearAboveZero\n",
    "- MacdMidDistAboveZero\n",
    "- MacdFarAboveZero\n",
    "\n",
    "*MACD crossover with signal-line*\n",
    "- MacdFarBelowSig\n",
    "- MacdMidDistBelowSig\n",
    "- MacdNearBelowSig\n",
    "- MacdNearAboveSig\n",
    "- MacdMidDistAboveSig\n",
    "- MacdFarAboveSig\n",
    "- MacdJustCrossedSig \n",
    "\n"
   ]
  },
  {
   "cell_type": "code",
   "execution_count": 9,
   "metadata": {},
   "outputs": [
    {
     "name": "stdout",
     "output_type": "stream",
     "text": [
      "DEBUG:urllib3.connectionpool:Starting new HTTPS connection (1): plot.ly:443\n",
      "DEBUG:urllib3.connectionpool:https://plot.ly:443 \"POST /clientresp HTTP/1.1\" 200 None\n",
      "The draw time for this plot will be slow for clients without much RAM.\n"
     ]
    },
    {
     "data": {
      "text/html": [
       "<iframe id=\"igraph\" scrolling=\"no\" style=\"border:none;\" seamless=\"seamless\" src=\"https://plot.ly/~raulMrello/130.embed\" height=\"525px\" width=\"100%\"></iframe>"
      ],
      "text/plain": [
       "<plotly.tools.PlotlyDisplay object>"
      ]
     },
     "execution_count": 9,
     "metadata": {},
     "output_type": "execute_result"
    }
   ],
   "source": [
    "# set logging level\n",
    "fms.setLoggingLevel(logging.WARN)\n",
    "# build fuzzy-bollinger indicators against its SMA50\n",
    "_df = fms.fuzzifyMACD(timeperiod=500)\n",
    "# plot fuzzy-macd-cross-zero\n",
    "data = fms.plotFuzzyVariable(var='MACD_CROSS_ZERO')\n",
    "py.iplot(data, filename='simple_ohlc')"
   ]
  },
  {
   "cell_type": "code",
   "execution_count": 10,
   "metadata": {},
   "outputs": [
    {
     "name": "stdout",
     "output_type": "stream",
     "text": [
      "DEBUG:urllib3.connectionpool:Starting new HTTPS connection (1): plot.ly:443\n",
      "DEBUG:urllib3.connectionpool:https://plot.ly:443 \"POST /clientresp HTTP/1.1\" 200 None\n",
      "The draw time for this plot will be slow for clients without much RAM.\n"
     ]
    },
    {
     "data": {
      "text/html": [
       "<iframe id=\"igraph\" scrolling=\"no\" style=\"border:none;\" seamless=\"seamless\" src=\"https://plot.ly/~raulMrello/130.embed\" height=\"525px\" width=\"100%\"></iframe>"
      ],
      "text/plain": [
       "<plotly.tools.PlotlyDisplay object>"
      ]
     },
     "execution_count": 10,
     "metadata": {},
     "output_type": "execute_result"
    }
   ],
   "source": [
    "# plot fuzzy-macd-cross-signal\n",
    "data = fms.plotFuzzyVariable(var='MACD_CROSS_SIG')\n",
    "py.iplot(data, filename='simple_ohlc')"
   ]
  },
  {
   "cell_type": "markdown",
   "metadata": {},
   "source": [
    "\n",
    "\n",
    "##### RSI approach to crossing\n",
    "\n",
    "This fuzzification process can be applied to any RSI cross event (zero, overbought, oversell). Fuzzy sets can be divided into these categories:\n",
    "\n",
    "- CrossIsFarAwayBelow\n",
    "- CrossIsMidRangeBelow\n",
    "- CrossIsNearBelow\n",
    "- CrossOccured (this is a singleton set. If =1 the rest =0)\n",
    "- CrossIsNearAbove\n",
    "- CrossIsMidRangeAbove\n",
    "- CrossIsFarAwayAbove\n",
    "\n"
   ]
  },
  {
   "cell_type": "code",
   "execution_count": 11,
   "metadata": {},
   "outputs": [
    {
     "name": "stdout",
     "output_type": "stream",
     "text": [
      "DEBUG:urllib3.connectionpool:Starting new HTTPS connection (1): plot.ly:443\n",
      "DEBUG:urllib3.connectionpool:https://plot.ly:443 \"POST /clientresp HTTP/1.1\" 200 None\n",
      "The draw time for this plot will be slow for clients without much RAM.\n"
     ]
    },
    {
     "data": {
      "text/html": [
       "<iframe id=\"igraph\" scrolling=\"no\" style=\"border:none;\" seamless=\"seamless\" src=\"https://plot.ly/~raulMrello/130.embed\" height=\"525px\" width=\"100%\"></iframe>"
      ],
      "text/plain": [
       "<plotly.tools.PlotlyDisplay object>"
      ]
     },
     "execution_count": 11,
     "metadata": {},
     "output_type": "execute_result"
    }
   ],
   "source": [
    "# set logging level\n",
    "fms.setLoggingLevel(logging.WARN)\n",
    "# build fuzzy-bollinger indicators against its SMA50\n",
    "_df = fms.fuzzifyRSI(timeperiod=500)\n",
    "# plot fuzzy-macd-cross-zero\n",
    "data = fms.plotFuzzyVariable(var='RSI')\n",
    "py.iplot(data, filename='simple_ohlc')"
   ]
  },
  {
   "cell_type": "code",
   "execution_count": 12,
   "metadata": {
    "scrolled": true
   },
   "outputs": [
    {
     "name": "stdout",
     "output_type": "stream",
     "text": [
      "DEBUG:urllib3.connectionpool:Starting new HTTPS connection (1): plot.ly:443\n",
      "DEBUG:urllib3.connectionpool:https://plot.ly:443 \"POST /clientresp HTTP/1.1\" 200 None\n"
     ]
    },
    {
     "data": {
      "text/html": [
       "<iframe id=\"igraph\" scrolling=\"no\" style=\"border:none;\" seamless=\"seamless\" src=\"https://plot.ly/~raulMrello/130.embed\" height=\"525px\" width=\"100%\"></iframe>"
      ],
      "text/plain": [
       "<plotly.tools.PlotlyDisplay object>"
      ]
     },
     "execution_count": 12,
     "metadata": {},
     "output_type": "execute_result"
    }
   ],
   "source": [
    "f_sets = [{'type':'left-edge',    'name':'RsiInOverSell',     'p0': 30.0, 'p1': 30.1},\n",
    "          {'type':'internal-3pt', 'name':'RsiNearOverSell',   'p0': 30.0, 'p1': 30.1, 'p2': 50.0},\n",
    "          {'type':'internal-3pt', 'name':'RsiFarFromLevels',  'p0': 30.0, 'p1': 50.0, 'p2': 70.0},\n",
    "          {'type':'internal-3pt', 'name':'RsiNearOverBought', 'p0': 50.0, 'p1': 69.9, 'p2': 70.0},\n",
    "          {'type':'right-edge'  , 'name':'RsiInOverBought',   'p0': 69.9, 'p1': 70.0}]\n",
    "traces = Fuzzifier.plotFuzzySets(f_sets, range=[0,100], colors=['red','blue','green','violet','orange','rose','cyan'])\n",
    "py.iplot(traces, filename='simple_ohlc')"
   ]
  },
  {
   "cell_type": "markdown",
   "metadata": {},
   "source": [
    "### Moving Averages fuzzification\n",
    "\n",
    "Based on SMA_BULLISH_TREND and SMA_BEARISH_TREND indicators, a fuzzy-trend indicator can be built\n",
    "\n",
    "- MacdFarBelowZero\n",
    "- MacdMidDistBelowZero\n",
    "- MacdNearBelowZero\n",
    "- MacdJustCrossedZero \n",
    "- MacdNearAboveZero\n",
    "- MacdMidDistAboveZero\n",
    "- MacdFarAboveZero\n",
    "\n"
   ]
  },
  {
   "cell_type": "code",
   "execution_count": 14,
   "metadata": {},
   "outputs": [
    {
     "name": "stdout",
     "output_type": "stream",
     "text": [
      "DEBUG:urllib3.connectionpool:Starting new HTTPS connection (1): plot.ly:443\n",
      "DEBUG:urllib3.connectionpool:https://plot.ly:443 \"POST /clientresp HTTP/1.1\" 200 None\n"
     ]
    },
    {
     "data": {
      "text/html": [
       "<iframe id=\"igraph\" scrolling=\"no\" style=\"border:none;\" seamless=\"seamless\" src=\"https://plot.ly/~raulMrello/130.embed\" height=\"525px\" width=\"100%\"></iframe>"
      ],
      "text/plain": [
       "<plotly.tools.PlotlyDisplay object>"
      ]
     },
     "execution_count": 14,
     "metadata": {},
     "output_type": "execute_result"
    }
   ],
   "source": [
    "# set logging level\n",
    "fms.setLoggingLevel(logging.WARN)\n",
    "# build fuzzy-sma indicators against its SMA50\n",
    "_df = fms.fuzzifyMovingAverages(timeperiod=14)\n",
    "# plot fuzzy-sma-bullish-trend\n",
    "data = fms.plotFuzzyVariable(var='SMA_BULLISH_TREND')\n",
    "py.iplot(data, filename='simple_ohlc')"
   ]
  },
  {
   "cell_type": "code",
   "execution_count": 15,
   "metadata": {},
   "outputs": [
    {
     "name": "stdout",
     "output_type": "stream",
     "text": [
      "DEBUG:urllib3.connectionpool:Starting new HTTPS connection (1): plot.ly:443\n",
      "DEBUG:urllib3.connectionpool:https://plot.ly:443 \"POST /clientresp HTTP/1.1\" 200 None\n"
     ]
    },
    {
     "data": {
      "text/html": [
       "<iframe id=\"igraph\" scrolling=\"no\" style=\"border:none;\" seamless=\"seamless\" src=\"https://plot.ly/~raulMrello/130.embed\" height=\"525px\" width=\"100%\"></iframe>"
      ],
      "text/plain": [
       "<plotly.tools.PlotlyDisplay object>"
      ]
     },
     "execution_count": 15,
     "metadata": {},
     "output_type": "execute_result"
    }
   ],
   "source": [
    "# plot fuzzy-sma-bearish-trend\n",
    "data = fms.plotFuzzyVariable(var='SMA_BEARISH_TREND')\n",
    "py.iplot(data, filename='simple_ohlc')"
   ]
  },
  {
   "cell_type": "markdown",
   "metadata": {},
   "source": [
    "### Fibonacci levels fuzzification\n",
    "\n",
    "Based on different FIBO_xx levels, fuzzy-indicators can be built within these fuzzy-sets:\n",
    "\n",
    "- FarFromFiboLevel\n",
    "- NearFiboLevel\n",
    "- InFiboLevel\n",
    "- NearFiboLevel \n",
    "- FarFromFiboLevel\n",
    "\n",
    "Fuzzy variables are: \n",
    "\n",
    "- FUZ_FIBO_RETR and FIBO_EXTN gives indication of the nearest level ('FIBO_023', 'FIBO_161', ...) or 'none'\n",
    "- FUZ_FIBO_RETR_S-2,...,FUZ_FIBO_RETR_S+2 provides membership\n",
    "- FUZ_FIBO_EXTN_S-2,...,FUZ_FIBO_EXTN_S+2 (memberships)\n",
    "\n"
   ]
  },
  {
   "cell_type": "code",
   "execution_count": 16,
   "metadata": {},
   "outputs": [
    {
     "name": "stdout",
     "output_type": "stream",
     "text": [
      "DEBUG:urllib3.connectionpool:Starting new HTTPS connection (1): plot.ly:443\n",
      "DEBUG:urllib3.connectionpool:https://plot.ly:443 \"POST /clientresp HTTP/1.1\" 200 None\n",
      "The draw time for this plot will be slow for clients without much RAM.\n"
     ]
    },
    {
     "data": {
      "text/html": [
       "<iframe id=\"igraph\" scrolling=\"no\" style=\"border:none;\" seamless=\"seamless\" src=\"https://plot.ly/~raulMrello/130.embed\" height=\"525px\" width=\"100%\"></iframe>"
      ],
      "text/plain": [
       "<plotly.tools.PlotlyDisplay object>"
      ]
     },
     "execution_count": 16,
     "metadata": {},
     "output_type": "execute_result"
    }
   ],
   "source": [
    "# set logging level\n",
    "fms.setLoggingLevel(logging.WARN)\n",
    "# build fuzzy-fibo indicators\n",
    "_df = fms.fuzzifyFibo()\n",
    "# plot fuzzy-fibo-retracements\n",
    "data = fms.plotFuzzyVariable(var='FIBO_RETR')\n",
    "py.iplot(data, filename='simple_ohlc')"
   ]
  },
  {
   "cell_type": "code",
   "execution_count": 17,
   "metadata": {},
   "outputs": [
    {
     "name": "stdout",
     "output_type": "stream",
     "text": [
      "DEBUG:urllib3.connectionpool:Starting new HTTPS connection (1): plot.ly:443\n",
      "DEBUG:urllib3.connectionpool:https://plot.ly:443 \"POST /clientresp HTTP/1.1\" 200 None\n",
      "The draw time for this plot will be slow for clients without much RAM.\n"
     ]
    },
    {
     "data": {
      "text/html": [
       "<iframe id=\"igraph\" scrolling=\"no\" style=\"border:none;\" seamless=\"seamless\" src=\"https://plot.ly/~raulMrello/130.embed\" height=\"525px\" width=\"100%\"></iframe>"
      ],
      "text/plain": [
       "<plotly.tools.PlotlyDisplay object>"
      ]
     },
     "execution_count": 17,
     "metadata": {},
     "output_type": "execute_result"
    }
   ],
   "source": [
    "# plot fuzzy-fibo-extensions\n",
    "data = fms.plotFuzzyVariable(var='FIBO_EXTN')\n",
    "py.iplot(data, filename='simple_ohlc')"
   ]
  },
  {
   "cell_type": "markdown",
   "metadata": {},
   "source": [
    "### Support & Resistance fuzzification\n",
    "\n",
    "Based on 2 last support and resistance levels, a new fuzzy-variable is generated, which measures distance from price to those SR levels, returning the most closer:\n",
    "\n",
    "- FarBelowSRLevel\n",
    "- NearBelowSRLevel\n",
    "- InSRLevel\n",
    "- NearAboveSRLevel \n",
    "- FarAboveSRLevel\n",
    "\n",
    "Fuzzy variable is FUZ_SR_DISTANCE: \n"
   ]
  },
  {
   "cell_type": "code",
   "execution_count": 104,
   "metadata": {
    "scrolled": true
   },
   "outputs": [
    {
     "name": "stdout",
     "output_type": "stream",
     "text": [
      "DEBUG:urllib3.connectionpool:Starting new HTTPS connection (1): plot.ly:443\n",
      "DEBUG:urllib3.connectionpool:https://plot.ly:443 \"POST /clientresp HTTP/1.1\" 200 None\n",
      "The draw time for this plot will be slow for clients without much RAM.\n"
     ]
    },
    {
     "data": {
      "text/html": [
       "<iframe id=\"igraph\" scrolling=\"no\" style=\"border:none;\" seamless=\"seamless\" src=\"https://plot.ly/~raulMrello/130.embed\" height=\"525px\" width=\"100%\"></iframe>"
      ],
      "text/plain": [
       "<plotly.tools.PlotlyDisplay object>"
      ]
     },
     "execution_count": 104,
     "metadata": {},
     "output_type": "execute_result"
    }
   ],
   "source": [
    "# set logging level\n",
    "fms.setLoggingLevel(logging.WARN)\n",
    "# build fuzzy-sr indicators\n",
    "_df = fms.fuzzifySRLevels(timeperiod=1000)\n",
    "# plot fuzzy-sr-distance\n",
    "data = fms.plotFuzzyVariable(var='SR_DISTANCE')\n",
    "py.iplot(data, filename='simple_ohlc')"
   ]
  },
  {
   "cell_type": "markdown",
   "metadata": {},
   "source": [
    "### Channels fuzzification\n",
    "\n",
    "Builds CHHI_DISTANCE and CHLO_DISTANCE fuzzy-variables within these fuzzy sets:\n",
    "- FarBelow\n",
    "- NearBelow\n",
    "- In\n",
    "- NearAbove\n",
    "- FarAbove"
   ]
  },
  {
   "cell_type": "code",
   "execution_count": 108,
   "metadata": {
    "scrolled": true
   },
   "outputs": [
    {
     "name": "stdout",
     "output_type": "stream",
     "text": [
      "DEBUG:urllib3.connectionpool:Starting new HTTPS connection (1): plot.ly:443\n",
      "DEBUG:urllib3.connectionpool:https://plot.ly:443 \"POST /clientresp HTTP/1.1\" 200 None\n",
      "The draw time for this plot will be slow for clients without much RAM.\n"
     ]
    },
    {
     "data": {
      "text/html": [
       "<iframe id=\"igraph\" scrolling=\"no\" style=\"border:none;\" seamless=\"seamless\" src=\"https://plot.ly/~raulMrello/130.embed\" height=\"525px\" width=\"100%\"></iframe>"
      ],
      "text/plain": [
       "<plotly.tools.PlotlyDisplay object>"
      ]
     },
     "execution_count": 108,
     "metadata": {},
     "output_type": "execute_result"
    }
   ],
   "source": [
    "# set logging level\n",
    "fms.setLoggingLevel(logging.WARN)\n",
    "# build fuzzy-chhi-distance and fuzzy-ch-lo-distance indicators\n",
    "_df = fms.fuzzifyChannel()\n",
    "# plot fuzzy-chhi-distance\n",
    "data = fms.plotFuzzyVariable(var='CHHI_DISTANCE')\n",
    "py.iplot(data, filename='simple_ohlc')"
   ]
  },
  {
   "cell_type": "code",
   "execution_count": 109,
   "metadata": {},
   "outputs": [
    {
     "name": "stdout",
     "output_type": "stream",
     "text": [
      "DEBUG:urllib3.connectionpool:Starting new HTTPS connection (1): plot.ly:443\n",
      "DEBUG:urllib3.connectionpool:https://plot.ly:443 \"POST /clientresp HTTP/1.1\" 200 None\n",
      "The draw time for this plot will be slow for clients without much RAM.\n"
     ]
    },
    {
     "data": {
      "text/html": [
       "<iframe id=\"igraph\" scrolling=\"no\" style=\"border:none;\" seamless=\"seamless\" src=\"https://plot.ly/~raulMrello/130.embed\" height=\"525px\" width=\"100%\"></iframe>"
      ],
      "text/plain": [
       "<plotly.tools.PlotlyDisplay object>"
      ]
     },
     "execution_count": 109,
     "metadata": {},
     "output_type": "execute_result"
    }
   ],
   "source": [
    "# plot fuzzy-chhi-distance\n",
    "data = fms.plotFuzzyVariable(var='CHLO_DISTANCE')\n",
    "py.iplot(data, filename='simple_ohlc')"
   ]
  },
  {
   "cell_type": "markdown",
   "metadata": {},
   "source": [
    "### Trend fuzzification\n",
    "\n",
    "Builds TREND_STRENGTH fuzzy-variable within these fuzzy sets:\n",
    "- StrongBearish\n",
    "- MidBearish\n",
    "- WeakBearish\n",
    "- Undefined\n",
    "- WeakBullish\n",
    "- MidBullish\n",
    "- StrongBullish\n"
   ]
  },
  {
   "cell_type": "code",
   "execution_count": 113,
   "metadata": {},
   "outputs": [
    {
     "name": "stdout",
     "output_type": "stream",
     "text": [
      "DEBUG:urllib3.connectionpool:Starting new HTTPS connection (1): plot.ly:443\n",
      "DEBUG:urllib3.connectionpool:https://plot.ly:443 \"POST /clientresp HTTP/1.1\" 200 None\n",
      "The draw time for this plot will be slow for clients without much RAM.\n"
     ]
    },
    {
     "data": {
      "text/html": [
       "<iframe id=\"igraph\" scrolling=\"no\" style=\"border:none;\" seamless=\"seamless\" src=\"https://plot.ly/~raulMrello/130.embed\" height=\"525px\" width=\"100%\"></iframe>"
      ],
      "text/plain": [
       "<plotly.tools.PlotlyDisplay object>"
      ]
     },
     "execution_count": 113,
     "metadata": {},
     "output_type": "execute_result"
    }
   ],
   "source": [
    "# set logging level\n",
    "fms.setLoggingLevel(logging.WARN)\n",
    "# build fuzzy-trend-strength indicator\n",
    "_df = fms.fuzzifyTrend()\n",
    "# plot fuzzy-trend-strength\n",
    "data = fms.plotFuzzyVariable(var='TREND_STRENGTH')\n",
    "py.iplot(data, filename='simple_ohlc')"
   ]
  },
  {
   "cell_type": "markdown",
   "metadata": {},
   "source": [
    "### Divergence fuzzification\n",
    "\n",
    "Builds BULL_DIV_STRENGTH y BEAR_DIV_STRENGTH fuzzy-variables within these fuzzy sets:\n",
    "- NoDiv\n",
    "- WeakDiv\n",
    "- StrongDiv"
   ]
  },
  {
   "cell_type": "code",
   "execution_count": 121,
   "metadata": {},
   "outputs": [
    {
     "name": "stdout",
     "output_type": "stream",
     "text": [
      "DEBUG:urllib3.connectionpool:Starting new HTTPS connection (1): plot.ly:443\n",
      "DEBUG:urllib3.connectionpool:https://plot.ly:443 \"POST /clientresp HTTP/1.1\" 200 None\n"
     ]
    },
    {
     "data": {
      "text/html": [
       "<iframe id=\"igraph\" scrolling=\"no\" style=\"border:none;\" seamless=\"seamless\" src=\"https://plot.ly/~raulMrello/130.embed\" height=\"525px\" width=\"100%\"></iframe>"
      ],
      "text/plain": [
       "<plotly.tools.PlotlyDisplay object>"
      ]
     },
     "execution_count": 121,
     "metadata": {},
     "output_type": "execute_result"
    }
   ],
   "source": [
    "# set logging level\n",
    "fms.setLoggingLevel(logging.WARN)\n",
    "# build fuzzy-divergence-strength indicator\n",
    "_df = fms.fuzzifyDivergence()\n",
    "# plot fuzzy-divergence-strength\n",
    "data = fms.plotFuzzyVariable(var='BULL_DIV_STRENGTH')\n",
    "py.iplot(data, filename='simple_ohlc')"
   ]
  },
  {
   "cell_type": "code",
   "execution_count": 133,
   "metadata": {},
   "outputs": [
    {
     "data": {
      "text/plain": [
       "<matplotlib.axes._subplots.AxesSubplot at 0x59739b0>"
      ]
     },
     "execution_count": 133,
     "metadata": {},
     "output_type": "execute_result"
    },
    {
     "name": "stdout",
     "output_type": "stream",
     "text": [
      "DEBUG:matplotlib.axes._base:update_title_pos\n",
      "DEBUG:matplotlib.axes._base:update_title_pos\n",
      "DEBUG:matplotlib.axes._base:update_title_pos\n",
      "DEBUG:matplotlib.axes._base:update_title_pos\n",
      "DEBUG:matplotlib.axes._base:update_title_pos\n"
     ]
    },
    {
     "data": {
      "image/png": "[encoded data removed]",
      "text/plain": [
       "<Figure size 432x288 with 1 Axes>"
      ]
     },
     "metadata": {
      "needs_background": "light"
     },
     "output_type": "display_data"
    }
   ],
   "source": [
    "_df.DIV_HID_BULL_MACD.plot()"
   ]
  }
 ],
 "metadata": {
  "accelerator": "TPU",
  "colab": {
   "collapsed_sections": [],
   "name": "FinTech_LSTM.ipynb",
   "provenance": [],
   "version": "0.3.2"
  },
  "kernelspec": {
   "display_name": "Python [conda env:keras]",
   "language": "python",
   "name": "conda-env-keras-py"
  },
  "language_info": {
   "codemirror_mode": {
    "name": "ipython",
    "version": 3
   },
   "file_extension": ".py",
   "mimetype": "text/x-python",
   "name": "python",
   "nbconvert_exporter": "python",
   "pygments_lexer": "ipython3",
   "version": "3.6.6"
  }
 },
 "nbformat": 4,
 "nbformat_minor": 1
}
