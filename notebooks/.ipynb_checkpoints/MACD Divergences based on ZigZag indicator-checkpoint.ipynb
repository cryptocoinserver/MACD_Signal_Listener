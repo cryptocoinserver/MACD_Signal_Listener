{
 "cells": [
  {
   "cell_type": "markdown",
   "metadata": {
    "colab_type": "text",
    "id": "pQWfP-VMvX7c"
   },
   "source": [
    "# Introduction\n",
    "\n",
    "In this notebook, I study the identification of MACD divergences from Min|Max points in ZIGZAG indicator."
   ]
  },
  {
   "cell_type": "code",
   "execution_count": 1,
   "metadata": {},
   "outputs": [
    {
     "data": {
      "text/html": [
       "<script>requirejs.config({paths: { 'plotly': ['https://cdn.plot.ly/plotly-latest.min']},});if(!window.Plotly) {{require(['plotly'],function(plotly) {window.Plotly=plotly;});}}</script>"
      ],
      "text/vnd.plotly.v1+html": [
       "<script>requirejs.config({paths: { 'plotly': ['https://cdn.plot.ly/plotly-latest.min']},});if(!window.Plotly) {{require(['plotly'],function(plotly) {window.Plotly=plotly;});}}</script>"
      ]
     },
     "metadata": {},
     "output_type": "display_data"
    },
    {
     "name": "stdout",
     "output_type": "stream",
     "text": [
      "Packages loaded!!\n"
     ]
    }
   ],
   "source": [
    "import sys\n",
    "\n",
    "####################################################################################\n",
    "# Data handling \n",
    "import pandas as pd\n",
    "from pandas import concat\n",
    "from pandas.plotting import scatter_matrix\n",
    "import numpy as np\n",
    "\n",
    "####################################################################################\n",
    "# Visualization\n",
    "import matplotlib.pyplot as plt\n",
    "from matplotlib import dates, ticker\n",
    "from matplotlib.dates import (MONDAY, DateFormatter, MonthLocator, WeekdayLocator, date2num)\n",
    "import matplotlib as mpl\n",
    "import plotly\n",
    "import plotly.plotly as py\n",
    "import plotly.graph_objs as go\n",
    "from plotly.graph_objs import *\n",
    "from plotly.tools import FigureFactory as FF\n",
    "import plotly.tools as tls\n",
    "plotly.offline.init_notebook_mode(connected=True)\n",
    "\n",
    "####################################################################################\n",
    "# TA-Lib: \n",
    "import talib\n",
    "\n",
    "####################################################################################\n",
    "# Other utilities\n",
    "import datetime\n",
    "import time\n",
    "import os\n",
    "import sys\n",
    "import math\n",
    "from enum import Enum\n",
    "\n",
    "print('Packages loaded!!')"
   ]
  },
  {
   "cell_type": "code",
   "execution_count": 2,
   "metadata": {},
   "outputs": [],
   "source": [
    "# Append path for MACD_Signal_Listener class (parent folder)\n",
    "sys.path.append('..')\n",
    "\n",
    "# import main class and event class\n",
    "from MACD_Signal_Listener import MACD_Signal_Listener, MACD_Events\n",
    "from ZIGZAG_Signal_Listener import ZIGZAG_Signal_Listener"
   ]
  },
  {
   "cell_type": "code",
   "execution_count": 3,
   "metadata": {},
   "outputs": [],
   "source": [
    "# loads df dataframe\n",
    "df = pd.read_csv('../csv_data/EURUSD_M15.csv', sep=';')\n",
    "df = df[['OPEN','HIGH','LOW','CLOSE']]"
   ]
  },
  {
   "cell_type": "code",
   "execution_count": 4,
   "metadata": {},
   "outputs": [],
   "source": [
    "# creates a MACD Signal Listener with default parameters\n",
    "msl = MACD_Signal_Listener(param_num_bars_per_swing=5, param_num_bars_per_minmax_wdow=2)\n",
    "\n",
    "# creates zigzag signal listener\n",
    "zz = ZIGZAG_Signal_Listener()"
   ]
  },
  {
   "cell_type": "code",
   "execution_count": 14,
   "metadata": {},
   "outputs": [],
   "source": [
    "def datafeed_update(n):\n",
    "  last_sample = -2000\n",
    "  execution_count = n\n",
    "\n",
    "  # setup plotting figure with 2 rows and 1 column\n",
    "  fig = plotly.tools.make_subplots(rows=2, cols=1, subplot_titles=('Price', 'MACD'), shared_xaxes=True, vertical_spacing=0.1)\n",
    "  fig['layout'].update(height=600, title='Price & MACD', xaxis=dict(rangeslider=dict(visible = False)))\n",
    "\n",
    "  # updates datafeed samples\n",
    "  _from_sample = last_sample + execution_count\n",
    "  _to_sample = _from_sample + 1000\n",
    "\n",
    "  # executes MACD signal generator\n",
    "  _events, _df_result = msl.MACD( df[_from_sample : _to_sample],\n",
    "                                  applied = 'CLOSE', \n",
    "                                  fastperiod=15, \n",
    "                                  slowperiod=26, \n",
    "                                  signalperiod=9,\n",
    "                                  common_event_listeners=[],\n",
    "                                  bullish_divergence_listeners=[],\n",
    "                                  bearish_divergence_listeners=[],\n",
    "                                  bullish_main_zero_cross_listeners=[],\n",
    "                                  bearish_main_zero_cross_listeners=[],\n",
    "                                  bullish_main_signal_cross_listeners=[],\n",
    "                                  bearish_main_signal_cross_listeners=[])\n",
    "\n",
    "\n",
    "  #executes ZIGZAG indicator\n",
    "  _df_result, _x, _y, _events = zz.ZIGZAG(_df_result, \n",
    "                                    minbars=12, \n",
    "                                    bb_period=20, \n",
    "                                    bb_dev = 2.0, \n",
    "                                    nan_value = 0.0, \n",
    "                                    verbose=False)\n",
    "  \n",
    "  # Plot results\n",
    "  _df_draw = _df_result\n",
    "  curr_sample = 0\n",
    "  last_sample = _df_draw.shape[0] - 1\n",
    "  \n",
    "  # build candlestick trace\n",
    "  trace_ohlc = go.Ohlc(x=_df_draw.index.values, open=_df_draw.OPEN, high=_df_draw.HIGH, low=_df_draw.LOW, close=_df_draw.CLOSE, name='Candlestick')\n",
    "  fig.append_trace(trace_ohlc, 1, 1)\n",
    "  \n",
    "  _dfz = _df_result[_df_result.ZIGZAG > 0].copy()\n",
    "  trace_zigzag = go.Scatter(x=_dfz.reset_index()['index'], y=_dfz.ZIGZAG, name='zigzag', line=scatter.Line(color='black', width=1))\n",
    "  fig.append_trace(trace_zigzag, 1, 1)\n",
    "\n",
    "  # build MACD traces\n",
    "  trace_macd = go.Scatter(x=_df_draw.index.values, y=_df_draw.MACD, name='MACD', line=scatter.Line(color='blue', width=1))\n",
    "  fig.append_trace(trace_macd, 2, 1)\n",
    "  trace_macdsig = go.Scatter(x=_df_draw.index.values, y=_df_draw.MACDS, name='MACD_sig', line=scatter.Line(color='red', width=1))\n",
    "  fig.append_trace(trace_macdsig, 2, 1)\n",
    "\n",
    "  # build BEAR_DIVERGENCES on both charts (black)\n",
    "  # select divergence zones\n",
    "  div_traces_row1 = []\n",
    "  div_traces_row2 = []\n",
    "  # get divergences as an array and just select those in the plotting range\n",
    "  bear_div_zones = msl.getBearishDivergences()\n",
    "  if len(bear_div_zones) > 0:\n",
    "    _bear_div_zones = np.asarray(bear_div_zones)\n",
    "    _bear_div_zones = _bear_div_zones[(_bear_div_zones[:,0] >= curr_sample) & (_bear_div_zones[:,0] <= last_sample)]\n",
    "    #print('Bearish Divergence zones={}'.format(len(_bear_div_zones)))\n",
    "    # for each one, build a pair of traces, one for each row\n",
    "    for d in _bear_div_zones:\n",
    "      #print('added bear_div at {}'.format(d - curr_sample))\n",
    "      # add trace to row1 list\n",
    "      div_traces_row1.append(go.Scatter(\n",
    "              x= d - curr_sample, \n",
    "              y= [_df_draw.HIGH.at[d[0]], _df_draw.HIGH.at[d[1]]],     \n",
    "              name='bear_div_r1 at {}'.format(d - curr_sample),\n",
    "              line=scatter.Line(color='black', width=1)))\n",
    "      # add trace to row2 list\n",
    "      div_traces_row2.append(go.Scatter(\n",
    "              x= d - curr_sample, \n",
    "              y= [_df_draw.MACD.at[d[0]], _df_draw.MACD.at[d[1]]],     \n",
    "              name='bear_div_r2 at {}'.format(d - curr_sample),\n",
    "              line=scatter.Line(color='black', width=1)))\n",
    "\n",
    "\n",
    "  # build BULL_DIVERGENCES on both charts (orange)\n",
    "  # get divergences as an array and just select those in the plotting range\n",
    "  bull_div_zones = msl.getBullishDivergences()\n",
    "  if len(bull_div_zones) > 0:\n",
    "    _bull_div_zones = np.asarray(bull_div_zones)\n",
    "    _bull_div_zones = _bull_div_zones[(_bull_div_zones[:,0] >= curr_sample) & (_bull_div_zones[:,0] <= last_sample)]\n",
    "    #print('Bullish Divergence zones={}'.format(len(_bull_div_zones)))\n",
    "    # for each one, build a pair of traces, one for each row\n",
    "    for d in _bull_div_zones:\n",
    "      #print('added bull_div at {}'.format(d - curr_sample))\n",
    "      # add trace to row1 list\n",
    "      div_traces_row1.append(go.Scatter(\n",
    "              x= d - curr_sample, \n",
    "              y= [_df_draw.LOW.at[d[0]], _df_draw.LOW.at[d[1]]],     \n",
    "              name='bull_div_r1 at {}'.format(d - curr_sample),\n",
    "              line=scatter.Line(color='orange', width=1)))\n",
    "      # add trace to row2 list\n",
    "      div_traces_row2.append(go.Scatter(\n",
    "              x= d - curr_sample, \n",
    "              y= [_df_draw.MACD.at[d[0]], _df_draw.MACD.at[d[1]]],     \n",
    "              name='bull_div_r2 at {}'.format(d - curr_sample),\n",
    "              line=scatter.Line(color='orange', width=1)))\n",
    "\n",
    "  for d in div_traces_row1:\n",
    "    fig.append_trace(d, 1, 1)\n",
    "  for d in div_traces_row2:\n",
    "    fig.append_trace(d, 2, 1)\n",
    "  return fig\n",
    "\n"
   ]
  },
  {
   "cell_type": "code",
   "execution_count": 15,
   "metadata": {},
   "outputs": [],
   "source": [
    "step = 0"
   ]
  },
  {
   "cell_type": "code",
   "execution_count": 16,
   "metadata": {},
   "outputs": [
    {
     "name": "stdout",
     "output_type": "stream",
     "text": [
      "This is the format of your plot grid:\n",
      "[ (1,1) x1,y1 ]\n",
      "[ (2,1) x1,y2 ]\n",
      "\n"
     ]
    },
    {
     "data": {
      "text/html": [
       "<iframe id=\"igraph\" scrolling=\"no\" style=\"border:none;\" seamless=\"seamless\" src=\"https://plot.ly/~raulMrello/130.embed\" height=\"600px\" width=\"100%\"></iframe>"
      ],
      "text/plain": [
       "<plotly.tools.PlotlyDisplay object>"
      ]
     },
     "execution_count": 16,
     "metadata": {},
     "output_type": "execute_result"
    }
   ],
   "source": [
    "fig = datafeed_update(step)\n",
    "step += 1\n",
    "py.iplot(fig, filename='simple_ohlc')"
   ]
  }
 ],
 "metadata": {
  "accelerator": "TPU",
  "colab": {
   "collapsed_sections": [],
   "name": "FinTech_LSTM.ipynb",
   "provenance": [],
   "version": "0.3.2"
  },
  "kernelspec": {
   "display_name": "Python [conda env:keras]",
   "language": "python",
   "name": "conda-env-keras-py"
  },
  "language_info": {
   "codemirror_mode": {
    "name": "ipython",
    "version": 3
   },
   "file_extension": ".py",
   "mimetype": "text/x-python",
   "name": "python",
   "nbconvert_exporter": "python",
   "pygments_lexer": "ipython3",
   "version": "3.6.6"
  }
 },
 "nbformat": 4,
 "nbformat_minor": 1
}
