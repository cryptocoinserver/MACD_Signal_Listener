{
 "cells": [
  {
   "cell_type": "markdown",
   "metadata": {
    "colab_type": "text",
    "id": "pQWfP-VMvX7c"
   },
   "source": [
    "# Introduction\n",
    "\n",
    "In this notebook, I will fuzzify all market state parameters and build a FuzzyStateVector which determines the current state of the market."
   ]
  },
  {
   "cell_type": "code",
   "execution_count": 1,
   "metadata": {},
   "outputs": [],
   "source": [
    "%load_ext autoreload\n",
    "%autoreload 2"
   ]
  },
  {
   "cell_type": "code",
   "execution_count": 52,
   "metadata": {},
   "outputs": [
    {
     "data": {
      "text/html": [
       "<script>requirejs.config({paths: { 'plotly': ['https://cdn.plot.ly/plotly-latest.min']},});if(!window.Plotly) {{require(['plotly'],function(plotly) {window.Plotly=plotly;});}}</script>"
      ],
      "text/vnd.plotly.v1+html": [
       "<script>requirejs.config({paths: { 'plotly': ['https://cdn.plot.ly/plotly-latest.min']},});if(!window.Plotly) {{require(['plotly'],function(plotly) {window.Plotly=plotly;});}}</script>"
      ]
     },
     "metadata": {},
     "output_type": "display_data"
    },
    {
     "name": "stdout",
     "output_type": "stream",
     "text": [
      "Packages loaded!!\n"
     ]
    }
   ],
   "source": [
    "# import requires packages\n",
    "# Append relative path to FuzzyMarketState.py\n",
    "import sys\n",
    "sys.path.append('..')\n",
    "\n",
    "from FuzzyMarketState import FuzzyMarketState\n",
    "\n",
    "import plotly\n",
    "import plotly.plotly as py\n",
    "import plotly.graph_objs as go\n",
    "from plotly.graph_objs import *\n",
    "from plotly.tools import FigureFactory as FF\n",
    "import plotly.tools as tls\n",
    "plotly.offline.init_notebook_mode(connected=True)\n",
    "\n",
    "import logging\n",
    "logging.basicConfig(level=logging.DEBUG, stream=sys.stdout)\n",
    "\n",
    "import random\n",
    "\n",
    "# Create object\n",
    "fms = FuzzyMarketState(logging.WARN)\n",
    "\n",
    "# load dataframe\n",
    "df = fms.loadCSV('../csv_data/EURUSD_H4.csv', sep=';')\n",
    "fms.loadDataframe(df)\n",
    "df_crisp = fms.buildIndicators()\n",
    "\n",
    "print('Packages loaded!!')"
   ]
  },
  {
   "cell_type": "markdown",
   "metadata": {},
   "source": [
    "### Zigzag fuzzification\n",
    "\n",
    "Zigzag indicator includes: \n",
    "\n",
    "- Zigzag flips\n",
    "- Bollinger indicators\n",
    "\n",
    "Based on these indicators, several fuzzy parameters can be sinthetically built, as:\n",
    "\n",
    "##### Duration of Zigzag flip:\n",
    "\n",
    "Evaluates last N zigzags durations and according with its min-max range, fuzzifies into these 5 categories:\n",
    "\n",
    "- VerySmall\n",
    "- SlightlySmall\n",
    "- Similar\n",
    "- SlightlyLarge\n",
    "- VeryLarge\n",
    "\n",
    "##### Range of Zigzag flip:\n",
    "\n",
    "Evaluates last N zigzags flip range according with its direction and fuzzifies into these 5 categories:\n",
    "\n",
    "- VerySmall\n",
    "- SlightlySmall\n",
    "- Similar\n",
    "- SlightlyLarge\n",
    "- VeryLarge\n"
   ]
  },
  {
   "cell_type": "code",
   "execution_count": 24,
   "metadata": {},
   "outputs": [],
   "source": [
    "# set logging level\n",
    "fms.setLoggingLevel(logging.WARN)\n",
    "# build fuzzy-zigzag-indicators based on SMA50\n",
    "_df = fms.fuzzifyZigzag(timeperiod=50)\n",
    "# plot fuzzy-zigzag variable ZZ_DURATION_1 (duration between consecutive flips)\n",
    "data = fms.plotFuzzyZigzagVariable(var='ZZ_DURATION_1')\n",
    "py.iplot(data, filename='simple_ohlc')"
   ]
  },
  {
   "cell_type": "code",
   "execution_count": 20,
   "metadata": {},
   "outputs": [
    {
     "name": "stdout",
     "output_type": "stream",
     "text": [
      "DEBUG:urllib3.connectionpool:Starting new HTTPS connection (1): plot.ly:443\n",
      "DEBUG:urllib3.connectionpool:https://plot.ly:443 \"POST /clientresp HTTP/1.1\" 200 None\n"
     ]
    },
    {
     "data": {
      "text/html": [
       "<iframe id=\"igraph\" scrolling=\"no\" style=\"border:none;\" seamless=\"seamless\" src=\"https://plot.ly/~raulMrello/130.embed\" height=\"525px\" width=\"100%\"></iframe>"
      ],
      "text/plain": [
       "<plotly.tools.PlotlyDisplay object>"
      ]
     },
     "execution_count": 20,
     "metadata": {},
     "output_type": "execute_result"
    }
   ],
   "source": [
    "# plot fuzzy-zigzag variable ZZ_DURATION_2 (duration between flips of the same direction)\n",
    "data = fms.plotFuzzyZigzagVariable(var='ZZ_DURATION_2')\n",
    "py.iplot(data, filename='simple_ohlc')"
   ]
  },
  {
   "cell_type": "code",
   "execution_count": 21,
   "metadata": {},
   "outputs": [
    {
     "name": "stdout",
     "output_type": "stream",
     "text": [
      "DEBUG:urllib3.connectionpool:Starting new HTTPS connection (1): plot.ly:443\n",
      "DEBUG:urllib3.connectionpool:https://plot.ly:443 \"POST /clientresp HTTP/1.1\" 200 None\n"
     ]
    },
    {
     "data": {
      "text/html": [
       "<iframe id=\"igraph\" scrolling=\"no\" style=\"border:none;\" seamless=\"seamless\" src=\"https://plot.ly/~raulMrello/130.embed\" height=\"525px\" width=\"100%\"></iframe>"
      ],
      "text/plain": [
       "<plotly.tools.PlotlyDisplay object>"
      ]
     },
     "execution_count": 21,
     "metadata": {},
     "output_type": "execute_result"
    }
   ],
   "source": [
    "# plot fuzzy-zigzag variable ZZ_RANGE (flip range against its SMA50)\n",
    "data = fms.plotFuzzyZigzagVariable(var='ZZ_RANGE')\n",
    "py.iplot(data, filename='simple_ohlc')"
   ]
  },
  {
   "cell_type": "markdown",
   "metadata": {},
   "source": [
    "##### Bollinger overbought-oversell state:\n",
    "\n",
    "Evaluates bollinger_%b indicator and fuzzifies into these 7 categories:\n",
    "\n",
    "- InOverSell\n",
    "- VeryPositive\n",
    "- SlightlyPositive\n",
    "- InTheMiddle\n",
    "- SlightlyNegative\n",
    "- VeryNegative\n",
    "- InOverBought\n",
    "\n",
    "\n",
    "##### Bollinger bands width:\n",
    "\n",
    "Evaluates bollinger_width against bollinger_width_sma and fuzzifies into these 5 categories:\n",
    "\n",
    "- VerySmall\n",
    "- SlightlySmall\n",
    "- Similar\n",
    "- SlightlyLarge\n",
    "- VeryLarge"
   ]
  },
  {
   "cell_type": "code",
   "execution_count": 53,
   "metadata": {},
   "outputs": [],
   "source": [
    "# set logging level\n",
    "fms.setLoggingLevel(logging.WARN)\n",
    "# build fuzzy-bollinger indicators against its SMA50\n",
    "_df = fms.fuzzifyBollinger(timeperiod=50)\n",
    "# plot fuzzy-bollinger-%b\n",
    "data = fms.plotFuzzyVariable(var='BOLLINGER_b')\n",
    "py.iplot(data, filename='simple_ohlc')"
   ]
  },
  {
   "cell_type": "code",
   "execution_count": 55,
   "metadata": {
    "scrolled": true
   },
   "outputs": [
    {
     "name": "stdout",
     "output_type": "stream",
     "text": [
      "DEBUG:urllib3.connectionpool:Starting new HTTPS connection (1): plot.ly:443\n",
      "DEBUG:urllib3.connectionpool:https://plot.ly:443 \"POST /clientresp HTTP/1.1\" 200 None\n",
      "The draw time for this plot will be slow for clients without much RAM.\n"
     ]
    },
    {
     "data": {
      "text/html": [
       "<iframe id=\"igraph\" scrolling=\"no\" style=\"border:none;\" seamless=\"seamless\" src=\"https://plot.ly/~raulMrello/130.embed\" height=\"525px\" width=\"100%\"></iframe>"
      ],
      "text/plain": [
       "<plotly.tools.PlotlyDisplay object>"
      ]
     },
     "execution_count": 55,
     "metadata": {},
     "output_type": "execute_result"
    }
   ],
   "source": [
    "# plot fuzzy-bollinger-width\n",
    "data = fms.plotFuzzyVariable(var='BOLLINGER_WIDTH')\n",
    "py.iplot(data, filename='simple_ohlc')"
   ]
  },
  {
   "cell_type": "markdown",
   "metadata": {},
   "source": [
    "### Oscillators fuzzification\n",
    "\n",
    "Oscillators indicator includes: \n",
    "\n",
    "- MACD\n",
    "- RSI\n",
    "\n",
    "Based on these indicators, several fuzzy parameters can be sinthetically built, as:\n",
    "\n",
    "\n",
    "##### MACD approach to crossing\n",
    "\n",
    "This fuzzification process can be applied to any MACD cross event. Fuzzy sets can be divided into these categories:\n",
    "\n",
    "- CrossIsFarAwayBelow\n",
    "- CrossIsMidRangeBelow\n",
    "- CrossIsNearBelow\n",
    "- CrossOccured (this is a singleton set. If =1 the rest =0)\n",
    "- CrossIsNearAbove\n",
    "- CrossIsMidRangeAbove\n",
    "- CrossIsFarAwayAbove\n",
    "\n"
   ]
  },
  {
   "cell_type": "code",
   "execution_count": 69,
   "metadata": {},
   "outputs": [
    {
     "name": "stdout",
     "output_type": "stream",
     "text": [
      "DEBUG:urllib3.connectionpool:Starting new HTTPS connection (1): plot.ly:443\n",
      "DEBUG:urllib3.connectionpool:https://plot.ly:443 \"POST /clientresp HTTP/1.1\" 200 None\n",
      "The draw time for this plot will be slow for clients without much RAM.\n"
     ]
    },
    {
     "data": {
      "text/html": [
       "<iframe id=\"igraph\" scrolling=\"no\" style=\"border:none;\" seamless=\"seamless\" src=\"https://plot.ly/~raulMrello/130.embed\" height=\"525px\" width=\"100%\"></iframe>"
      ],
      "text/plain": [
       "<plotly.tools.PlotlyDisplay object>"
      ]
     },
     "execution_count": 69,
     "metadata": {},
     "output_type": "execute_result"
    }
   ],
   "source": [
    "# set logging level\n",
    "fms.setLoggingLevel(logging.WARN)\n",
    "# build fuzzy-bollinger indicators against its SMA50\n",
    "_df = fms.fuzzifyMACD(timeperiod=500)\n",
    "# plot fuzzy-macd-cross-zero\n",
    "data = fms.plotFuzzyVariable(var='MACD_CROSS_ZERO')\n",
    "py.iplot(data, filename='simple_ohlc')"
   ]
  },
  {
   "cell_type": "code",
   "execution_count": 70,
   "metadata": {},
   "outputs": [
    {
     "name": "stdout",
     "output_type": "stream",
     "text": [
      "DEBUG:urllib3.connectionpool:Starting new HTTPS connection (1): plot.ly:443\n",
      "DEBUG:urllib3.connectionpool:https://plot.ly:443 \"POST /clientresp HTTP/1.1\" 200 None\n",
      "The draw time for this plot will be slow for clients without much RAM.\n"
     ]
    },
    {
     "data": {
      "text/html": [
       "<iframe id=\"igraph\" scrolling=\"no\" style=\"border:none;\" seamless=\"seamless\" src=\"https://plot.ly/~raulMrello/130.embed\" height=\"525px\" width=\"100%\"></iframe>"
      ],
      "text/plain": [
       "<plotly.tools.PlotlyDisplay object>"
      ]
     },
     "execution_count": 70,
     "metadata": {},
     "output_type": "execute_result"
    }
   ],
   "source": [
    "# plot fuzzy-macd-cross-signal\n",
    "data = fms.plotFuzzyVariable(var='MACD_CROSS_SIG')\n",
    "py.iplot(data, filename='simple_ohlc')"
   ]
  },
  {
   "cell_type": "markdown",
   "metadata": {},
   "source": [
    "\n",
    "\n",
    "##### RSI approach to crossing\n",
    "\n",
    "This fuzzification process can be applied to any RSI cross event (zero, overbought, oversell). Fuzzy sets can be divided into these categories:\n",
    "\n",
    "- CrossIsFarAwayBelow\n",
    "- CrossIsMidRangeBelow\n",
    "- CrossIsNearBelow\n",
    "- CrossOccured (this is a singleton set. If =1 the rest =0)\n",
    "- CrossIsNearAbove\n",
    "- CrossIsMidRangeAbove\n",
    "- CrossIsFarAwayAbove\n",
    "\n"
   ]
  }
 ],
 "metadata": {
  "accelerator": "TPU",
  "colab": {
   "collapsed_sections": [],
   "name": "FinTech_LSTM.ipynb",
   "provenance": [],
   "version": "0.3.2"
  },
  "kernelspec": {
   "display_name": "Python [conda env:keras]",
   "language": "python",
   "name": "conda-env-keras-py"
  }
 },
 "nbformat": 4,
 "nbformat_minor": 1
}
