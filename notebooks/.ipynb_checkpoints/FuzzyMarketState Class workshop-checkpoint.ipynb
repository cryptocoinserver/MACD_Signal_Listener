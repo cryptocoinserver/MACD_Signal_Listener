{
 "cells": [
  {
   "cell_type": "markdown",
   "metadata": {
    "colab_type": "text",
    "id": "pQWfP-VMvX7c"
   },
   "source": [
    "# Introduction\n",
    "\n",
    "In this notebook, I will play with FuzzyMarketState python class, testing all its features."
   ]
  },
  {
   "cell_type": "code",
   "execution_count": 1,
   "metadata": {},
   "outputs": [
    {
     "data": {
      "text/html": [
       "<script>requirejs.config({paths: { 'plotly': ['https://cdn.plot.ly/plotly-latest.min']},});if(!window.Plotly) {{require(['plotly'],function(plotly) {window.Plotly=plotly;});}}</script>"
      ],
      "text/vnd.plotly.v1+html": [
       "<script>requirejs.config({paths: { 'plotly': ['https://cdn.plot.ly/plotly-latest.min']},});if(!window.Plotly) {{require(['plotly'],function(plotly) {window.Plotly=plotly;});}}</script>"
      ]
     },
     "metadata": {},
     "output_type": "display_data"
    },
    {
     "name": "stdout",
     "output_type": "stream",
     "text": [
      "Packages loaded!!\n"
     ]
    }
   ],
   "source": [
    "# import requires packages\n",
    "# Append relative path to FuzzyMarketState.py\n",
    "import sys\n",
    "sys.path.append('..')\n",
    "\n",
    "from FuzzyMarketState import FuzzyMarketState\n",
    "\n",
    "import plotly\n",
    "import plotly.plotly as py\n",
    "import plotly.graph_objs as go\n",
    "from plotly.graph_objs import *\n",
    "from plotly.tools import FigureFactory as FF\n",
    "import plotly.tools as tls\n",
    "plotly.offline.init_notebook_mode(connected=True)\n",
    "\n",
    "import logging\n",
    "logging.basicConfig(level=logging.DEBUG, stream=sys.stdout)\n",
    "\n",
    "import random\n",
    "\n",
    "print('Packages loaded!!')"
   ]
  },
  {
   "cell_type": "code",
   "execution_count": 2,
   "metadata": {},
   "outputs": [],
   "source": [
    "# Create object\n",
    "fms = FuzzyMarketState(logging.WARN)"
   ]
  },
  {
   "cell_type": "code",
   "execution_count": 3,
   "metadata": {
    "scrolled": false
   },
   "outputs": [],
   "source": [
    "# load dataframe\n",
    "df = fms.loadCSV('../csv_data/EURUSD_H4.csv', sep=';')"
   ]
  },
  {
   "cell_type": "markdown",
   "metadata": {},
   "source": [
    "## Zigzag and Bollinger indicators"
   ]
  },
  {
   "cell_type": "code",
   "execution_count": 4,
   "metadata": {
    "scrolled": false
   },
   "outputs": [],
   "source": [
    "# build zigzag indicator\n",
    "df = fms.buildZigzag(df, minbars=12, bb_period=20, bb_dev=2.0, bb_sma=[100], nan_value=0.0)\n"
   ]
  },
  {
   "cell_type": "code",
   "execution_count": 5,
   "metadata": {
    "scrolled": true
   },
   "outputs": [
    {
     "name": "stdout",
     "output_type": "stream",
     "text": [
      "DEBUG:urllib3.connectionpool:Starting new HTTPS connection (1): plot.ly:443\n",
      "DEBUG:urllib3.connectionpool:https://plot.ly:443 \"POST /clientresp HTTP/1.1\" 200 None\n"
     ]
    },
    {
     "data": {
      "text/html": [
       "<iframe id=\"igraph\" scrolling=\"no\" style=\"border:none;\" seamless=\"seamless\" src=\"https://plot.ly/~raulMrello/130.embed\" height=\"525px\" width=\"100%\"></iframe>"
      ],
      "text/plain": [
       "<plotly.tools.PlotlyDisplay object>"
      ]
     },
     "execution_count": 5,
     "metadata": {},
     "output_type": "execute_result"
    }
   ],
   "source": [
    "# load dataframe with zigzag into fms and plot the zigzag trace\n",
    "fms.loadDataframe(df)\n",
    "zz_traces = fms.plotZigzag('black')\n",
    "py.iplot(zz_traces, filename='simple_ohlc')"
   ]
  },
  {
   "cell_type": "code",
   "execution_count": 6,
   "metadata": {
    "scrolled": true
   },
   "outputs": [
    {
     "name": "stdout",
     "output_type": "stream",
     "text": [
      "This is the format of your plot grid:\n",
      "[ (1,1) x1,y1 ]\n",
      "[ (2,1) x1,y2 ]\n",
      "[ (3,1) x1,y3 ]\n",
      "\n",
      "DEBUG:urllib3.connectionpool:Starting new HTTPS connection (1): plot.ly:443\n",
      "DEBUG:urllib3.connectionpool:https://plot.ly:443 \"POST /clientresp HTTP/1.1\" 200 None\n"
     ]
    },
    {
     "data": {
      "text/html": [
       "<iframe id=\"igraph\" scrolling=\"no\" style=\"border:none;\" seamless=\"seamless\" src=\"https://plot.ly/~raulMrello/130.embed\" height=\"600px\" width=\"100%\"></iframe>"
      ],
      "text/plain": [
       "<plotly.tools.PlotlyDisplay object>"
      ]
     },
     "execution_count": 6,
     "metadata": {},
     "output_type": "execute_result"
    }
   ],
   "source": [
    "# plots Bollinger indicators associated with zigzag\n",
    "fig = plotly.tools.make_subplots(rows=3, cols=1, subplot_titles=('Price & Bollinger', 'Bollinger derivatives'), shared_xaxes=True, vertical_spacing=0.1)\n",
    "bb_traces = fms.plotBollinger(['black', 'blue', 'red'])\n",
    "fig.append_trace(bb_traces[0], 1, 1)\n",
    "fig.append_trace(bb_traces[1], 1, 1)\n",
    "fig.append_trace(bb_traces[2], 1, 1)\n",
    "fig.append_trace(bb_traces[3], 1, 1)\n",
    "fig.append_trace(bb_traces[4], 2, 1)\n",
    "fig.append_trace(bb_traces[5], 3, 1)\n",
    "fig['layout'].update(height=600, title='Bollinger indicators')\n",
    "py.iplot(fig, filename='simple_ohlc')"
   ]
  },
  {
   "cell_type": "markdown",
   "metadata": {},
   "source": [
    "### Oscillators: MACD and RSI"
   ]
  },
  {
   "cell_type": "code",
   "execution_count": 6,
   "metadata": {},
   "outputs": [],
   "source": [
    "result = fms.buildOscillators(fms.getDataframe(), macd_applied='CLOSE', macd_fast=12, macd_slow=26, macd_sig=9, rsi_applied='CLOSE', rsi_period=14)"
   ]
  },
  {
   "cell_type": "code",
   "execution_count": 8,
   "metadata": {
    "scrolled": true
   },
   "outputs": [
    {
     "name": "stdout",
     "output_type": "stream",
     "text": [
      "This is the format of your plot grid:\n",
      "[ (1,1) x1,y1 ]\n",
      "[ (2,1) x1,y2 ]\n",
      "[ (3,1) x1,y3 ]\n",
      "\n",
      "DEBUG:urllib3.connectionpool:Starting new HTTPS connection (1): plot.ly:443\n",
      "DEBUG:urllib3.connectionpool:https://plot.ly:443 \"POST /clientresp HTTP/1.1\" 200 None\n"
     ]
    },
    {
     "data": {
      "text/html": [
       "<iframe id=\"igraph\" scrolling=\"no\" style=\"border:none;\" seamless=\"seamless\" src=\"https://plot.ly/~raulMrello/130.embed\" height=\"600px\" width=\"100%\"></iframe>"
      ],
      "text/plain": [
       "<plotly.tools.PlotlyDisplay object>"
      ]
     },
     "execution_count": 8,
     "metadata": {},
     "output_type": "execute_result"
    }
   ],
   "source": [
    "fig = plotly.tools.make_subplots(rows=3, cols=1, subplot_titles=('Price', 'MACD', 'RSI'), shared_xaxes=True, vertical_spacing=0.1)\n",
    "osc_traces = fms.plotOscillators(color=['blue','red','green'])\n",
    "fig.append_trace(osc_traces[0], 1, 1)\n",
    "fig.append_trace(osc_traces[1], 2, 1)\n",
    "fig.append_trace(osc_traces[2], 2, 1)\n",
    "fig.append_trace(osc_traces[4], 3, 1)\n",
    "fig['layout'].update(height=600, title='Oscillators')\n",
    "py.iplot(fig, filename='simple_ohlc')"
   ]
  },
  {
   "cell_type": "markdown",
   "metadata": {},
   "source": [
    "### Moving Averages Fast-Medium-Slow"
   ]
  },
  {
   "cell_type": "code",
   "execution_count": 7,
   "metadata": {},
   "outputs": [],
   "source": [
    "# build moving averages\n",
    "result = fms.build3MovingAverages(fms.getDataframe(), \n",
    "                                  ma_fast_applied='CLOSE', ma_fast_period=50, ma_fast_type='SMA', \n",
    "                                  ma_mid_applied='CLOSE', ma_mid_period=100, ma_mid_type='SMA', \n",
    "                                  ma_slow_applied='CLOSE', ma_slow_period=200, ma_slow_type='SMA',\n",
    "                                  trend_filters={'price-slow': 0.5, 'price-mid': 0.3, 'price-fast': 0.2})"
   ]
  },
  {
   "cell_type": "code",
   "execution_count": 10,
   "metadata": {},
   "outputs": [
    {
     "name": "stdout",
     "output_type": "stream",
     "text": [
      "DEBUG:urllib3.connectionpool:Starting new HTTPS connection (1): plot.ly:443\n",
      "DEBUG:urllib3.connectionpool:https://plot.ly:443 \"POST /clientresp HTTP/1.1\" 200 None\n"
     ]
    },
    {
     "data": {
      "text/html": [
       "<iframe id=\"igraph\" scrolling=\"no\" style=\"border:none;\" seamless=\"seamless\" src=\"https://plot.ly/~raulMrello/130.embed\" height=\"600px\" width=\"100%\"></iframe>"
      ],
      "text/plain": [
       "<plotly.tools.PlotlyDisplay object>"
      ]
     },
     "execution_count": 10,
     "metadata": {},
     "output_type": "execute_result"
    }
   ],
   "source": [
    "# plot moving averages\n",
    "ma_traces, ma_shapes = fms.plotMovingAverages(color=['blue', 'red', 'green'])\n",
    "fig = go.Figure(data=[ma_traces[0],ma_traces[1],ma_traces[2],ma_traces[3]])\n",
    "fig['layout'].update(height=600, title='Trends')\n",
    "fig['layout'].update(shapes=ma_shapes)\n",
    "#-------------\n",
    "def zoom(layout, xrange):\n",
    "    in_view = df.loc[fig.layout.xaxis.range[0]:fig.layout.xaxis.range[1]]\n",
    "    fig.layout.yaxis.range = [in_view.High.min() - 10, in_view.High.max() + 10]\n",
    "fig.layout.on_change(zoom, 'xaxis.range')\n",
    "py.iplot(fig, filename='simple_ohlc')"
   ]
  },
  {
   "cell_type": "markdown",
   "metadata": {},
   "source": [
    "### Fibonacci levels"
   ]
  },
  {
   "cell_type": "code",
   "execution_count": 8,
   "metadata": {},
   "outputs": [],
   "source": [
    "# build common fibo levels (both retracements and extensions)\n",
    "fms.buildCommonFiboLevels(fms.getDataframe(), nan_value=0.0)"
   ]
  },
  {
   "cell_type": "code",
   "execution_count": 13,
   "metadata": {},
   "outputs": [
    {
     "name": "stdout",
     "output_type": "stream",
     "text": [
      "DEBUG:urllib3.connectionpool:Starting new HTTPS connection (1): plot.ly:443\n",
      "DEBUG:urllib3.connectionpool:https://plot.ly:443 \"POST /clientresp HTTP/1.1\" 200 None\n"
     ]
    },
    {
     "data": {
      "text/html": [
       "<iframe id=\"igraph\" scrolling=\"no\" style=\"border:none;\" seamless=\"seamless\" src=\"https://plot.ly/~raulMrello/130.embed\" height=\"600px\" width=\"100%\"></iframe>"
      ],
      "text/plain": [
       "<plotly.tools.PlotlyDisplay object>"
      ]
     },
     "execution_count": 13,
     "metadata": {},
     "output_type": "execute_result"
    }
   ],
   "source": [
    "# plot fibo levels for a given sample\n",
    "length =  fms.getDataframe().shape[0]\n",
    "x = random.randint(int(length/2), length)\n",
    "fibo_traces, fibo_annotations, fibo_shapes = fms.plotFiboLevels(at=x, width=100, color='black')\n",
    "fig = go.Figure(data=[fibo_traces])\n",
    "fig['layout'].update(height=600, title='FiboLevels at {}'.format(x))\n",
    "fig['layout'].update(annotations=fibo_annotations)\n",
    "fig['layout'].update(shapes=fibo_shapes)\n",
    "def zoom(layout, xrange):\n",
    "    in_view = df.loc[fig.layout.xaxis.range[0]:fig.layout.xaxis.range[1]]\n",
    "    fig.layout.yaxis.range = [in_view.High.min() - 10, in_view.High.max() + 10]\n",
    "fig.layout.on_change(zoom, 'xaxis.range')\n",
    "py.iplot(fig, filename='simple_ohlc')"
   ]
  },
  {
   "cell_type": "markdown",
   "metadata": {},
   "source": [
    "### Supports & Resistances"
   ]
  },
  {
   "cell_type": "code",
   "execution_count": 9,
   "metadata": {},
   "outputs": [
    {
     "data": {
      "text/plain": [
       "(6039, 5966)"
      ]
     },
     "execution_count": 9,
     "metadata": {},
     "output_type": "execute_result"
    }
   ],
   "source": [
    "# build supports and resistances levels from last trend zigzags\n",
    "_supports = fms.buildSupports(fms.getDataframe())\n",
    "s = _supports\n",
    "s = s[s != 0.0]\n",
    "x1 = s.index.values[-1]\n",
    "x2 = s.index.values[-2]\n",
    "x1,x2\n"
   ]
  },
  {
   "cell_type": "code",
   "execution_count": 10,
   "metadata": {},
   "outputs": [
    {
     "name": "stdout",
     "output_type": "stream",
     "text": [
      "DEBUG:urllib3.connectionpool:Starting new HTTPS connection (1): plot.ly:443\n",
      "DEBUG:urllib3.connectionpool:https://plot.ly:443 \"POST /clientresp HTTP/1.1\" 200 None\n"
     ]
    },
    {
     "data": {
      "text/html": [
       "<iframe id=\"igraph\" scrolling=\"no\" style=\"border:none;\" seamless=\"seamless\" src=\"https://plot.ly/~raulMrello/130.embed\" height=\"600px\" width=\"100%\"></iframe>"
      ],
      "text/plain": [
       "<plotly.tools.PlotlyDisplay object>"
      ]
     },
     "execution_count": 10,
     "metadata": {},
     "output_type": "execute_result"
    }
   ],
   "source": [
    "# plot supports levels for samples x1 and x2\n",
    "trace_ohlc,s1_shape=fms.plotHorizontalLine(x1+1, x1, x1+100, s.iloc[-1], color='brown', width=2, dash='dashdot')\n",
    "_,s2_shape=fms.plotHorizontalLine(x2+1, x2, x2+100, s.iloc[-2], color='violet', width=2, dash='dashdot')\n",
    "fig = go.Figure(data=[trace_ohlc])\n",
    "fig['layout'].update(height=600, title='Supports at {},{}'.format(x1+1,x2+1))\n",
    "fig['layout'].update(shapes=[s1_shape, s2_shape])\n",
    "#-------------\n",
    "def zoom(layout, xrange):\n",
    "    in_view = df.loc[fig.layout.xaxis.range[0]:fig.layout.xaxis.range[1]]\n",
    "    fig.layout.yaxis.range = [in_view.High.min() - 10, in_view.High.max() + 10]\n",
    "fig.layout.on_change(zoom, 'xaxis.range')\n",
    "py.iplot(fig, filename='simple_ohlc')"
   ]
  },
  {
   "cell_type": "code",
   "execution_count": 11,
   "metadata": {},
   "outputs": [
    {
     "data": {
      "text/plain": [
       "(6615, 6536)"
      ]
     },
     "execution_count": 11,
     "metadata": {},
     "output_type": "execute_result"
    }
   ],
   "source": [
    "# build supports and resistances levels from last trend zigzags\n",
    "_resist = fms.buildResistances(fms.getDataframe(), nan_value=0.0)\n",
    "r = _resist\n",
    "r = r[r != 0.0]\n",
    "x1 = r.index.values[-1]\n",
    "x2 = r.index.values[-2]\n",
    "x1,x2"
   ]
  },
  {
   "cell_type": "code",
   "execution_count": 12,
   "metadata": {},
   "outputs": [
    {
     "name": "stdout",
     "output_type": "stream",
     "text": [
      "DEBUG:urllib3.connectionpool:Starting new HTTPS connection (1): plot.ly:443\n",
      "DEBUG:urllib3.connectionpool:https://plot.ly:443 \"POST /clientresp HTTP/1.1\" 200 None\n"
     ]
    },
    {
     "data": {
      "text/html": [
       "<iframe id=\"igraph\" scrolling=\"no\" style=\"border:none;\" seamless=\"seamless\" src=\"https://plot.ly/~raulMrello/130.embed\" height=\"600px\" width=\"100%\"></iframe>"
      ],
      "text/plain": [
       "<plotly.tools.PlotlyDisplay object>"
      ]
     },
     "execution_count": 12,
     "metadata": {},
     "output_type": "execute_result"
    }
   ],
   "source": [
    "# plot supports levels for samples x1 and x2\n",
    "trace_ohlc,r1_shape=fms.plotHorizontalLine(at=x1+1, x0=x1, x1=x1+100, value=r.iloc[-1], color='brown', width=2, dash='dashdot')\n",
    "_,r2_shape=fms.plotHorizontalLine(x2+1, x2, x2+100, r.iloc[-2], color='violet', width=2, dash='dashdot')\n",
    "fig = go.Figure(data=[trace_ohlc])\n",
    "fig['layout'].update(height=600, title='Resistances at {},{}'.format(x1+1,x2+1))\n",
    "fig['layout'].update(shapes=[r1_shape, r2_shape])\n",
    "#-------------\n",
    "def zoom(layout, xrange):\n",
    "    in_view = df.loc[fig.layout.xaxis.range[0]:fig.layout.xaxis.range[1]]\n",
    "    fig.layout.yaxis.range = [in_view.High.min() - 10, in_view.High.max() + 10]\n",
    "fig.layout.on_change(zoom, 'xaxis.range')\n",
    "py.iplot(fig, filename='simple_ohlc')"
   ]
  },
  {
   "cell_type": "markdown",
   "metadata": {},
   "source": [
    "### Channels"
   ]
  },
  {
   "cell_type": "code",
   "execution_count": 25,
   "metadata": {},
   "outputs": [
    {
     "data": {
      "text/plain": [
       "(6625, 6625, 'P3,P1', 'P4,P2')"
      ]
     },
     "execution_count": 25,
     "metadata": {},
     "output_type": "execute_result"
    }
   ],
   "source": [
    "# build channel lines\n",
    "_channel = fms.buildChannel(fms.getDataframe(), nan_value='')\n",
    "_upperline = _channel['channel_upper_limit']\n",
    "_bottomline = _channel['channel_lower_limit']\n",
    "_upperline = _upperline[_upperline != '']\n",
    "_bottomline = _bottomline[_bottomline != '']\n",
    "_ux = _upperline.index.values[-1]\n",
    "_bx = _bottomline.index.values[-1]\n",
    "_ulast = _upperline.iloc[-1]\n",
    "_blast = _bottomline.iloc[-1]\n",
    "_ux,_bx,_ulast,_blast\n"
   ]
  },
  {
   "cell_type": "code",
   "execution_count": 26,
   "metadata": {},
   "outputs": [
    {
     "name": "stdout",
     "output_type": "stream",
     "text": [
      "DEBUG:urllib3.connectionpool:Starting new HTTPS connection (1): plot.ly:443\n",
      "DEBUG:urllib3.connectionpool:https://plot.ly:443 \"POST /clientresp HTTP/1.1\" 200 None\n"
     ]
    },
    {
     "data": {
      "text/html": [
       "<iframe id=\"igraph\" scrolling=\"no\" style=\"border:none;\" seamless=\"seamless\" src=\"https://plot.ly/~raulMrello/130.embed\" height=\"600px\" width=\"100%\"></iframe>"
      ],
      "text/plain": [
       "<plotly.tools.PlotlyDisplay object>"
      ]
     },
     "execution_count": 26,
     "metadata": {},
     "output_type": "execute_result"
    }
   ],
   "source": [
    "# plot channel lines for sample _ux or _bx\n",
    "x = _ux+1\n",
    "trace_ohlc, ch_shapes = fms.plotChannel(x, extended=100, color='black', width=1, dash='dashdot')\n",
    "fig = go.Figure(data=[trace_ohlc])\n",
    "fig['layout'].update(height=600, title='Channel at {}'.format(x))\n",
    "fig['layout'].update(shapes=ch_shapes)\n",
    "#-------------\n",
    "def zoom(layout, xrange):\n",
    "    in_view = df.loc[fig.layout.xaxis.range[0]:fig.layout.xaxis.range[1]]\n",
    "    fig.layout.yaxis.range = [in_view.High.min() - 10, in_view.High.max() + 10]\n",
    "fig.layout.on_change(zoom, 'xaxis.range')\n",
    "py.iplot(fig, filename='simple_ohlc')"
   ]
  },
  {
   "cell_type": "markdown",
   "metadata": {},
   "source": [
    "### Trends"
   ]
  },
  {
   "cell_type": "code",
   "execution_count": 27,
   "metadata": {},
   "outputs": [],
   "source": [
    "# build trends with different filters\n",
    "filters = {'sma-trend':0.75, 'zigzag-trend':0.15, 'fibo-trend':0.1}\n",
    "_trends = fms.buildTrends(fms.getDataframe(), filters = filters, nan_value=0.0)"
   ]
  },
  {
   "cell_type": "code",
   "execution_count": null,
   "metadata": {},
   "outputs": [],
   "source": [
    "# plot trends\n",
    "trace_ohlc, trend_shapes = fms.plotTrends(nan_value=0.0)\n",
    "fig = go.Figure(data=[trace_ohlc])\n",
    "fig['layout'].update(height=600, title='Trends')\n",
    "fig['layout'].update(shapes=trend_shapes)\n",
    "#-------------\n",
    "def zoom(layout, xrange):\n",
    "    in_view = df.loc[fig.layout.xaxis.range[0]:fig.layout.xaxis.range[1]]\n",
    "    fig.layout.yaxis.range = [in_view.High.min() - 10, in_view.High.max() + 10]\n",
    "fig.layout.on_change(zoom, 'xaxis.range')\n",
    "py.iplot(fig, filename='simple_ohlc')"
   ]
  },
  {
   "cell_type": "markdown",
   "metadata": {},
   "source": [
    "### Divergences"
   ]
  },
  {
   "cell_type": "code",
   "execution_count": 17,
   "metadata": {},
   "outputs": [],
   "source": [
    "# build divergences\n",
    "_bullish_div, _bearish_div = fms.buildDivergences(fms.getDataframe(), nan_value=0.0)"
   ]
  },
  {
   "cell_type": "code",
   "execution_count": null,
   "metadata": {
    "scrolled": true
   },
   "outputs": [],
   "source": [
    "# plot divergences\n",
    "trace_ohlc, trace_macd_main, trace_rsi, div_shapes = fms.plotDivergences(color='blue', nan_value = 0.0)\n",
    "fig = plotly.tools.make_subplots(rows=3, cols=1, subplot_titles=('OHLC', 'MACD', 'RSI'), shared_xaxes=True, vertical_spacing=0.1)\n",
    "fig.append_trace(trace_ohlc, 1, 1)\n",
    "fig.append_trace(trace_macd_main, 2, 1)\n",
    "fig.append_trace(trace_rsi, 3, 1)\n",
    "fig['layout'].update(height=600, title='Divergences')\n",
    "fig['layout'].update(shapes=div_shapes)\n",
    "py.iplot(fig, filename='simple_ohlc')"
   ]
  },
  {
   "cell_type": "markdown",
   "metadata": {},
   "source": [
    "### Indicator based API"
   ]
  },
  {
   "cell_type": "code",
   "execution_count": 26,
   "metadata": {},
   "outputs": [],
   "source": [
    "# load dataframe\n",
    "df = fms.loadCSV('../csv_data/EURUSD_H4.csv', sep=';')\n",
    "fms.loadDataframe(df)\n",
    "_df = fms.buildIndicators()\n",
    "fms.plotIndicators()"
   ]
  },
  {
   "cell_type": "code",
   "execution_count": 27,
   "metadata": {},
   "outputs": [
    {
     "name": "stdout",
     "output_type": "stream",
     "text": [
      "DEBUG:urllib3.connectionpool:Starting new HTTPS connection (1): plot.ly:443\n",
      "DEBUG:urllib3.connectionpool:https://plot.ly:443 \"POST /clientresp HTTP/1.1\" 200 None\n"
     ]
    },
    {
     "data": {
      "text/html": [
       "<iframe id=\"igraph\" scrolling=\"no\" style=\"border:none;\" seamless=\"seamless\" src=\"https://plot.ly/~raulMrello/130.embed\" height=\"600px\" width=\"100%\"></iframe>"
      ],
      "text/plain": [
       "<plotly.tools.PlotlyDisplay object>"
      ]
     },
     "execution_count": 27,
     "metadata": {},
     "output_type": "execute_result"
    }
   ],
   "source": [
    "fig = go.Figure(data=[fms.trace_ohlc, fms.trace_zigzag])\n",
    "fig['layout'].update(height=600, title='Bollinger indicators')\n",
    "fig['layout'].update(shapes=fms.trend_shapes)\n",
    "py.iplot(fig, filename='simple_ohlc')\n"
   ]
  }
 ],
 "metadata": {
  "accelerator": "TPU",
  "colab": {
   "collapsed_sections": [],
   "name": "FinTech_LSTM.ipynb",
   "provenance": [],
   "version": "0.3.2"
  },
  "kernelspec": {
   "display_name": "Python [conda env:keras]",
   "language": "python",
   "name": "conda-env-keras-py"
  },
  "language_info": {
   "codemirror_mode": {
    "name": "ipython",
    "version": 3
   },
   "file_extension": ".py",
   "mimetype": "text/x-python",
   "name": "python",
   "nbconvert_exporter": "python",
   "pygments_lexer": "ipython3",
   "version": "3.6.6"
  }
 },
 "nbformat": 4,
 "nbformat_minor": 1
}
